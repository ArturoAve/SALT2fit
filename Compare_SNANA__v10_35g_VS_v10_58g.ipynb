{
 "cells": [
  {
   "cell_type": "markdown",
   "metadata": {},
   "source": [
    "# Compare values computed with SNANA versions v10_35g vs v10_58g\n",
    "\n",
    "This is very useful. I use the version v10_35g to plot the SALT2 fits, because the Odyssey/SNANA_v10_58g was compiled without ROOT.\n",
    "The files to compare are the fitres files."
   ]
  },
  {
   "cell_type": "markdown",
   "metadata": {},
   "source": [
    "## User"
   ]
  },
  {
   "cell_type": "code",
   "execution_count": 12,
   "metadata": {},
   "outputs": [
    {
     "name": "stdout",
     "output_type": "stream",
     "text": [
      "# 43 SNe in this table 1.\n",
      "# 43 SNe in this table 2.\n"
     ]
    }
   ],
   "source": [
    "import numpy as np\n",
    "\n",
    "#---------------------------------------------------\n",
    "\n",
    "#    v10_35g\n",
    "\n",
    "DirTables_1 = '/Users/arturo/Dropbox/Research/SoftwareResearch/SNANA/\\\n",
    "Odyssey/home_snana/lowz/tests_ok/LOWZ_JRK07/snana_v10_35g_salt2ext/'\n",
    "\n",
    "DataFile_1 = 'LOWZ_JRK07.fitres'\n",
    "\n",
    "fitresFile_1 = np.genfromtxt(DirTables_1+DataFile_1, skip_header=2,\n",
    "                            dtype=['S3', 'S15',\n",
    "                                  float, float, float, float, float, float, float,\n",
    "                                  float, float, float, float, float, float, float, float,\n",
    "                                  float, float, float, float, float, float, float, float]) \n",
    "\n",
    "print \"# %s SNe in this table 1.\"%len(fitresFile_1)\n",
    "\n",
    "#----------------------------------------------------------------\n",
    "\n",
    "#   v10_58g\n",
    "\n",
    "DirTables_2 = '/Users/arturo/Dropbox/Research/SoftwareResearch/\\\n",
    "SNANA/Odyssey/home_snana/lowz/tests_ok/LOWZ_JRK07/snana_v10_58g_salt2ext/'\n",
    "\n",
    "DataFile_2 = 'snfit_LOWZ_JRK07.FITRES.TEXT'\n",
    "\n",
    "fitresFile_2 = np.genfromtxt(DirTables_2+DataFile_2, skip_header=7,\n",
    "                            dtype=['S3', 'S15',\n",
    "                                  float, float, 'S4',  float, float, float, float, float,\n",
    "                                  float, float, float, float, float, float, float, float,\n",
    "                                  float, float, float, float, float, float, float, float,\n",
    "                                  float, float, float, float, float, float, float, float,\n",
    "                                  float]) \n",
    "\n",
    "print \"# %s SNe in this table 2.\"%len(fitresFile_2)\n",
    "\n",
    "#----------------------------------------------------------------\n",
    "\n",
    "#    Dir to save the output report\n",
    "    \n",
    "DirSaveOutput = '/Users/arturo/Dropbox/Research/\\\n",
    "SoftwareResearch/SNANA/Odyssey/home_snana/lowz/tests_ok/LOWZ_JRK07/'\n",
    "\n",
    "# DirSaveOutput = DirTables_2\n",
    "\n",
    "NotebookName ='Compare_SNANA__v10_35g_VS_v10_58g__v1_0.ipynb'\n",
    "#--------------------------------------------------------------\n",
    "\n",
    "# 43 SNe in this table 1.\n",
    "# 43 SNe in this table 2."
   ]
  },
  {
   "cell_type": "markdown",
   "metadata": {},
   "source": [
    "--------"
   ]
  },
  {
   "cell_type": "markdown",
   "metadata": {},
   "source": [
    "## Automatic"
   ]
  },
  {
   "cell_type": "code",
   "execution_count": 13,
   "metadata": {},
   "outputs": [
    {
     "data": {
      "text/plain": [
       "11"
      ]
     },
     "execution_count": 13,
     "metadata": {},
     "output_type": "execute_result"
    }
   ],
   "source": [
    "import numpy as np\n",
    "from matplotlib import pyplot as plt\n",
    "5+6"
   ]
  },
  {
   "cell_type": "code",
   "execution_count": null,
   "metadata": {},
   "outputs": [],
   "source": []
  },
  {
   "cell_type": "code",
   "execution_count": 14,
   "metadata": {},
   "outputs": [
    {
     "data": {
      "application/javascript": [
       "var kernel = IPython.notebook.kernel;\n",
       "var thename = window.document.getElementById(\"notebook_name\").innerHTML;\n",
       "var command = \"NotebookName = \" + \"'\"+thename+\".ipynb\"+\"'\";\n",
       "kernel.execute(command);"
      ],
      "text/plain": [
       "<IPython.core.display.Javascript object>"
      ]
     },
     "metadata": {},
     "output_type": "display_data"
    }
   ],
   "source": [
    "%%javascript\n",
    "var kernel = IPython.notebook.kernel;\n",
    "var thename = window.document.getElementById(\"notebook_name\").innerHTML;\n",
    "var command = \"NotebookName = \" + \"'\"+thename+\".ipynb\"+\"'\";\n",
    "kernel.execute(command);"
   ]
  },
  {
   "cell_type": "code",
   "execution_count": 15,
   "metadata": {},
   "outputs": [
    {
     "name": "stdout",
     "output_type": "stream",
     "text": [
      "Compare_SNANA__v10_35g_VS_v10_58g__v1_0.ipynb\n"
     ]
    }
   ],
   "source": [
    "print(NotebookName)\n",
    "# 11_DistanceMu_HubbleDiagram_v2_17.ipynb"
   ]
  },
  {
   "cell_type": "code",
   "execution_count": 16,
   "metadata": {},
   "outputs": [],
   "source": [
    "# Get the current date and time\n",
    "import datetime \n",
    "\n",
    "# Read the time and date now\n",
    "now = datetime.datetime.now()"
   ]
  },
  {
   "cell_type": "markdown",
   "metadata": {},
   "source": [
    "### Main loop"
   ]
  },
  {
   "cell_type": "code",
   "execution_count": 17,
   "metadata": {},
   "outputs": [],
   "source": [
    "# Limits in the tolerance to report a difference between both values.\n",
    "\n",
    "z_tol = 0.001; zERR_tol = 0.001;\n",
    "x0_tol = 0.001; x0ERR_tol = 0.0005;\n",
    "c_tol = 0.008; cERR_tol = 0.009;\n",
    "x1_tol = 0.05; x1ERR_tol = 0.05;\n",
    "PKMJD_tol = 2; PKMJDERR_tol = 2;\n",
    "mB_tol = 0.01; mBERR_tol = 0.01;\n",
    "COV_x0_x1_tol = 1e-6; COV_x0_c_tol = 1e-6; COV_x1_c_tol = 1e-4;\n",
    "CHI2_tol = 3; NDOF_tol = 1; FITPROB_tol = 0.01;"
   ]
  },
  {
   "cell_type": "code",
   "execution_count": 18,
   "metadata": {},
   "outputs": [
    {
     "name": "stdout",
     "output_type": "stream",
     "text": [
      "#--------------------------------------------------\n",
      "# Comparison between SNANA versions v10_35g vs v10_58g \n",
      "# Fitres 1 (v10_35g): LOWZ_JRK07.fitres. \n",
      "# Fitres 2 (v10_58g): snfit_LOWZ_JRK07.FITRES.TEXT. \n",
      "# Location table 1: /Users/arturo/Dropbox/Research/SoftwareResearch/SNANA/Odyssey/home_snana/lowz/tests_ok/LOWZ_JRK07/snana_v10_35g_salt2ext/. \n",
      "# Location table 2: /Users/arturo/Dropbox/Research/SoftwareResearch/SNANA/Odyssey/home_snana/lowz/tests_ok/LOWZ_JRK07/snana_v10_58g_salt2ext/. \n",
      "      2000ca  2000ca\n",
      "      2000cf  2000cf\n",
      "      2000cn  2000cn\n",
      "      2000dk  2000dk\n",
      "      2000fa  2000fa\n",
      "      2001ba  2001ba\n",
      "      2001bt  2001bt\n",
      "      2001cn  2001cn\n",
      "      2001cz  2001cz\n",
      "       2001V  2001V\n",
      "      1990af  1990af\n",
      "       1990O  1990O\n",
      "      1992ae  1992ae\n",
      "      1992aq  1992aq\n",
      "      1992bg  1992bg\n",
      "      1992bh  1992bh\n",
      "      1992bl  1992bl\n",
      "      1992bo  1992bo\n",
      "      1992bp  1992bp\n",
      "      1992br  1992br\n",
      "      1992bs  1992bs\n",
      "       1992P  1992P\n",
      "      1993ag  1993ag\n",
      "       1993B  1993B\n",
      "       1993H  1993H\n",
      "       1993O  1993O\n",
      "       1994M  1994M\n",
      "       1994S  1994S\n",
      "      1995ak  1995ak\n",
      "      1996ab  1996ab\n",
      "      1996bl  1996bl\n",
      "      1996bv  1996bv\n",
      "       1996C  1996C\n",
      "      1997dg  1997dg\n",
      "       1997Y  1997Y\n",
      "      1998co  1998co\n",
      "      1998dx  1998dx\n",
      "      1998ef  1998ef\n",
      "      1998eg  1998eg\n",
      "      1999aa  1999aa\n",
      "      1999cc  1999cc\n",
      "      1999ek  1999ek\n",
      "      1999gd  1999gd\n",
      "# 43 names are in both tables. \n",
      "\n"
     ]
    }
   ],
   "source": [
    "text_file = open (DirSaveOutput+'Comparison_SALT2params_SNANA_v10_35g_-_v10_58g_.txt','w')\n",
    "\n",
    "text_01 = '# Comparison between SNANA versions v10_35g vs v10_58g \\n'\n",
    "text_02 = '# Fitres 1 (v10_35g): %s. \\n'%DataFile_1\n",
    "text_03 = '# Fitres 2 (v10_58g): %s. \\n'%DataFile_2\n",
    "text_04 = '# Location table 1: %s. \\n'%DirTables_1\n",
    "text_05 = '# Location table 2: %s. \\n'%DirTables_2\n",
    "\n",
    "text_line = '#'+'-'*50 + '\\n'\n",
    "text_Author = '# Data table created by: Arturo Avelino. \\n'\n",
    "now = datetime.datetime.now() # Read the time and date right now\n",
    "text_timenow = now.strftime(\"%Y-%m-%d (yyyy-mm-dd); %H:%M hrs.\")\n",
    "text_Date   = '# On date: %s \\n'%text_timenow\n",
    "text_script = '# Script used: %s \\n'%NotebookName\n",
    "\n",
    "text_file.write(text_01); text_file.write(text_02); \n",
    "text_file.write(text_03); text_file.write(text_04); \n",
    "text_file.write(text_05); \n",
    "\n",
    "text_file.write(text_line);\n",
    "text_file.write(text_Author); \n",
    "text_file.write(text_Date); \n",
    "text_file.write(text_script);\n",
    "text_file.write(text_line);\n",
    "\n",
    "text_file.write(\"# sn           z_1      zHD_2    z1-z2   1   zERR_1  zHDERR_2  \\\n",
    "zE1-ZE2 1   x0_1     x0_2    x01-x02  1   x0ERR_1  x0ERR_2  x0E1-x0E2 1  c_1       \\\n",
    "c_2      c1-c2   1   cERR_1   cERR_2  cE1-cE2  1   x1_1     x1_2    x1_1-x1_2 1   \\\n",
    "x1ERR_1  x1ERR_2 x1E1-x1E2 1  PKMJD_1     PKMJD_2   PKMJD1-PKMJD2 1    PKMJDERR_1 \\\n",
    "PKMJDERR_2  PKE1-PKE2   1  mB_1     mB_2      mB1-mB2 1   mBERR_1  mBERR_2 \\\n",
    "mBE1-mBE_2 1   COV_x0_x1_1     COV_x0_x1_2       C01_1-C01_2     1   COV_x0_c_1      \\\n",
    "COV_x0_c_2        Cx0c1-Cx0c2     1   COV_x1_c_1      COV_x1_c_2        Cx1c1-Cx1c2     \\\n",
    "1    CHI2_1     CHI2_2  CHI21-CHI22 1  NDOF_1 NDOF_2 N1-N2 1  FITPROB_1  FITPROB_2   \\\n",
    "FP1-FP2   #  Notes \\n\")     \n",
    "\n",
    "print text_line, text_01, text_02, text_03, text_04, text_05, \n",
    "text_line, text_Author, text_Date, text_script, text_line\n",
    "\n",
    "count_same = 0\n",
    "# Loop over SNe in the fitres file\n",
    "for i1 in range(len(fitresFile_1['f1'])):\n",
    "    sn_1 = fitresFile_1['f1'][i1];\n",
    "    z_1 = fitresFile_1['f2'][i1]; zERR_1 = fitresFile_1['f3'][i1]\n",
    "    x0_1 = fitresFile_1['f4'][i1]; x0ERR_1 = fitresFile_1['f5'][i1];\n",
    "    c_1 = fitresFile_1['f6'][i1]; cERR_1 = fitresFile_1['f7'][i1];\n",
    "    x1_1 = fitresFile_1['f8'][i1]; x1ERR_1 = fitresFile_1['f9'][i1];\n",
    "    PKMJD_1 = fitresFile_1['f10'][i1]; PKMJDERR_1 = fitresFile_1['f11'][i1];\n",
    "    mB_1 = fitresFile_1['f12'][i1]; mBERR_1 = fitresFile_1['f13'][i1];\n",
    "    COV_x0_x1_1 = fitresFile_1['f14'][i1]; COV_x0_c_1 = fitresFile_1['f15'][i1];\n",
    "    COV_x1_c_1 = fitresFile_1['f16'][i1];\n",
    "    # print COV_x0_x1_1, COV_x0_c_1, COV_x1_c_1\n",
    "    CHI2_1 = fitresFile_1['f17'][i1]; NDOF_1 = fitresFile_1['f18'][i1];\n",
    "    FITPROB_1 = fitresFile_1['f19'][i1];\n",
    "    # print CHI2_1, NDOF_1, FITPROB_1\n",
    "    \n",
    "    #-------------------\n",
    "    \n",
    "    for i2 in range(len(fitresFile_2['f1'])):\n",
    "    \n",
    "        sn_2 = fitresFile_2['f1'][i2];\n",
    "        \n",
    "        if sn_2 == sn_1:\n",
    "            \n",
    "            print \"%12s  %s\"%(sn_1, sn_2)\n",
    "            # Reset the parameters\n",
    "            note_z=''; note_zErr=''; note_x0=''; note_x0ERR='';\n",
    "            note_c=''; note_cERR=''; note_x1=''; note_x1ERR='';\n",
    "            note_PKMJD=''; note_PKMJDERR=''; note_mB=''; note_mBERR=''; \n",
    "            note_COV_x0_x1=''; note_COV_x0_c=''; note_COV_x1_c='';\n",
    "            note_CHI2=''; note_NDOF=''; note_FITPROB='';\n",
    "            \n",
    "            zHD_2 = fitresFile_2['f10'][i2]; zHDERR_2 = fitresFile_2['f11'][i2];\n",
    "            x0_2 = fitresFile_2['f27'][i2]; x0ERR_2 = fitresFile_2['f28'][i2];\n",
    "            c_2 = fitresFile_2['f23'][i2]; cERR_2 = fitresFile_2['f24'][i2];\n",
    "            x1_2 = fitresFile_2['f21'][i2]; x1ERR_2 = fitresFile_2['f22'][i2];\n",
    "            PKMJD_2 = fitresFile_2['f19'][i2]; PKMJDERR_2 = fitresFile_2['f20'][i2];\n",
    "            mB_2 = fitresFile_2['f25'][i2]; mBERR_2 = fitresFile_2['f26'][i2];\n",
    "            COV_x0_x1_2 = fitresFile_2['f30'][i2]; COV_x0_c_2 = fitresFile_2['f31'][i2];\n",
    "            COV_x1_c_2 = fitresFile_2['f29'][i2];\n",
    "            # print COV_x0_x1_2, COV_x0_c_2, COV_x1_c_2\n",
    "            CHI2_2 = fitresFile_2['f33'][i2]; NDOF_2 = fitresFile_2['f32'][i2];\n",
    "            FITPROB_2 = fitresFile_2['f34'][i2];\n",
    "            # print CHI2_2, NDOF_2, FITPROB_2\n",
    "            \n",
    "            #---------------------------------------------------\n",
    "            \n",
    "            if abs(z_1-zHD_2) > z_tol: note_z = \"z_1-zHD_2=%7.4f | \"%(z_1-zHD_2)\n",
    "            if abs(zERR_1-zHDERR_2) > zERR_tol: note_zErr = \"zERR_1-zHDERR_2=%7.4f | \"%(zERR_1-zHDERR_2)\n",
    "            if abs(x0_1-x0_2) > x0_tol: note_x0 = \"x0_1-x0_2=%7.4f | \"%(x0_1-x0_2)\n",
    "            if abs(x0ERR_1-x0ERR_2) > x0ERR_tol: note_x0ERR= \"x0ERR_1-x0ERR_2=%7.4f | \"%(x0ERR_1-x0ERR_2)\n",
    "            if abs(c_1-c_2) > c_tol: note_c = \"c_1-c_2=%7.4f | \"%(c_1-c_2)\n",
    "            if abs(cERR_1-cERR_2) > cERR_tol: note_cERR = \"cERR_1-cERR_2=%7.4f | \"%(cERR_1-cERR_2)\n",
    "            if abs(x1_1-x1_2) > x1_tol: note_x1 = \"x1_1-x1_2=%7.4f | \"%(x1_1-x1_2)\n",
    "            if abs(x1ERR_1-x1ERR_2) > x1ERR_tol: note_x1ERR = \"x1ERR_1-x1ERR_2=%7.4f | \"%(x1ERR_1-x1ERR_2)\n",
    "            if abs(PKMJD_1-PKMJD_2) > PKMJD_tol: note_PKMJD = \"PKMJD_1-PKMJD_2=%7.4f | \"%(PKMJD_1-PKMJD_2)\n",
    "            if abs(PKMJDERR_1-PKMJDERR_2) > PKMJDERR_tol: note_PKMJDERR = \"PKMJDERR_1-PKMJDERR_2=%7.4f | \"%(PKMJDERR_1-PKMJDERR_2)\n",
    "            if abs(mB_1-mB_2) > mB_tol: note_mB = \"mB_1-mB_2=%7.4f | \"%(mB_1-mB_2)\n",
    "            if abs(mBERR_1-mBERR_2) > mBERR_tol: note_mBERR = \"mBERR_1-mBERR_2=%7.4f | \"%(mBERR_1-mBERR_2)\n",
    "            if abs(COV_x0_x1_1-COV_x0_x1_2) > COV_x0_x1_tol: note_COV_x0_x1 = \"COV_x0_x1_1-COV_x0_x1_2=%12.4e | \"%(COV_x0_x1_1-COV_x0_x1_2)\n",
    "            if abs(COV_x0_c_1-COV_x0_c_2) > COV_x0_c_tol: note_COV_x0_c = \"COV_x0_c_1-COV_x0_c_2=%12.4e | \"%(COV_x0_c_1-COV_x0_c_2)\n",
    "            if abs(COV_x1_c_1-COV_x1_c_2) > COV_x1_c_tol: note_COV_x1_c = \"COV_x1_c_1-COV_x1_c_2=%12.4e | \"%(COV_x1_c_1-COV_x1_c_2)\n",
    "            if abs(CHI2_1-CHI2_2) > CHI2_tol: note_CHI2 = \"CHI2_1-CHI2_2=%7.4f | \"%(CHI2_1-CHI2_2)\n",
    "            if abs(NDOF_1-NDOF_2) > NDOF_tol: note_NDOF = \"NDOF_1-NDOF_2=%7.4f | \"%(NDOF_1-NDOF_2)\n",
    "            if abs(FITPROB_1-FITPROB_2) > FITPROB_tol: note_FITPROB = \"FITPROB_1-FITPROB_2=%7.4f | \"%(FITPROB_1-FITPROB_2)\n",
    "\n",
    "            text_file.write(\"%-12s  \\\n",
    "%7.4f  %7.4f  %7.4f  1  %7.4f  %7.4f  %7.4f  1  \\\n",
    "%7.4f  %7.4f  %7.4f  1  %7.4f  %7.4f  %7.4f    1  \\\n",
    "%7.4f  %7.4f  %7.4f  1  %7.4f  %7.4f  %7.4f  1  \\\n",
    "%7.4f  %7.4f  %7.4f   1  %7.4f  %7.4f  %7.4f   1  \\\n",
    "%7.4f  %7.4f  %7.4f     1    %7.4f    %7.4f     %7.4f     1  \\\n",
    "%7.4f  %7.4f  %7.4f  1  %7.4f  %7.4f  %7.4f    1  \\\n",
    "%12.4e    %12.4e      %12.4e     1  \\\n",
    "%12.4e    %12.4e      %12.4e     1  \\\n",
    "%12.4e    %12.4e      %12.4e     1  \\\n",
    "%9.4f  %9.4f  %9.4f  1  %4.0f  %4.0f  %4.0f    1  \\\n",
    "%7.4f    %7.4f    %9.6f  \\\n",
    "# %s%s%s%s%s%s%s%s%s%s%s%s%s%s%s%s%s%s \\n\"%(sn_1,\n",
    "            z_1, zHD_2, z_1-zHD_2, zERR_1, zHDERR_2, zERR_1-zHDERR_2, \n",
    "            x0_1, x0_2, x0_1-x0_2, x0ERR_1, x0ERR_2, x0ERR_1-x0ERR_2,\n",
    "            c_1, c_2, c_1-c_2, cERR_1, cERR_2, cERR_1-cERR_2,\n",
    "            x1_1,x1_2, x1_1-x1_2, x1ERR_1,x1ERR_2,x1ERR_1-x1ERR_2,\n",
    "            PKMJD_1, PKMJD_2, PKMJD_1-PKMJD_2, PKMJDERR_1,PKMJDERR_2,PKMJDERR_1-PKMJDERR_2,\n",
    "            mB_1,mB_2, mB_1-mB_2, mBERR_1,mBERR_2, mBERR_1-mBERR_2,\n",
    "            COV_x0_x1_1, COV_x0_x1_2, COV_x0_x1_1-COV_x0_x1_2,\n",
    "            COV_x0_c_1,  COV_x0_c_2,  COV_x0_c_1-COV_x0_c_2,\n",
    "            COV_x1_c_1,  COV_x1_c_2,  COV_x1_c_1-COV_x1_c_2,            \n",
    "            CHI2_1, CHI2_2, CHI2_1-CHI2_2, NDOF_1, NDOF_2, NDOF_1-NDOF_2, \n",
    "            FITPROB_1, FITPROB_2, FITPROB_1-FITPROB_2,                         \n",
    "            note_z, note_zErr, note_x0, note_x0ERR, note_c, note_cERR,\n",
    "            note_x1, note_x1ERR, note_PKMJD, note_PKMJDERR, note_mB, note_mBERR,\n",
    "            note_COV_x0_x1, note_COV_x0_c, note_COV_x1_c,\n",
    "            note_CHI2, note_NDOF, note_FITPROB ))\n",
    "            \n",
    "            count_same += 1\n",
    "    \n",
    "    \n",
    "text_10 = '# %s names are in both tables. \\n'%count_same\n",
    "text_file.write(text_line);\n",
    "text_file.write(text_10)\n",
    "print text_10\n",
    "\n",
    "text_file.close();"
   ]
  },
  {
   "cell_type": "code",
   "execution_count": 19,
   "metadata": {},
   "outputs": [],
   "source": [
    "text_file.close(); text_file.close();"
   ]
  },
  {
   "cell_type": "code",
   "execution_count": null,
   "metadata": {},
   "outputs": [],
   "source": []
  }
 ],
 "metadata": {
  "kernelspec": {
   "display_name": "Python [default]",
   "language": "python",
   "name": "python2"
  },
  "language_info": {
   "codemirror_mode": {
    "name": "ipython",
    "version": 2
   },
   "file_extension": ".py",
   "mimetype": "text/x-python",
   "name": "python",
   "nbconvert_exporter": "python",
   "pygments_lexer": "ipython2",
   "version": "2.7.13"
  }
 },
 "nbformat": 4,
 "nbformat_minor": 2
}
