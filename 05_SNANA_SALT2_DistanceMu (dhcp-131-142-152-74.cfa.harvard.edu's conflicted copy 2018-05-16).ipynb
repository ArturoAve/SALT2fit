{
 "cells": [
  {
   "cell_type": "markdown",
   "metadata": {},
   "source": [
    "# Distance modulus $\\mu$ from SNANA-SALT2 fit\n",
    "\n",
    "The distance modulus is determined from the SNANA-SALT2 fit and the global parameters reported in Table 6 of Scolnic et al. 2017 (https://arxiv.org/abs/1710.00845).\n",
    "\n",
    "This script outputs:\n",
    "    - a text file (with my format) of the distance moduli to create the Hubble diagram with 11.ipynb\n",
    "    - a simple Hubble diagram plot."
   ]
  },
  {
   "cell_type": "markdown",
   "metadata": {},
   "source": [
    "# USER"
   ]
  },
  {
   "cell_type": "code",
   "execution_count": 1,
   "metadata": {
    "collapsed": true
   },
   "outputs": [],
   "source": [
    "\n",
    "# (Arturo_v10_58g, Arturo_v10_35g, DavidJones)\n",
    "# The append in \"Arturo\" corresponds to the SNANA version used \n",
    "# during the computations.\n",
    "FitresFormat = 'Arturo_v10_58g'   \n",
    "\n",
    "NotebookName = 'SNANA_SALT2_DistanceMu.ipynb'\n",
    "\n",
    "#--------------\n",
    "\n",
    "sigma_vPec = 150  # 150 km/s \n",
    "\n",
    "cc = 299792.458  # Speed of light (km/s)\n",
    "MoFix = 19.36 # Absolute magnitude at T_Bmax. This is just a nuisance parameter\n",
    "HoFix = 73.24  # 70 = SNANA default value\n",
    "OmMFix = 0.28 # Omega_Matter # 0.3 = SNANA default value\n",
    "OmLFix = 0.72 # Omega_Lambda # 0.7 = SNANA default value\n",
    "wFix = -1 # Dark energy EoS # -1  = SNANA default value\n"
   ]
  },
  {
   "cell_type": "markdown",
   "metadata": {},
   "source": [
    "---------"
   ]
  },
  {
   "cell_type": "markdown",
   "metadata": {},
   "source": [
    "# Automatic\n",
    "\n",
    "## Some definitions"
   ]
  },
  {
   "cell_type": "code",
   "execution_count": 2,
   "metadata": {
    "collapsed": true
   },
   "outputs": [
    {
     "data": {
      "text/plain": [
       "9"
      ]
     },
     "execution_count": 2,
     "metadata": {},
     "output_type": "execute_result"
    }
   ],
   "source": [
    "import numpy as np\n",
    "from matplotlib import pyplot as plt\n",
    "from scipy.integrate import quad as intquad\n",
    "\n",
    "5+4"
   ]
  },
  {
   "cell_type": "code",
   "execution_count": null,
   "metadata": {},
   "outputs": [],
   "source": []
  },
  {
   "cell_type": "code",
   "execution_count": null,
   "metadata": {
    "collapsed": false
   },
   "outputs": [],
   "source": [
    "# OK\n",
    "\"\"\" \n",
    "# Distance modulus from modified Tripp formula as in Scolnic+17\n",
    "\n",
    "def muSALT2_func(mB, M, alpha, x1, beta, c1, gamma, tau, Mass, MassStep, Delta_mB, Delta_c, Delta_x1): \n",
    "    \n",
    "    DeltaM = gamma/(1 + np.exp(-(Mass-MassStep)/tau))\n",
    "    DeltaB = Delta_mB - beta*Delta_c + alpha*Delta_x1\n",
    "    distanceMu = mB - M + alpha*x1 - beta*c1 + DeltaM + DeltaB\n",
    "    \n",
    "    return distanceMu, DeltaM, DeltaB\n",
    "\n",
    "# Test from table 16.\n",
    "print '#', muSALT2_func(21.86, -18, 0.156, -2.3, 3.02, 0.05, 0.053, 0.001, 10.90, 10.13, 0.04, 0.025, 0.7)\n",
    "# (39.476899999999993, 0.052999999999999999, 0.07369999999999999)\n",
    "\"\"\"\n",
    "0"
   ]
  },
  {
   "cell_type": "code",
   "execution_count": null,
   "metadata": {
    "collapsed": false
   },
   "outputs": [],
   "source": [
    "# OK\n",
    "\"\"\"\n",
    "# Distance modulus from modified Tripp formula as in Rest+14\n",
    "\n",
    "def muSALT2_Rest14_func(mB, M, alpha, x1, beta, c1): \n",
    "    distanceMu = mB - M + alpha*x1 - beta*c1\n",
    "    return distanceMu\n",
    "\n",
    "#-------------------------------------------\n",
    "\n",
    "# Test\n",
    "\n",
    "Mfix = -19.35\n",
    "alphaFix = 0.147\n",
    "betaFix = 3.13\n",
    "\n",
    "print '# sn1990O (JRK07)', muSALT2_Rest14_func(15.993, Mfix, alphaFix, 0.476, betaFix, -0.054)\n",
    "# sn1990O (JRK07) 35.581992\n",
    "\n",
    "print '# sn2005el (CfA3)', muSALT2_Rest14_func(14.671, Mfix, alphaFix, -1.242, betaFix, -0.070)\n",
    "# sn2005el (CfA3) 34.057526\n",
    "\"\"\"\n",
    "0"
   ]
  },
  {
   "cell_type": "code",
   "execution_count": 3,
   "metadata": {
    "collapsed": true
   },
   "outputs": [],
   "source": [
    "# OK\n",
    "# David Jones codes:\n",
    "    \n",
    "def salt2mu(z=None, x0=None, c=None, cerr=None, x1=None, x1err=None,\n",
    "             mb=None, mberr=None, cov_x1_x0=None, cov_c_x0=None, cov_x1_c=None, \n",
    "            alpha=None, beta=None, sigint=None, Mo=None, sigma_vPec=None):\n",
    "\n",
    "    # The distance modulus mean value:\n",
    "    mu_out = mb + x1*alpha - beta*c + MoFix     \n",
    "     \n",
    "    #  Computing the distance-modulus uncertainty (Tripp formula):\n",
    "    sf = -2.5/(x0*np.log(10.0))\n",
    "    cov_mb_c = cov_c_x0*sf\n",
    "    cov_mb_x1 = cov_x1_x0*sf\n",
    "    \n",
    "    # Propagation of uncertainty from Tripp formula and accountig for correlations:\n",
    "    sigma2_mu_Tripp = (mberr**2. + (alpha**2.)*(x1err**2.) + (beta**2.)*(cerr**2.) + \\\n",
    "                         2.0*alpha*cov_mb_x1 - 2.0*beta*cov_mb_c - \\\n",
    "                         2.0*alpha*beta*cov_x1_c )\n",
    "\n",
    "    # Uncertainty in distance modulus due to peculiar velocity uncertainty:\n",
    "    zerr = (sigma_vPec/cc)*5.0/np.log(10)*(1.0+z)/(z*(1.0+z/2.0))\n",
    "    \n",
    "    # Total distance-modulus uncertainty:\n",
    "    muerr_out = np.sqrt(sigma2_mu_Tripp + zerr**2. + (0.055**2.)*(z**2.) + sigint**2. )\n",
    "    \n",
    "    return (mu_out, muerr_out, sigma2_mu_Tripp)\n",
    "\n",
    "# print '# Test' \n",
    "alpha_test = 0.147 \n",
    "beta_test =  3.00\n",
    "sigmaInt_test = 0.11\n",
    "\n",
    "# print '# 2006le (PS1s_CFA3_KEPLERCAM_RS14):', \\\n",
    "# salt2mu(0.0172, 0.26064E-01, -0.0669,  0.0640,  0.8947,  0.0506, \n",
    "#         14.5949,  0.2197,   0.895E-04,  -0.349E-03,  -0.104E-02, \n",
    "#         alpha_test, beta_test, sigmaInt_test, MoFix, sigma_vPec)  \n",
    "\n",
    "# print '# 2006lf (PS1s_CFA3_KEPLERCAM_RS14):', \\\n",
    "# salt2mu(0.0124, 0.78991E-01, -0.2086,  0.1013, -1.3905, 0.0674, \n",
    "#         13.3911,  0.3646, 0.228E-03,  -0.376E-02,  -0.721E-03, \n",
    "#         alpha_test, beta_test, sigmaInt_test, MoFix, sigma_vPec)  \n",
    "        "
   ]
  },
  {
   "cell_type": "code",
   "execution_count": null,
   "metadata": {
    "collapsed": true
   },
   "outputs": [],
   "source": []
  },
  {
   "cell_type": "code",
   "execution_count": 4,
   "metadata": {
    "collapsed": false
   },
   "outputs": [
    {
     "name": "stdout",
     "output_type": "stream",
     "text": [
      "# Checking that the functions work well: 33.0773926577\n"
     ]
    }
   ],
   "source": [
    "# Inverse of the dimensionless Hubble parameter\n",
    "def InvEHubblePar(z, OmM, wde):\n",
    "    \"Dimensionless Hubble parameter\"\n",
    "    InvEHubbleParInt = 1.0/(np.sqrt(OmM*(1.0+z)**3.0 + (1.0-OmM)*(1.+z)**(3.*(1.+wde))))\n",
    "    return InvEHubbleParInt\n",
    "\n",
    "# ---- The luminosity distance ----\n",
    "def LumDistanceVec(z, OmM, wde, Ho):\n",
    "    \"Luminosity distance\"\n",
    "    LumDistanceVecInt = 0.\n",
    "    LumDistanceVecInt = cc*(1.+z)*intquad(InvEHubblePar, 0., z, args=(OmM, wde))[0]/Ho \n",
    "    return LumDistanceVecInt\n",
    "\n",
    "# ---- Distance modulus scalar ----\n",
    "def DistanceMu(z, OmM, wde, Ho):\n",
    "    \"Distance modulus\"     \n",
    "    DistanceMuInt = 5.0*np.log10(LumDistanceVec(z, OmM, wde, Ho)) + 25.0\n",
    "    return DistanceMuInt\n",
    "\n",
    "# ---- Distance modulus Vector ----\n",
    "def DistanceMuVector(z, OmM, wde, Ho):\n",
    "    \"Distance modulus\"     \n",
    "    DistanceMuInt= []\n",
    "    for i in range(len(z)):\n",
    "        DistanceMuInt += [5.0*np.log10(LumDistanceVec(z[i], OmM, wde, Ho)) + 25.0] \n",
    "    return DistanceMuInt\n",
    "\n",
    "#--------------------------------------------------\n",
    "\n",
    "ztest1 = 0.01\n",
    "\n",
    "print '# Checking that the functions work well:', DistanceMu(ztest1, OmMFix, wFix, HoFix)\n",
    "# Checking that the functions work well: 33.1753183809"
   ]
  },
  {
   "cell_type": "code",
   "execution_count": 5,
   "metadata": {
    "collapsed": false
   },
   "outputs": [
    {
     "data": {
      "text/plain": [
       "0.052125037354329877"
      ]
     },
     "execution_count": 5,
     "metadata": {},
     "output_type": "execute_result"
    }
   ],
   "source": [
    "# sigma^2_mu from the peculiar velocity uncertainty\n",
    "# This function is used to determine in the sections \"Intrinsic dispersion\" and \"Optical RMS\", to\n",
    "# determine the intrinsic dispersion.\n",
    "\n",
    "def sigma2_pec(zcmb, err_zcmb, vpec):\n",
    "    sigma2_pecInt = ((5/(zcmb*np.log(10)))*np.sqrt((vpec/cc)**2 + err_zcmb**2))**2\n",
    "    return sigma2_pecInt\n",
    "\n",
    "# Test\n",
    "sigma2_pec(0.0109942726, 0.0010420420, 150)\n",
    "# 0.052125037354329877"
   ]
  },
  {
   "cell_type": "code",
   "execution_count": null,
   "metadata": {
    "collapsed": true
   },
   "outputs": [],
   "source": []
  },
  {
   "cell_type": "markdown",
   "metadata": {},
   "source": [
    "### Cepheid distances"
   ]
  },
  {
   "cell_type": "code",
   "execution_count": null,
   "metadata": {
    "collapsed": false
   },
   "outputs": [],
   "source": [
    "# OK but not used\n",
    "\"\"\" \n",
    "DirSNeWithCepheid = '/Users/arturo/Dropbox/Research/SoftwareResearch/Snoopy/AndyLCComp/MyNotesAbout/'\n",
    "\n",
    "ListSNeCepheid = np.genfromtxt(DirSNeWithCepheid+'SNeWithCepheidDistances.txt', dtype=['S10', \n",
    "                                                float,float,float,float,float,float])\n",
    "# ListSNeCepheid = np.genfromtxt(DirSNeWithCepheid+'SNeWithCepheidDistances_hack.txt', dtype=['S10',\n",
    "#                                                 float,float,float,float,float,float]) \n",
    "\n",
    "ListSNeCepheid['f0']\n",
    "\"\"\"\n",
    "0"
   ]
  },
  {
   "cell_type": "markdown",
   "metadata": {},
   "source": [
    "#### Get the name of this ipython notebook\n",
    "To print it in the output text files as reference"
   ]
  },
  {
   "cell_type": "code",
   "execution_count": null,
   "metadata": {
    "collapsed": false
   },
   "outputs": [],
   "source": [
    "%%javascript\n",
    "var kernel = IPython.notebook.kernel;\n",
    "var thename = window.document.getElementById(\"notebook_name\").innerHTML;\n",
    "var command = \"NotebookName = \" + \"'\"+thename+\".ipynb\"+\"'\";\n",
    "kernel.execute(command);"
   ]
  },
  {
   "cell_type": "code",
   "execution_count": null,
   "metadata": {
    "collapsed": false
   },
   "outputs": [],
   "source": [
    "print '#', (NotebookName)\n",
    "# Update_zcmb_in_SNANA_datafiles_v1_0.ipynb"
   ]
  },
  {
   "cell_type": "code",
   "execution_count": 6,
   "metadata": {
    "collapsed": true
   },
   "outputs": [],
   "source": [
    "# Get the current date and time\n",
    "import datetime \n",
    "\n",
    "# Read the time and date now\n",
    "now = datetime.datetime.now()"
   ]
  },
  {
   "cell_type": "code",
   "execution_count": null,
   "metadata": {
    "collapsed": true
   },
   "outputs": [],
   "source": []
  },
  {
   "cell_type": "markdown",
   "metadata": {},
   "source": [
    "---------"
   ]
  },
  {
   "cell_type": "markdown",
   "metadata": {},
   "source": [
    "# Compute $(\\mu, \\sigma_{\\mu})$"
   ]
  },
  {
   "cell_type": "markdown",
   "metadata": {},
   "source": [
    "### User"
   ]
  },
  {
   "cell_type": "code",
   "execution_count": 7,
   "metadata": {},
   "outputs": [],
   "source": [
    "# USER\n",
    "\n",
    "# DES\n",
    "\"\"\"\n",
    "DirSALT2Fit = '/Users/arturo/Dropbox/Research/Articulos/12_RAISINs/Data/\\\n",
    "RAISIN_2/Data/DES/2017_11_21/Photometry/fit_SomeLinesCommented_ok/'\n",
    "\n",
    "sample = 'snana_salt2_fit' # Folder name\n",
    "FitresFile = 'des.fitres'\n",
    "SampleFlag = '1'   # 1 =CfA, 2=CSP, 3=Others\n",
    "\"\"\" \n",
    "\n",
    "\n",
    "# PS1 + DES \n",
    "DirSALT2Fit = '/Users/arturo/Dropbox/Research/Articulos/12_RAISINs/Data/raisin12/'\n",
    "\n",
    "sample = 'hubblediagram' # Folder name\n",
    "FitresFile = 'ps1_des_Notes_.fitres'\n",
    "SampleFlag = '1'   # 1 =CfA, 2=CSP, 3=Others\n",
    "\n",
    "#-----------------------------\n",
    "\n",
    "# The distance modulus is determined from the SNANA-SALT2 fit and the global \n",
    "# parameters reported in Table 6 of Scolnic et al. 2017 \n",
    "# (https://arxiv.org/abs/1710.00845).\n",
    "\n",
    "# Global parameters in the Tripp formula for: high-z.\n",
    "\n",
    "alpha = 0.165 \n",
    "beta =  2.93\n",
    "sigmaInt = 0.09\n",
    "\n",
    "\n",
    "# 0"
   ]
  },
  {
   "cell_type": "code",
   "execution_count": null,
   "metadata": {
    "collapsed": true
   },
   "outputs": [],
   "source": [
    "# USER\n",
    "\n",
    "DirSALT2Fit = '/Users/arturo/Dropbox/Research/SoftwareResearch/SNANA/Odyssey/\\\n",
    "home_snana/lowz/'\n",
    "\n",
    "\n",
    "sample = 'GaussianProcessSubsample' # Folder name\n",
    "# FitresFile = 'GP_subsample_.fitres'\n",
    "FitresFile = 'GP_subsample_.fitres'\n",
    "SampleFlag = '1'   # 1 =CfA, 2=CSP, 3=Others\n",
    "\n",
    "\n",
    "\"\"\"\n",
    "sample = 'JLA2014_CfAIII_KEPLERCAM' # Folder name\n",
    "FitresFile = 'JLA2014_CfAIII_KEPLERCAM.fitres'\n",
    "SampleFlag = '1'   # 1 =CfA, 2=CSP, 3=Others\n",
    "\"\"\"\n",
    "\n",
    "\"\"\"\n",
    "sample = 'JLA2014_CSP' # Folder name\n",
    "FitresFile = 'JLA2014_CSP.fitres'\n",
    "SampleFlag = '2'   # 1 =CfA, 2=CSP, 3=Others\n",
    "\"\"\"\n",
    "\n",
    "\"\"\"\n",
    "sample = 'JLA2014_LOWZ_LANDOLT' # Folder name\n",
    "FitresFile = 'JLA2014_LOWZ_LANDOLT.fitres'\n",
    "SampleFlag = '2'   # 1 =CfA, 2=CSP, 3=Others\n",
    "\"\"\"\n",
    "\n",
    "\"\"\"\n",
    "sample = 'LOWZ_FromAndyFriedman' # Folder name\n",
    "FitresFile = 'LOWZ_FromAndyFriedman.fitres'\n",
    "SampleFlag = '1'   # 1 =CfA, 2=CSP, 3=Others\n",
    "\"\"\"\n",
    "\n",
    "\"\"\"\n",
    "sample = 'LOWZ_JRK07' # Folder name\n",
    "FitresFile = 'LOWZ_JRK07.fitres'\n",
    "SampleFlag = '2'   # 1 =CfA, 2=CSP, 3=Others\n",
    "\"\"\"\n",
    "\n",
    "\"\"\"\n",
    "sample = 'PS1s_CFA3_4SHOOTER2_RS14' # Folder name\n",
    "FitresFile = 'PS1s_CFA3_4SHOOTER2_RS14.fitres'\n",
    "SampleFlag = '1'   # 1 =CfA, 2=CSP, 3=Others\n",
    "\"\"\"\n",
    "\n",
    "\"\"\"\n",
    "sample = 'PS1s_CFA3_KEPLERCAM_RS14' # Folder name\n",
    "FitresFile = 'PS1s_CFA3_KEPLERCAM_RS14.fitres'\n",
    "SampleFlag = '1'   # 1 =CfA, 2=CSP, 3=Others\n",
    "\"\"\"\n",
    "\n",
    "\"\"\"\n",
    "sample = 'PS1s_CFA4_p1_RS14' # Folder name\n",
    "FitresFile = 'PS1s_CFA4_p1_RS14.fitres'\n",
    "SampleFlag = '1'   # 1 =CfA, 2=CSP, 3=Others\n",
    "\"\"\"\n",
    "\n",
    "\"\"\"\n",
    "sample = 'PS1s_CFA4_p2_RS14' # Folder name\n",
    "FitresFile = 'PS1s_CFA4_p2_RS14.fitres'\n",
    "SampleFlag = '1'   # 1 =CfA, 2=CSP, 3=Others\n",
    "\"\"\"\n",
    "\n",
    "\"\"\"\n",
    "sample = 'PS1s_CSPDR2' # Folder name\n",
    "FitresFile = 'PS1s_CSPDR2.fitres'\n",
    "SampleFlag = '2'   # 1 =CfA, 2=CSP, 3=Others\n",
    "\"\"\"\n",
    "\n",
    "\n",
    "#-----------------------------\n",
    "\n",
    "# The distance modulus is determined from the SNANA-SALT2 fit and the global \n",
    "# parameters reported in Table 6 of Scolnic et al. 2017 \n",
    "# (https://arxiv.org/abs/1710.00845).\n",
    "\n",
    "# Global parameters in the Tripp formula for: low-z.\n",
    "\n",
    "alpha = 0.147 \n",
    "beta =  3.00\n",
    "sigmaInt = 0.11\n",
    "\n",
    "\n",
    "#-----------------------------\n",
    "0"
   ]
  },
  {
   "cell_type": "code",
   "execution_count": null,
   "metadata": {},
   "outputs": [],
   "source": []
  },
  {
   "cell_type": "markdown",
   "metadata": {},
   "source": [
    "### Automatic"
   ]
  },
  {
   "cell_type": "code",
   "execution_count": 8,
   "metadata": {
    "collapsed": false
   },
   "outputs": [
    {
     "name": "stdout",
     "output_type": "stream",
     "text": [
      "# 43 SNe in this file.\n"
     ]
    }
   ],
   "source": [
    "\n",
    "\n",
    "if FitresFormat == 'Arturo': \n",
    "    try: \n",
    "        snanaSalt2Fit_np =np.genfromtxt(DirSALT2Fit+sample+'/'+FitresFile[:-7]+'Notes_.fitres', \n",
    "                                        skip_header=2, comments='#',\n",
    "                                        dtype=['S3', 'S15',\n",
    "                                              float, float, float, float, float, float, float,\n",
    "                                              float, float, float, float, float, float, float, float,\n",
    "                                              float, float, float, float, float, float, float, float] )\n",
    "    except:\n",
    "        snanaSalt2Fit_np =np.genfromtxt(DirSALT2Fit+sample+'/'+FitresFile, \n",
    "                                        skip_header=2, comments='#',\n",
    "                                        dtype=['S3', 'S15',\n",
    "                                              float, float, float, float, float, float, float,\n",
    "                                              float, float, float, float, float, float, float, float,\n",
    "                                              float, float, float, float, float, float, float, float] ) \n",
    "\n",
    "\n",
    "\n",
    "    \n",
    "#  David Jones fitres file:\n",
    "elif FitresFormat == 'DavidJones': \n",
    "    snanaSalt2Fit_np =np.genfromtxt(DirSALT2Fit+sample+'/'+FitresFile, \n",
    "                                    skip_header=2, comments='#',\n",
    "                                    dtype=['S3', 'S15',float, float, 'S4', \n",
    "                                          float, float, float, float, float, float, float, float, float, float,\n",
    "                                          float, float, float, float, float, float, float, float, float, float,\n",
    "                                          float, float, float, float, float, float, float, float, float, float] ) \n",
    "\n",
    "\n",
    "#----------------\n",
    "\n",
    "DirSaveOutput = DirSALT2Fit+sample+'/'\n",
    "\n",
    "print '# %s SNe in this file.'%(len(snanaSalt2Fit_np))\n",
    "# 55 SNe in this file."
   ]
  },
  {
   "cell_type": "code",
   "execution_count": null,
   "metadata": {
    "collapsed": false
   },
   "outputs": [],
   "source": [
    "DirSaveOutput"
   ]
  },
  {
   "cell_type": "code",
   "execution_count": null,
   "metadata": {
    "collapsed": true
   },
   "outputs": [],
   "source": [
    "# snanaSalt2Fit_np"
   ]
  },
  {
   "cell_type": "code",
   "execution_count": null,
   "metadata": {
    "collapsed": true
   },
   "outputs": [],
   "source": []
  },
  {
   "cell_type": "code",
   "execution_count": 9,
   "metadata": {
    "collapsed": true
   },
   "outputs": [],
   "source": [
    "# Computing the distance modulus\n",
    "\n",
    "# Define some variable arrays:\n",
    "\n",
    "\n",
    "# Reading my own fitres files:\n",
    "if FitresFormat == 'Arturo': \n",
    "    z_np =  snanaSalt2Fit_np['f2']\n",
    "    zerr_np = snanaSalt2Fit_np['f3'] # Not needed to compute the distance modulus.\n",
    "    x0_np = snanaSalt2Fit_np['f4']\n",
    "    c_np = snanaSalt2Fit_np['f6']\n",
    "    cerr_np = snanaSalt2Fit_np['f7']\n",
    "    x1_np = snanaSalt2Fit_np['f8']\n",
    "    x1err_np = snanaSalt2Fit_np['f9']\n",
    "    mb_np =  snanaSalt2Fit_np['f12']\n",
    "    mberr_np =  snanaSalt2Fit_np['f13']\n",
    "    cov_x1_c_np =  snanaSalt2Fit_np['f16']\n",
    "    cov_x1_x0_np =  snanaSalt2Fit_np['f14']\n",
    "    cov_c_x0_np =  snanaSalt2Fit_np['f15']\n",
    "    chi2_np = snanaSalt2Fit_np['f17'] # Not needed to compute the distance modulus.\n",
    "    Ndof_np = snanaSalt2Fit_np['f18']  # Not needed to compute the distance modulus.\n",
    "\n",
    "\n",
    "#   David Jones fitres file:\n",
    "elif FitresFormat == 'DavidJones': \n",
    "    z_np =  snanaSalt2Fit_np['f6']\n",
    "    zerr_np = snanaSalt2Fit_np['f7'] # Not needed to compute the distance modulus.\n",
    "    x0_np = snanaSalt2Fit_np['f25']\n",
    "    c_np = snanaSalt2Fit_np['f21']\n",
    "    cerr_np = snanaSalt2Fit_np['f22']\n",
    "    x1_np = snanaSalt2Fit_np['f19']\n",
    "    x1err_np = snanaSalt2Fit_np['f20']\n",
    "    mb_np =  snanaSalt2Fit_np['f23']\n",
    "    mberr_np =  snanaSalt2Fit_np['f24']\n",
    "    cov_x1_c_np =  snanaSalt2Fit_np['f27']\n",
    "    cov_x1_x0_np =  snanaSalt2Fit_np['f28']\n",
    "    cov_c_x0_np =  snanaSalt2Fit_np['f29']\n",
    "    chi2_np = snanaSalt2Fit_np['f31'] # Not needed to compute the distance modulus. \n",
    "    Ndof_np = snanaSalt2Fit_np['f30']  # Not needed to compute the distance modulus.\n",
    "\n",
    "\n",
    "#------------------\n",
    "\n",
    "# Computing the distance modulus:\n",
    "mu_SALT2 = salt2mu(z_np, x0_np, c_np, cerr_np, x1_np, x1err_np, \n",
    "                   mb_np, mberr_np, cov_x1_x0_np, cov_c_x0_np, cov_x1_c_np, \n",
    "                  alpha, beta, sigmaInt, MoFix, sigma_vPec)"
   ]
  },
  {
   "cell_type": "code",
   "execution_count": 10,
   "metadata": {
    "collapsed": false
   },
   "outputs": [
    {
     "data": {
      "text/plain": [
       "array([ 0.12903952,  0.15465877,  0.11339651,  0.21447627,  0.12218819,\n",
       "        0.17842704,  0.11231256,  0.12212777,  0.15888002,  0.15953631,\n",
       "        0.12209652,  0.13364083,  0.29831534,  0.11684408,  0.11226153,\n",
       "        0.16712541,  0.11590342,  0.17024935,  0.23873116,  0.2289962 ,\n",
       "        0.17386934,  0.16475577,  0.13394221,  0.20707531,  0.1169849 ,\n",
       "        0.13284798,  0.14078088,  0.15111927,  0.11757645,  0.14013059,\n",
       "        0.11899907,  0.13658408,  0.16624993,  0.15037159,  0.11524645,\n",
       "        0.13204612,  0.11508474,  0.12182895,  0.12045016,  0.12694215,\n",
       "        0.13365191,  0.11181815,  0.11922105])"
      ]
     },
     "execution_count": 10,
     "metadata": {},
     "output_type": "execute_result"
    }
   ],
   "source": [
    "# Inspect for 'nan' values in the total distance-modulus uncertanty. \n",
    "# It means there is something wrong for that SN. I could 'comment' that SN.\n",
    "\n",
    "mu_SALT2[1]"
   ]
  },
  {
   "cell_type": "code",
   "execution_count": 11,
   "metadata": {
    "collapsed": false
   },
   "outputs": [
    {
     "data": {
      "text/plain": [
       "array([ 0.00825177,  0.01524344,  0.00454639,  0.03738195,  0.00648448,\n",
       "        0.02336108,  0.00433824,  0.00646391,  0.01659502,  0.01698875,\n",
       "        0.00650106,  0.00942584,  0.08012298,  0.00524959,  0.00424176,\n",
       "        0.01931278,  0.00508523,  0.02018747,  0.04834472,  0.04374512,\n",
       "        0.02184154,  0.01807398,  0.00933716,  0.03365636,  0.00499658,\n",
       "        0.00887504,  0.01117618,  0.01422062,  0.00494184,  0.01079498,\n",
       "        0.00531503,  0.00984721,  0.01876636,  0.01385177,  0.00476435,\n",
       "        0.00875198,  0.00420136,  0.006434  ,  0.00590704,  0.00745965,\n",
       "        0.00862799,  0.00412778,  0.00550551])"
      ]
     },
     "execution_count": 11,
     "metadata": {},
     "output_type": "execute_result"
    }
   ],
   "source": [
    "# Inspect for negative values for the distance-modulus uncertainty that \n",
    "# comes from Tripp formula. It means there is something wrong for that SN.\n",
    "# I could 'comment' that SN.\n",
    "\n",
    "mu_SALT2[2]"
   ]
  },
  {
   "cell_type": "code",
   "execution_count": 12,
   "metadata": {
    "collapsed": false
   },
   "outputs": [
    {
     "name": "stdout",
     "output_type": "stream",
     "text": [
      "# SN name|   mu   |  sigma_mu | sigma^2_mu_photo\n",
      "PSc440005  |  40.98201  |  0.12904   | 0.00825\n",
      "PSc440236  |  41.74312  |  0.15466   | 0.01524\n",
      "PSc450082  |  40.50574  |  0.11340   | 0.00455\n",
      "PSc450339  |  41.78850  |  0.21448   | 0.03738\n",
      "PSc470041  |  41.11815  |  0.12219   | 0.00648\n",
      "PSc470110  |  41.25896  |  0.17843   | 0.02336\n",
      "PSc480464  |  40.15110  |  0.11231   | 0.00434\n",
      "PSc480794  |  41.33766  |  0.12213   | 0.00646\n",
      "PSc490037  |  41.70231  |  0.15888   | 0.01660\n",
      "PSc490521  |  41.02270  |  0.15954   | 0.01699\n",
      "PSc500100  |  41.13726  |  0.12210   | 0.00650\n",
      "PSc500301  |  41.26440  |  0.13364   | 0.00943\n",
      "PSc510457  |  42.11536  |  0.29832   | 0.08012\n",
      "PSc520062  |  41.27282  |  0.11684   | 0.00525\n",
      "PSc520188  |  40.85257  |  0.11226   | 0.00424\n",
      "PSc530251  |  41.81793  |  0.16713   | 0.01931\n",
      "PSc540087  |  40.84257  |  0.11590   | 0.00509\n",
      "PSc540118  |  42.29635  |  0.17025   | 0.02019\n",
      "PSc550202  |  42.06079  |  0.23873   | 0.04834\n",
      "PSc560027  |  41.82109  |  0.22900   | 0.04375\n",
      "PSc560054  |  41.31133  |  0.17387   | 0.02184\n",
      "DES15E2uc  |  42.39799  |  0.16476   | 0.01807\n",
      "DES15X2kvt  |  41.64380  |  0.13394   | 0.00934\n",
      "DES15X2mey  |  42.84377  |  0.20708   | 0.03366\n",
      "DES15E2mhy  |  41.77770  |  0.11698   | 0.00500\n",
      "DES15X2nkz  |  41.85815  |  0.13285   | 0.00888\n",
      "DES15C1nhv  |  41.55901  |  0.14078   | 0.01118\n",
      "DES15E2nlz  |  41.83271  |  0.15112   | 0.01422\n",
      "DES15C3odz  |  42.30965  |  0.11758   | 0.00494\n",
      "DES16E2rd  |  42.02823  |  0.14013   | 0.01079\n",
      "DES16X3zd  |  42.14125  |  0.11900   | 0.00532\n",
      "DES16S2afz  |  42.07248  |  0.13658   | 0.00985\n",
      "DES16S1agd  |  42.25069  |  0.16625   | 0.01877\n",
      "DES16S1bno  |  42.09175  |  0.15037   | 0.01385\n",
      "DES16E2clk  |  41.65070  |  0.11525   | 0.00476\n",
      "DES16X1cpf  |  42.02133  |  0.13205   | 0.00875\n",
      "DES16C3cmy  |  42.48005  |  0.11508   | 0.00420\n",
      "DES16X2crr  |  41.22695  |  0.12183   | 0.00643\n",
      "DES16C2cva  |  41.70152  |  0.12045   | 0.00591\n",
      "DES16E2cqq  |  41.86070  |  0.12694   | 0.00746\n",
      "DES16X3cry  |  42.88361  |  0.13365   | 0.00863\n",
      "DES16E2cxw  |  40.72954  |  0.11182   | 0.00413\n",
      "DES16E1dcx  |  41.89830  |  0.11922   | 0.00551\n"
     ]
    }
   ],
   "source": [
    "# Checking if any supernovae has NEGATIVE value for the distance-modulus\n",
    "# uncertainty that comes from Tripp formula, or 'nan' in its total uncertanty;\n",
    "# in any case it means that there is something wrong for that SN. I could \n",
    "# 'comment' that SN.\n",
    "\n",
    "print '# SN name|   mu   |  sigma_mu | sigma^2_mu_photo'\n",
    "for i in range(len(mu_SALT2[0])):\n",
    "    print '%-8s  |  %.5f  |  %.5f   | %.5f'%(\n",
    "        snanaSalt2Fit_np['f1'][i], mu_SALT2[0][i], mu_SALT2[1][i], mu_SALT2[2][i] )\n",
    "    "
   ]
  },
  {
   "cell_type": "code",
   "execution_count": 13,
   "metadata": {
    "collapsed": false
   },
   "outputs": [
    {
     "data": {
      "text/plain": [
       "0"
      ]
     },
     "execution_count": 13,
     "metadata": {},
     "output_type": "execute_result"
    }
   ],
   "source": [
    "\"\"\" \n",
    "# SN name|   mu   |  sigma_mu | sigma^2_mu_photo\n",
    "2005iq    |  35.99916  |  0.12609   | 0.00268\n",
    "2006ax    |  34.42803  |  0.13510   | 0.00232\n",
    "2006gr    |  35.94120  |  0.12890   | 0.00342\n",
    "2006le    |  34.40097  |  0.14783   | 0.00569\n",
    "2006lf    |  33.53927  |  0.20308   | 0.02207\n",
    "2008hv    |  33.81593  |  0.14598   | 0.00274\n",
    "2009ad    |  35.46186  |  0.13098   | 0.00354\n",
    "2009d     |  35.03115  |  0.13322   | 0.00366\n",
    "2010ai    |  35.12639  |  0.13820   | 0.00377\n",
    "2004eo    |  33.96570  |  0.14235   | 0.00254\n",
    "2005kc    |  34.00826  |  0.14502   | 0.00274\n",
    "2005ki    |  34.68629  |  0.13286   | 0.00274\n",
    "2006ax    |  34.42803  |  0.13510   | 0.00232\n",
    "2006bh    |  33.38503  |  0.16063   | 0.00267\n",
    "2006kf    |  34.88117  |  0.13821   | 0.00422\n",
    "2007bc    |  34.71156  |  0.13217   | 0.00285\n",
    "2008hv    |  33.81593  |  0.14598   | 0.00274\n",
    "1999ek    |  34.46419  |  0.15227   | 0.00721\n",
    "2007a     |  34.50876  |  0.14040   | 0.00287\n",
    "\"\"\"\n",
    "0"
   ]
  },
  {
   "cell_type": "code",
   "execution_count": null,
   "metadata": {
    "collapsed": true
   },
   "outputs": [],
   "source": []
  },
  {
   "cell_type": "markdown",
   "metadata": {},
   "source": [
    "# Determine the mean absolute magnitude"
   ]
  },
  {
   "cell_type": "code",
   "execution_count": 14,
   "metadata": {
    "collapsed": true
   },
   "outputs": [],
   "source": [
    "# Define the average in the absolute value of the residual\n",
    "# These functions are going to be minimized.\n",
    "\n",
    "# AbsResidual values\n",
    "res_mu_np_int = mu_SALT2[0] - DistanceMuVector(z_np, OmMFix, wFix, HoFix)\n",
    "\n",
    "# Inverse-variance weighted average function to be minimized \n",
    "def WeightedAbsResidual_fun(deltaMo, UpLimit, LowLimit, AbsResidual_Roof):\n",
    "    residuals_int = res_mu_np_int + deltaMo\n",
    "    WeightedAbsResidual_int = np.average(residuals_int, weights=mu_SALT2[1] )\n",
    "    \n",
    "    if deltaMo < UpLimit and deltaMo > LowLimit:  \n",
    "        # For some unknown reason, simplex is search the maximum instead of\n",
    "        # the minimimum, so I had to define the average absolute mag as 1/WeightedAbsResidual\n",
    "        # WeightedAbsResidual_final = 1/WeightedAbsResidual_int\n",
    "        WeightedAbsResidual_final = WeightedAbsResidual_int\n",
    "        \n",
    "    else: WeightedAbsResidual_final = AbsResidual_Roof\n",
    "        \n",
    "    return abs(WeightedAbsResidual_final)\n",
    "\n",
    "#-----------------------------------------------------\n",
    "\n",
    "# Simple average function to be minimized \n",
    "def AverageAbsResidual_fun(deltaMo, UpLimit, LowLimit, AbsResidual_Roof):\n",
    "    residuals_int = res_mu_np_int + deltaMo\n",
    "    # AverageAbsResidual_int = np.mean(residuals_int)\n",
    "    AverageAbsResidual_int = np.sum(residuals_int)/len(residuals_int)\n",
    "     \n",
    "    if deltaMo < UpLimit and deltaMo > LowLimit: \n",
    "        # For some unknown reason, simplex is search the maximum instead of\n",
    "        # the minimimum, so I had to define the average absolute mag as 1/AverageAbsResidual_int\n",
    "        # AverageAbsResidual_final = 1/AverageAbsResidual_int\n",
    "        AverageAbsResidual_final = AverageAbsResidual_int\n",
    "        \n",
    "    else: AverageAbsResidual_final = AbsResidual_Roof\n",
    "\n",
    "    return abs(AverageAbsResidual_int)"
   ]
  },
  {
   "cell_type": "code",
   "execution_count": 15,
   "metadata": {
    "collapsed": false
   },
   "outputs": [
    {
     "name": "stdout",
     "output_type": "stream",
     "text": [
      "# Tests:\n",
      "# 2.30456581289\n",
      "# 0.0189689012205\n"
     ]
    }
   ],
   "source": [
    "print '# Tests:'\n",
    "print '#', WeightedAbsResidual_fun(-2.3, 3, -3, 1)\n",
    "print '#', AverageAbsResidual_fun(-0.0153, 0.2, -0.2, 1)\n",
    "\n",
    "# Tests:\n",
    "# 2.3447565097\n",
    "# 2.28837994115"
   ]
  },
  {
   "cell_type": "code",
   "execution_count": 16,
   "metadata": {
    "collapsed": false
   },
   "outputs": [
    {
     "name": "stdout",
     "output_type": "stream",
     "text": [
      "     fun: 6.2205205415565593e-12\n",
      "    nfev: 28\n",
      "     nit: 27\n",
      " success: True\n",
      "       x: 0.0045658128791809327\n",
      "# [0.0045658128791809327]  = value of deltaMo that minimize the Hubble residual.\n",
      "\n",
      "     fun: 6.6409884697359133e-12\n",
      "    nfev: 30\n",
      "     nit: 29\n",
      " success: True\n",
      "       x: 0.003668901213883702\n",
      "# [0.003668901213883702]  = value of deltaMo that minimize the Hubble residual.\n"
     ]
    }
   ],
   "source": [
    "# Determine the value of the constant deltaMo in order to obtain a\n",
    "# weighted average value of zero in the Hubble residual\n",
    "\n",
    "import scipy.optimize\n",
    "\n",
    "# Search limits:\n",
    "# UpLimit = 0.2; LowLimit = -0.2\n",
    "UpLimit = 3; LowLimit = -3\n",
    "\n",
    "# Assume this value for deltaMo in case of the search is outside the range\n",
    "# indicated above.\n",
    "Residual_Roof = 10 \n",
    "\n",
    "WeightedAbsResidual_Out = scipy.optimize.minimize_scalar(WeightedAbsResidual_fun, \n",
    "                                                    args=(UpLimit, LowLimit, Residual_Roof))\n",
    "\n",
    "\n",
    "\n",
    "AverageAbsResidual_Out = scipy.optimize.minimize_scalar(AverageAbsResidual_fun, \n",
    "                                                    args=(UpLimit, LowLimit, Residual_Roof))\n",
    "\n",
    "# Redefining the values:\n",
    "SimplexResult_1 = [WeightedAbsResidual_Out['x'] ]\n",
    "SimplexResult_2 = [AverageAbsResidual_Out['x'] ]\n",
    "\n",
    "print WeightedAbsResidual_Out\n",
    "print '#', SimplexResult_1, ' = value of deltaMo that minimize the Hubble residual.'\n",
    "print \n",
    "\n",
    "print AverageAbsResidual_Out\n",
    "print '#', SimplexResult_2, ' = value of deltaMo that minimize the Hubble residual.'"
   ]
  },
  {
   "cell_type": "code",
   "execution_count": 17,
   "metadata": {
    "collapsed": false
   },
   "outputs": [
    {
     "name": "stdout",
     "output_type": "stream",
     "text": [
      "Optimization terminated successfully.\n",
      "         Current function value: 0.000005\n",
      "         Iterations: 13\n",
      "         Function evaluations: 26\n",
      "[ 0.00456047]  = value of deltaMo that minimize the Hubble residual.\n",
      "\n",
      "Optimization terminated successfully.\n",
      "         Current function value: 0.000032\n",
      "         Iterations: 13\n",
      "         Function evaluations: 26\n",
      "[ 0.00370125]  = value of deltaMo that minimize the Hubble residual.\n"
     ]
    }
   ],
   "source": [
    "# Verifying the minimim using a different python function to find the minimum.\n",
    "\n",
    "# Determine the value of the constant deltaMo in order to obtain a\n",
    "# weighted average value of zero in the Hubble residual\n",
    "\n",
    "from scipy.optimize import fmin\n",
    "\n",
    "# Search limits:\n",
    "# UpLimit_test = 0.1; LowLimit_test = -0.1\n",
    "UpLimit_test = 3; LowLimit_test = -3\n",
    "\n",
    "# Assume this value for deltaMo in case of the search is outside the range\n",
    "# indicated above.\n",
    "Residual_Roof_test = 10\n",
    "\n",
    "InitialGuess_test = -0.0423\n",
    "\n",
    "# Find the value of deltaMo that minimizes the averager functions \n",
    "SimplexResult_1_test = fmin(WeightedAbsResidual_fun, InitialGuess_test, # xtol=1e-10, ftol=1e-10, \n",
    "                          # retall=True,\n",
    "                          args=(UpLimit_test, LowLimit_test, Residual_Roof_test) )\n",
    "print SimplexResult_1_test, ' = value of deltaMo that minimize the Hubble residual.'\n",
    "print \n",
    "\n",
    "SimplexResult_2_test = fmin(AverageAbsResidual_fun, InitialGuess_test,  # xtol=1e-10, ftol=1e-10, \n",
    "                          # retall=True,\n",
    "                          args=(UpLimit_test, LowLimit_test, Residual_Roof_test) )\n",
    "print SimplexResult_2_test, ' = value of deltaMo that minimize the Hubble residual.'"
   ]
  },
  {
   "cell_type": "code",
   "execution_count": 18,
   "metadata": {
    "collapsed": false
   },
   "outputs": [
    {
     "name": "stdout",
     "output_type": "stream",
     "text": [
      "# deltaMo = [0.0045658128791809327] , for a weighted average abs residual of: 6.22052054156e-12\n",
      "# deltaMo = [0.003668901213883702] , for an average abs residual of: 6.64098846974e-12\n"
     ]
    }
   ],
   "source": [
    "# Print results\n",
    "\n",
    "print '# deltaMo =', SimplexResult_1, ', for a weighted average abs residual of:', \\\n",
    "WeightedAbsResidual_fun(SimplexResult_1[0], UpLimit, LowLimit, Residual_Roof)  \n",
    "\n",
    "print '# deltaMo =', SimplexResult_2, ', for an average abs residual of:', \\\n",
    "AverageAbsResidual_fun(SimplexResult_2[0], UpLimit, LowLimit, Residual_Roof)    "
   ]
  },
  {
   "cell_type": "code",
   "execution_count": 19,
   "metadata": {
    "collapsed": true
   },
   "outputs": [],
   "source": [
    "# deltaMo min = [-0.03932578] , for a weighted average abs residual of: 3.21942477339e-05\n",
    "# deltaMo min = [-0.03502969] , for an average abs residual of: 8.94368852025e-06"
   ]
  },
  {
   "cell_type": "markdown",
   "metadata": {},
   "source": [
    "### Compute final residual values and checking the Hubble residual"
   ]
  },
  {
   "cell_type": "code",
   "execution_count": 20,
   "metadata": {
    "collapsed": false
   },
   "outputs": [
    {
     "name": "stdout",
     "output_type": "stream",
     "text": [
      "# NOTE: THE FOLLOWING VALUE SHOULD BE VERY SMALL (< 1e-5), OTHERWISE, IT S WRONG.\n",
      "# -6.22052054156e-12\n"
     ]
    }
   ],
   "source": [
    "# Inverse-variance weighted average\n",
    "\n",
    "res_mu_weight_np = (mu_SALT2[0] - DistanceMuVector(z_np, OmMFix, wFix, HoFix) \n",
    "                    +SimplexResult_1[0])  \n",
    "WeightedResidual = np.average(res_mu_weight_np, weights=mu_SALT2[1] )\n",
    "\n",
    "print '# NOTE: THE FOLLOWING VALUE SHOULD BE VERY SMALL (< 1e-5), OTHERWISE, IT S WRONG.'\n",
    "print '#', WeightedResidual\n",
    "# 3.21942477339e-05"
   ]
  },
  {
   "cell_type": "code",
   "execution_count": 21,
   "metadata": {
    "collapsed": false
   },
   "outputs": [
    {
     "name": "stdout",
     "output_type": "stream",
     "text": [
      "# NOTE: THE FOLLOWING VALUE SHOULD BE VERY SMALL (< 1e-5), OTHERWISE, IT S WRONG.\n",
      "# -6.64098846974e-12\n"
     ]
    }
   ],
   "source": [
    "# Simple average\n",
    "\n",
    "res_mu_mean_np = (mu_SALT2[0] - DistanceMuVector(z_np, OmMFix, wFix, HoFix) \n",
    "                  +SimplexResult_2[0])  \n",
    "\n",
    "print '# NOTE: THE FOLLOWING VALUE SHOULD BE VERY SMALL (< 1e-5), OTHERWISE, IT S WRONG.'\n",
    "print '#', np.mean(res_mu_mean_np)\n",
    "# NOTE: THE FOLLOWING VALUE SHOULD BE VERY SMALL (~ 1e-10), OTHERWISE, IT S WRONG.\n",
    "# 8.94368852025e-06"
   ]
  },
  {
   "cell_type": "markdown",
   "metadata": {},
   "source": [
    "------"
   ]
  },
  {
   "cell_type": "markdown",
   "metadata": {},
   "source": [
    "# Write the results to a text files"
   ]
  },
  {
   "cell_type": "markdown",
   "metadata": {},
   "source": [
    "### My format\n",
    "\n",
    "To be read by '11_DistanceMu_HubbleDiagram_v2_17.ipynb'"
   ]
  },
  {
   "cell_type": "code",
   "execution_count": 22,
   "metadata": {
    "collapsed": true
   },
   "outputs": [],
   "source": [
    "# Write down to a text file the results using the same datatable \n",
    "# format output than my 11_DistanceMu_HubbleDiagram_v2_17.ipynb code.\n",
    "\n",
    "textfile_1 = open(DirSaveOutput+'DistanceMu_Good_AfterCutoffs_Main_.txt','w')\n",
    "textfile_2 = open(DirSaveOutput+'DistanceMu_fromSALT2.txt','w') # To share with collaborators\n",
    "\n",
    "now = datetime.datetime.now() # Read the time and date right now\n",
    "text_timenow = now.strftime(\"%Y-%m-%d (yyyy/mm/dd); %H:%M hrs.\")\n",
    "text_Author = '# Data table created by: Arturo Avelino \\n'\n",
    "text_Date   = '# On date: %s \\n'%text_timenow\n",
    "text_script = '# Script used: %s \\n'%NotebookName\n",
    "text_line = '#'+'-'*80 + '\\n'\n",
    "\n",
    "text_01 = '# Distance modulus determined from the combination of SALT2.JLA-B14 output fit \\n\\\n",
    "# parameters and the Tripp formula, using the global parameters reported by Scolnic etal. 2017. \\n'\n",
    "text_02 = '# Values of the global parameters used: \\n'\n",
    "text_03 = '# alpha = %s | beta = %s |  sigmaInt = %s \\n'%(alpha,beta,sigmaInt)\n",
    "text_04 = '# M = %s. Assumed value for the absolute magnitude in Tripp \\\n",
    "formula. \\n'%MoFix\n",
    "text_05 = '# Delta_M = %s. Additional value to the absolute magnitude in Tripp formula \\n\\\n",
    "# to have a zero-value weighted average in the Hubble residual plot. \\n'%SimplexResult_1[0]\n",
    "text_06 = '# Om_matter = %s | w = %s | Ho = %s km/s/Mpc | Flat. \\\n",
    "Cosmological parameters assumed. \\n'%(OmMFix, wFix, HoFix)\n",
    "text_07 = '# %s km/s: Peculiar velocity uncertainty assumed.  \\n'%sigma_vPec\n",
    "\n",
    "text_08_1 = '# SN name     z_CMB   error_zcmb   mu     error_mu   mu_residual chi2_dof  \\\n",
    "Sample  appMag_TBmax  error_appMagTBmax  mu_LCDM     sigma_muLCDM_vPec AbsMagTBmax \\\n",
    "error_AbsMagTBmax  TBmax       Error_TBmax    PhaseB        zhelio        err_zhelio   \\\n",
    "dm15         error_dm15      EBVhost      error_EBVhost   EBV_MW        error_EBV_MW     \\\n",
    "Alamb      err_Alamb      R_F           mu_Snoopy     error_muSnoopy   TBmax           \\\n",
    "Error_TBmax  appMag_TBmax  error_appMagTBmax  Notes  \\n'\n",
    "\n",
    "text_08_2 = '# SN name     z_CMB   error_zcmb   mu     error_mu   \\\n",
    "appMag_TBmax  error_appMagTBmax  mu_LCDM     sigma_muLCDM_vPec \\n'\n",
    "\n",
    "\n",
    "textfile_1.write(text_01); textfile_1.write(text_02); textfile_1.write(text_03);\n",
    "textfile_1.write(text_04); textfile_1.write(text_05); textfile_1.write(text_06);\n",
    "textfile_1.write(text_07); \n",
    "textfile_1.write(text_line)\n",
    "textfile_1.write(text_Author); textfile_1.write(text_Date); textfile_1.write(text_script); \n",
    "textfile_1.write(text_line)\n",
    "textfile_1.write(text_08_1)  \n",
    "\n",
    "textfile_2.write(text_01); textfile_2.write(text_02); textfile_2.write(text_03); \n",
    "textfile_2.write(text_04); textfile_2.write(text_05); textfile_2.write(text_06);\n",
    "textfile_2.write(text_07); \n",
    "textfile_2.write(text_line)\n",
    "textfile_2.write(text_Author); textfile_2.write(text_Date); textfile_2.write(text_script); \n",
    "textfile_2.write(text_line)\n",
    "textfile_2.write(text_08_2)  \n",
    "\n",
    "#------------------------------\n",
    "\n",
    "countSN = 0\n",
    "for i in range(len(snanaSalt2Fit_np)):\n",
    "    \n",
    "    snname = snanaSalt2Fit_np['f1'][i]\n",
    "    zz_int = z_np[i]\n",
    "    e_zz_int = zerr_np[i]\n",
    "    muLCDM_int = DistanceMu(zz_int, OmMFix, wFix, HoFix)\n",
    "    sigma_muLCDM_vPec_int = np.sqrt(sigma2_pec(zz_int, e_zz_int, sigma_vPec))\n",
    "    chi2dof_int = chi2_np[i]/Ndof_np[i]\n",
    "    mu_final = mu_SALT2[0][i] +SimplexResult_1[0]\n",
    "    muerr_final = mu_SALT2[1][i]\n",
    "    muResidual_int = res_mu_weight_np[i]\n",
    "    mb_int = mb_np[i]\n",
    "    mberr_int = mberr_np[i]\n",
    "    \n",
    "    #-------\n",
    "    \"\"\"  \n",
    "    # OLD\n",
    "    zz_int = snanaSalt2Fit_np['f2'][i]\n",
    "    e_zz_int = snanaSalt2Fit_np['f3'][i]\n",
    "    muLCDM_int = DistanceMu(zz_int, OmMFix, wFix, HoFix)\n",
    "    sigma_muLCDM_vPec_int = np.sqrt(sigma2_pec(zz_int, e_zz_int, sigma_vPec))\n",
    "    chi2dof_int = snanaSalt2Fit_np['f17'][i]/snanaSalt2Fit_np['f18'][i]\n",
    "    mu_final = mu_SALT2[0][i] +SimplexResult_1[0] \"\"\"\n",
    "    \n",
    "    textfile_1.write('sn%-10s  %.5f  %.5f  \\\n",
    "%.5f  %.5f  %10.6f  \\\n",
    "%10.6f    %s     \\\n",
    "%.4f       %.4f            \\\n",
    "%.8f  %.8f   \\\n",
    "0  0  0  0  0  0  0  0  0  0  0  0  0  0  0  0  0  0  0  0  0  0 \\n'%(  \n",
    "        snname, zz_int, e_zz_int,\n",
    "        mu_final, muerr_final, muResidual_int, \n",
    "        chi2dof_int, SampleFlag, \n",
    "        mb_int, mberr_int,\n",
    "        muLCDM_int, sigma_muLCDM_vPec_int) )   \n",
    "    \n",
    "    #-------\n",
    "    \n",
    "    textfile_2.write('sn%-10s  %.5f  %.5f  \\\n",
    "%.5f  %.5f     \\\n",
    "%.4f       %.4f            \\\n",
    "%.8f  %.8f  \\n'%(  \n",
    "        snname, zz_int, e_zz_int,\n",
    "        mu_final, muerr_final,\n",
    "        mb_int, mberr_int,\n",
    "        muLCDM_int, sigma_muLCDM_vPec_int) )  \n",
    "    \n",
    "    countSN = countSN + 1\n",
    "    \n",
    "text_12 = '# %s SNeIa in this list.'%countSN\n",
    "textfile_1.write(text_12); textfile_2.write(text_12);\n",
    "textfile_1.close(); textfile_2.close()"
   ]
  },
  {
   "cell_type": "code",
   "execution_count": null,
   "metadata": {
    "collapsed": true
   },
   "outputs": [],
   "source": []
  },
  {
   "cell_type": "code",
   "execution_count": null,
   "metadata": {
    "collapsed": true
   },
   "outputs": [],
   "source": []
  },
  {
   "cell_type": "markdown",
   "metadata": {},
   "source": [
    "#### SNANA-SALT2mu.exe format\n",
    "\n",
    "This doesn't work yet for the case of reading David Jones fitres file."
   ]
  },
  {
   "cell_type": "code",
   "execution_count": 23,
   "metadata": {
    "collapsed": true
   },
   "outputs": [],
   "source": [
    "# Write down to a text file the results using the same datatable \n",
    "# format output than SALT2mu.exe.\n",
    "\n",
    "if FitresFormat == 'Arturo': \n",
    "    textfile_1 = open(DirSaveOutput+'DistanceMu_SALT2muFormat_.txt','w')\n",
    "\n",
    "    now = datetime.datetime.now() # Read the time and date right now\n",
    "    text_timenow = now.strftime(\"%Y-%m-%d (yyyy/mm/dd); %H:%M hrs.\")\n",
    "    text_line = '#'+'-'*80 + '\\n'\n",
    "\n",
    "    #--- Copy/paste of the cell above -----\n",
    "    textfile_1.write('# Distance modulus determined from the combination of SALT2.JLA-B14 \\\n",
    "    output fit parameters and the Tripp formula, using the global parameters reported \\\n",
    "    by Scolnic etal. 2017. \\n')\n",
    "    textfile_1.write('# Values of the global parameters used: \\n')\n",
    "    textfile_1.write('# alpha = %s | beta = %s |  sigmaInt = %s \\n'%(alpha,beta,sigmaInt))\n",
    "    textfile_1.write('# M = %s. Assumed value for the absolute magnitude in Tripp \\\n",
    "    formula. \\n'%MoFix)\n",
    "    textfile_1.write('# Delta_M = %s. Additional value to the absolute magnitude in Tripp \\\n",
    "    formula to have a zero-value weighted average in the Hubble residual plot. \\n'%SimplexResult_1[0])\n",
    "    textfile_1.write('# Om_matter = %s | w = %s | Ho = %s km/s/Mpc | Flat. \\\n",
    "    Cosmological parameters assumed. \\n'%(OmMFix, wFix, HoFix))\n",
    "    textfile_1.write('# %s km/s: Peculiar velocity uncertainty assumed.  \\n'%sigma_vPec)\n",
    "    textfile_1.write(text_line)\n",
    "\n",
    "    textfile_1.write('# Data table created by: Arturo Avelino \\n')\n",
    "    textfile_1.write('# On date: %s \\n'%text_timenow)\n",
    "    textfile_1.write('# Script used: %s \\n'%NotebookName)\n",
    "    textfile_1.write(text_line)\n",
    "\n",
    "    #------- end copy/paste -------------\n",
    "\n",
    "    textfile_1.write('# SN name       z        zERR     x0           x0ERR       c       cERR     \\\n",
    "    x1      x1ERR   PKMJD   PKMJDERR mB      mBERR    COVx0x1     COVx0c      COVx1c     CHI2   NDOF  \\\n",
    "    FITPROB      SNRMAX1    SNRMAX2    SNRMAX3 SURVEY TYPE   MU      MUERR    MU_residual   \\n')\n",
    "\n",
    "    for i in range(len(snanaSalt2Fit_np)):\n",
    "\n",
    "        mu_final = mu_SALT2[0][i] +SimplexResult_1[0]\n",
    "\n",
    "        textfile_1.write('SN: %-10s  %.5f  %.5f  %.5e  %.3e  %7.4f  %.4f  %7.4f  %.4f  %.3f  %.2f \\\n",
    "    %.4f  %.4f  %10.3e  %10.3e  %10.3e  %5.1f  %4.0f  %.3e  %9.3f  %9.3f  %9.3f  %2.0f     %2.0f  \\\n",
    "    %.5f  %.5f  %10.6f   \\n'%(\n",
    "            snanaSalt2Fit_np['f1'][i], snanaSalt2Fit_np['f2'][i], snanaSalt2Fit_np['f3'][i],\n",
    "            snanaSalt2Fit_np['f4'][i], snanaSalt2Fit_np['f5'][i], snanaSalt2Fit_np['f6'][i],\n",
    "            snanaSalt2Fit_np['f7'][i], snanaSalt2Fit_np['f8'][i], snanaSalt2Fit_np['f9'][i],\n",
    "            snanaSalt2Fit_np['f10'][i], snanaSalt2Fit_np['f11'][i],\n",
    "            snanaSalt2Fit_np['f12'][i], snanaSalt2Fit_np['f13'][i],\n",
    "            snanaSalt2Fit_np['f14'][i], snanaSalt2Fit_np['f15'][i], snanaSalt2Fit_np['f16'][i],\n",
    "            snanaSalt2Fit_np['f17'][i], snanaSalt2Fit_np['f18'][i], snanaSalt2Fit_np['f19'][i],\n",
    "            snanaSalt2Fit_np['f20'][i], snanaSalt2Fit_np['f21'][i], snanaSalt2Fit_np['f22'][i],\n",
    "            snanaSalt2Fit_np['f23'][i], snanaSalt2Fit_np['f24'][i],\n",
    "            mu_final, mu_SALT2[1][i], res_mu_weight_np[i]  ))\n",
    "\n",
    "    textfile_1.close()"
   ]
  },
  {
   "cell_type": "markdown",
   "metadata": {},
   "source": [
    "---------"
   ]
  },
  {
   "cell_type": "markdown",
   "metadata": {},
   "source": [
    "# Hubble diagram plot"
   ]
  },
  {
   "cell_type": "code",
   "execution_count": 24,
   "metadata": {
    "collapsed": true
   },
   "outputs": [],
   "source": [
    "# USER\n",
    "\n",
    "fontsizePlot = 12"
   ]
  },
  {
   "cell_type": "code",
   "execution_count": 25,
   "metadata": {
    "collapsed": false
   },
   "outputs": [],
   "source": [
    "#    Theoretical values\n",
    "# Array plot the -theoretical- (spectroscopic) distance modulus \n",
    "nbins1= 51\n",
    "z1 = np.linspace(min(z_np)-0.001, max(z_np)+0.001, nbins1)\n",
    "mu0 = DistanceMuVector(z1, OmMFix, wFix, HoFix)\n",
    "\n",
    "#----------------------------------------\n",
    "\n",
    "# PLOTTING\n",
    "\n",
    "plt.errorbar(z_np, mu_SALT2[0]+SimplexResult_1[0], yerr=mu_SALT2[1], fmt='.')\n",
    "plt.plot(z1, mu0)\n",
    "\n",
    "plt.grid(True)\n",
    "plt.xlabel('Redshift', fontsize=fontsizePlot)\n",
    "plt.ylabel(r'Distance modulus $\\mu$', fontsize=fontsizePlot)\n",
    "plt.title('SALT2 Hubble diagram, %s sample'%sample)\n",
    "plt.tight_layout()\n",
    "\n",
    "plt.savefig(DirSaveOutput+'Plot_Hubble_SALT2_.png')\n",
    "plt.close()"
   ]
  },
  {
   "cell_type": "markdown",
   "metadata": {},
   "source": [
    "# Hubble residual plot"
   ]
  },
  {
   "cell_type": "code",
   "execution_count": 26,
   "metadata": {
    "collapsed": true
   },
   "outputs": [],
   "source": [
    "#    Theoretical values\n",
    "# Array plot the -theoretical- (spectroscopic) distance modulus \n",
    "nbins1= 51\n",
    "z1 = np.linspace(min(z_np)-0.001, max(z_np)+0.001, nbins1)\n",
    "mu1 = np.zeros(len(z1))\n",
    "\n",
    "#----------------------------------------\n",
    "\n",
    "# res_mu_np_int\n",
    "# res_mu_weight_np\n",
    "\n",
    "plt.errorbar(z_np, res_mu_weight_np, yerr=mu_SALT2[1], fmt='.')\n",
    "\n",
    "\n",
    "plt.plot(z1, mu1)\n",
    "# plt.text(min(z_np)+0.01, min(res_mu_weight_np), r'$\\sigma_{\\rm pec}$ = %s km/s'%sigma_vPec)\n",
    "plt.grid(True)\n",
    "plt.xlabel('Redshift', fontsize=fontsizePlot)\n",
    "plt.ylabel(r'$\\mu - \\mu_{\\rm \\Lambda CDM}$', fontsize=fontsizePlot+3) \n",
    "plt.title('SALT2 Hubble residual, %s sample'%sample)\n",
    "plt.tight_layout()\n",
    "\n",
    "plt.savefig(DirSaveOutput+'Plot_HubbleRes_SALT2_.png')\n",
    "plt.close()"
   ]
  },
  {
   "cell_type": "code",
   "execution_count": null,
   "metadata": {
    "collapsed": true
   },
   "outputs": [],
   "source": []
  },
  {
   "cell_type": "code",
   "execution_count": null,
   "metadata": {
    "collapsed": true
   },
   "outputs": [],
   "source": []
  },
  {
   "cell_type": "markdown",
   "metadata": {},
   "source": [
    "# Scratch"
   ]
  },
  {
   "cell_type": "code",
   "execution_count": null,
   "metadata": {
    "collapsed": true
   },
   "outputs": [],
   "source": []
  },
  {
   "cell_type": "code",
   "execution_count": null,
   "metadata": {
    "collapsed": true
   },
   "outputs": [],
   "source": []
  },
  {
   "cell_type": "code",
   "execution_count": null,
   "metadata": {
    "collapsed": true
   },
   "outputs": [],
   "source": []
  }
 ],
 "metadata": {
  "kernelspec": {
   "display_name": "Python [default]",
   "language": "python",
   "name": "python2"
  },
  "language_info": {
   "codemirror_mode": {
    "name": "ipython",
    "version": 2
   },
   "file_extension": ".py",
   "mimetype": "text/x-python",
   "name": "python",
   "nbconvert_exporter": "python",
   "pygments_lexer": "ipython2",
   "version": "2.7.13"
  }
 },
 "nbformat": 4,
 "nbformat_minor": 2
}
