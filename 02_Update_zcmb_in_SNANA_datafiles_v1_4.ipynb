{
 "cells": [
  {
   "cell_type": "markdown",
   "metadata": {},
   "source": [
    "# Code to replace the (zcmb, zhelio) values to the updated values in Andy's compilation in the SNANA photometry data files\n",
    "\n",
    "- The output files will be saved in a folder called updated_zcmb"
   ]
  },
  {
   "cell_type": "code",
   "execution_count": 1,
   "metadata": {
    "collapsed": false
   },
   "outputs": [
    {
     "name": "stdout",
     "output_type": "stream",
     "text": [
      "# DirSaveOutput:\n",
      "/Users/arturo/Dropbox/Research/SoftwareResearch/SNANA/Odyssey/panlfs3_aavelino/lcmerge/3_lcmerge_2017_05_12_AndySampleOnly/PS1s_CFA3_4SHOOTER2_RS14/updated_zcmb/\n"
     ]
    }
   ],
   "source": [
    "# User\n",
    "\n",
    "# Type of sample. lowz = low-z sample of SNe Ia\n",
    "# ps1 = panstarrs, des = DES. This definition is simply to include \n",
    "# or not the prefix 'sn' in the name of the SNe when defining the\n",
    "# names to be used as entries in the dictionary in the second loop\n",
    "# of the main loop. \n",
    "# The lowz sample needs the sufix 'sn' while ps1 and des don't.\n",
    "sampletype = 'lowz'    # (lowz, ps1, des)\n",
    " \n",
    "# Update zcmb:\n",
    "zcmb_update = True\n",
    "\n",
    "# Update zhelio:\n",
    "zcmb_update = True\n",
    "\n",
    "NotebookName = '02_Update_zcmb_in_SNANA_datafiles_v1_4.ipynb'\n",
    "\n",
    "#-----------------------------------------------\n",
    "\n",
    "#     LOW-Z\n",
    "# FolderSample = 'JLA2014_CfAIII_KEPLERCAM'\n",
    "# FolderSample = 'JLA2014_CSP'\n",
    "# FolderSample = 'JLA2014_LOWZ_LANDOLT'\n",
    "# FolderSample = 'LOWZ_FromAndyFriedman'\n",
    "# FolderSample = 'LOWZ_JRK07'\n",
    "FolderSample = 'PS1s_CFA3_4SHOOTER2_RS14'\n",
    "# FolderSample = 'PS1s_CFA3_KEPLERCAM_RS14'\n",
    "# FolderSample = 'PS1s_CFA4_p1_RS14'\n",
    "# FolderSample = 'PS1s_CFA4_p2_RS14'\n",
    "# FolderSample = 'PS1s_CSPDR2'\n",
    "# FolderSample = 'PS1s_CSPDR2_V_RS14'\n",
    "\n",
    "# dirSnanaFolders = '/Users/arturo/Documents/Research/snana/v10_52h/\\\n",
    "# SNDATA_ROOT_PUBLIC_2017_05_12/lcmerge_Updated_zcmb/'\n",
    "\n",
    "dirSnanaFolders = '/Users/arturo/Dropbox/Research/SoftwareResearch/\\\n",
    "SNANA/Odyssey/panlfs3_aavelino/lcmerge/3_lcmerge_2017_05_12_Andy\\\n",
    "SampleOnly/'\n",
    "\n",
    "#-----------------------------------------------\n",
    "#     RAISIN\n",
    "\"\"\" \n",
    "# FolderSample = 'Data/'\n",
    "FolderSample = ''\n",
    "\n",
    "# dirSnanaFolders = '/Users/arturo/Dropbox/Research/Articulos/12_RAISINs/\\\n",
    "# Data/RAISIN_2/Data/DES/2017_11_21/Photometry/fit_SomeLinesCommented_ok/'\n",
    "\n",
    "dirSnanaFolders = '/Users/arturo/Dropbox/Research/Articulos/12_RAISINs/Data/\\\n",
    "RAISIN_2/Data/DES/2017_11_21/Photometry/fit_SomeLinesCommented_ok/\\\n",
    "version_02/Data/1_zcmb_no_updated/'\n",
    "\n",
    "\"\"\"\n",
    "\n",
    "#--------------------------------------------\n",
    "\n",
    "DirSaveOutput = dirSnanaFolders+FolderSample+'/updated_zcmb/'\n",
    "\n",
    "print '# DirSaveOutput:'\n",
    "print DirSaveOutput\n",
    "\n",
    "cc = 299792.458  # Speed of light (km/s)"
   ]
  },
  {
   "cell_type": "markdown",
   "metadata": {},
   "source": [
    "--------"
   ]
  },
  {
   "cell_type": "markdown",
   "metadata": {},
   "source": [
    "# Automatic"
   ]
  },
  {
   "cell_type": "code",
   "execution_count": 2,
   "metadata": {
    "collapsed": true
   },
   "outputs": [
    {
     "data": {
      "text/plain": [
       "11"
      ]
     },
     "execution_count": 2,
     "metadata": {},
     "output_type": "execute_result"
    }
   ],
   "source": [
    "import numpy as np\n",
    "\n",
    "# Create the folder where the output will be saved\n",
    "\n",
    "#- Force the creation of the directory to save the outputs.\n",
    "#- \"If the subdirectory does not exist then create it\"\n",
    "import os # To use command line like instructions\n",
    "if not os.path.exists(DirSaveOutput): os.makedirs(DirSaveOutput)\n",
    "    \n",
    "5+6"
   ]
  },
  {
   "cell_type": "markdown",
   "metadata": {},
   "source": [
    "#### Function to identify string or number"
   ]
  },
  {
   "cell_type": "code",
   "execution_count": 3,
   "metadata": {
    "collapsed": false
   },
   "outputs": [
    {
     "name": "stdout",
     "output_type": "stream",
     "text": [
      "True False\n"
     ]
    }
   ],
   "source": [
    "# Function to identify if a string is an integer number or a letter.\n",
    "# This will be used in the dictionary construction to properly read some SN names.\n",
    "\n",
    "def is_number(s):\n",
    "    try:\n",
    "        int(s)\n",
    "        return True\n",
    "    except ValueError:\n",
    "        return False\n",
    "\n",
    "# Tests\n",
    "print is_number('5'), is_number('e')\n",
    "# True False"
   ]
  },
  {
   "cell_type": "code",
   "execution_count": 4,
   "metadata": {
    "collapsed": true
   },
   "outputs": [],
   "source": [
    "# Get the current date and time\n",
    "import datetime \n",
    "\n",
    "# Read the time and date now\n",
    "now = datetime.datetime.now()"
   ]
  },
  {
   "cell_type": "markdown",
   "metadata": {},
   "source": [
    "#### Get the name of this ipython notebook\n",
    "To print it in the output text files as reference."
   ]
  },
  {
   "cell_type": "code",
   "execution_count": 5,
   "metadata": {
    "collapsed": false
   },
   "outputs": [
    {
     "data": {
      "application/javascript": [
       "var kernel = IPython.notebook.kernel;\n",
       "var thename = window.document.getElementById(\"notebook_name\").innerHTML;\n",
       "var command = \"NotebookName = \" + \"'\"+thename+\".ipynb\"+\"'\";\n",
       "kernel.execute(command);"
      ],
      "text/plain": [
       "<IPython.core.display.Javascript object>"
      ]
     },
     "metadata": {},
     "output_type": "display_data"
    }
   ],
   "source": [
    "%%javascript\n",
    "var kernel = IPython.notebook.kernel;\n",
    "var thename = window.document.getElementById(\"notebook_name\").innerHTML;\n",
    "var command = \"NotebookName = \" + \"'\"+thename+\".ipynb\"+\"'\";\n",
    "kernel.execute(command);"
   ]
  },
  {
   "cell_type": "code",
   "execution_count": 6,
   "metadata": {
    "collapsed": false
   },
   "outputs": [
    {
     "name": "stdout",
     "output_type": "stream",
     "text": [
      "# 02_Update_zcmb_in_SNANA_datafiles_v1_4.ipynb\n"
     ]
    }
   ],
   "source": [
    "print '#', (NotebookName)\n",
    "\n",
    "# Update_zcmb_in_SNANA_datafiles_v1_0.ipynb"
   ]
  },
  {
   "cell_type": "code",
   "execution_count": null,
   "metadata": {},
   "outputs": [],
   "source": []
  },
  {
   "cell_type": "markdown",
   "metadata": {},
   "source": [
    "-----"
   ]
  },
  {
   "cell_type": "markdown",
   "metadata": {},
   "source": [
    "### Metadata LOW-Z SAMPLE\n",
    "\n",
    "I don't need to run these cells if I'm updating the RAISINs SNANA files"
   ]
  },
  {
   "cell_type": "code",
   "execution_count": 7,
   "metadata": {},
   "outputs": [
    {
     "name": "stdout",
     "output_type": "stream",
     "text": [
      "[  1.88542500e+02   2.66556000e+00   5.79067269e-03   3.33564095e-06\n",
      "   3.19220839e-03   2.00138457e-05   9.20636903e-04   5.00346143e-04\n",
      "   2.00000000e+00]\n"
     ]
    }
   ],
   "source": [
    "DirMetadata = '/Users/arturo/Dropbox/Research/SoftwareResearch/\\\n",
    "Snoopy/AndyLCComp_2018_02/'\n",
    "\n",
    "# Reading the metadata file\n",
    "infoSNe_data = np.genfromtxt(DirMetadata+\n",
    "                             'carrick_Flow_corrections_snnames_v1.txt',\n",
    "                            dtype=['S17', float,float, 'S40',float,float,\n",
    "                                   float,float,float,float,'S16', int ])\n",
    "\n",
    "# Create a dictionary: \n",
    "# {snname: ra, dec, zhelio, e_zhel, zcmb, e_zcmb, zcmbFlow, e_zcmbFlow, code}\n",
    "\n",
    "infoSNe_dict = {infoSNe_data['f0'][i]: np.array( [ infoSNe_data['f1'][i],\n",
    "                infoSNe_data['f2'][i], \n",
    "                infoSNe_data['f4'][i]/cc, infoSNe_data['f5'][i]/cc,\n",
    "                infoSNe_data['f6'][i]/cc, infoSNe_data['f7'][i]/cc,\n",
    "                infoSNe_data['f8'][i]/cc, infoSNe_data['f9'][i]/cc,\n",
    "                infoSNe_data['f11'][i]] )\n",
    "                for i in range(len(infoSNe_data)) } \n",
    "\n",
    "print infoSNe_dict['sn1991T']\n",
    "# [  1.88542500e+02   2.66556000e+00   5.79067269e-03   3.33564095e-06\n",
    "#    3.19220839e-03   2.00138457e-05   6.60456908e-03   5.00346143e-04\n",
    "#    2.00000000e+00]"
   ]
  },
  {
   "cell_type": "code",
   "execution_count": null,
   "metadata": {},
   "outputs": [],
   "source": []
  },
  {
   "cell_type": "code",
   "execution_count": 8,
   "metadata": {
    "collapsed": false
   },
   "outputs": [
    {
     "data": {
      "text/plain": [
       "0"
      ]
     },
     "execution_count": 8,
     "metadata": {},
     "output_type": "execute_result"
    }
   ],
   "source": [
    "\"\"\" \n",
    "# (z_helio, error_z_helio)\n",
    "# From WoodVasey & Andy Friedman metadata file.\n",
    "\n",
    "DirMetadata = '/Users/arturo/Dropbox/Research/SoftwareResearch/Snoopy/AndyLCComp/MyNotesAbout/'\n",
    "\n",
    "InfoSN_zHelio = np.genfromtxt(DirMetadata+'WoodVasey_Andy/WoodVasey_AndyFriedman_zCMB_2017_08_11_Converted_.txt',\n",
    "                            usecols=(0,1,2), dtype=['S24', float, float])\n",
    "\n",
    "# Create a dictionary: \n",
    "InfoSN_zHelio_dict ={}\n",
    "\n",
    "for i in range(len(InfoSN_zHelio)):\n",
    "    snname_int1 = InfoSN_zHelio[i][0]\n",
    "    zHelio_int1 = InfoSN_zHelio[i][1]/cc\n",
    "    err_zHelio_int1 = InfoSN_zHelio[i][2]/cc\n",
    "    \n",
    "    InfoSN_zHelio_dict[snname_int1] = [ zHelio_int1, err_zHelio_int1  ]\n",
    "    \n",
    "InfoSN_zHelio_dict['sn2006D']\n",
    "# [0.0085258982732647672, 1.6678204759907602e-05]\n",
    "\"\"\"\n",
    "0"
   ]
  },
  {
   "cell_type": "code",
   "execution_count": 9,
   "metadata": {
    "collapsed": false
   },
   "outputs": [
    {
     "data": {
      "text/plain": [
       "0"
      ]
     },
     "execution_count": 9,
     "metadata": {},
     "output_type": "execute_result"
    }
   ],
   "source": [
    "\"\"\"\n",
    "# (z_helio, error_z_helio, z_CMB, error_z_CMB) \n",
    "# From WoodVasey & Andy Friedman metadata file for the SPECIAL CASES\n",
    "\n",
    "InfoSN_zCMB_Special = np.genfromtxt(DirMetadata+'WoodVasey_Andy/WoodVasey_AndyFriedman_zCMB_2017_08_11_SpecialCases_Converted_Ho70.txt',\n",
    "                            usecols=(0,1,2, 14, 15), \n",
    "                            dtype=['S10', float, float, float, float])\n",
    "\n",
    "# Create a dictionary: \n",
    "InfoSN_zCMB_Special_dict ={}\n",
    "\n",
    "for i in range(len(InfoSN_zCMB_Special)):\n",
    "    snname_int2 = InfoSN_zCMB_Special[i][0]\n",
    "    zHelio_int2 = InfoSN_zCMB_Special[i][1]/cc\n",
    "    err_zHelio_int2 = InfoSN_zCMB_Special[i][2]/cc\n",
    "    zCMB_int2 = InfoSN_zCMB_Special[i][3]/cc\n",
    "    err_zCMB_int2 = InfoSN_zCMB_Special[i][4]/cc\n",
    "    \n",
    "    InfoSN_zCMB_Special_dict[snname_int2] = [ zHelio_int2, err_zHelio_int2, \n",
    "                                              zCMB_int2, err_zCMB_int2  ]\n",
    "    \n",
    "InfoSN_zCMB_Special_dict['sn1999cl']\n",
    "# [0.0076085970114698484,\n",
    "# 1.0006922855944561e-05,\n",
    "# 0.0031922083910463153,\n",
    "# 2.0013845711889123e-05]\n",
    "\"\"\"\n",
    "0"
   ]
  },
  {
   "cell_type": "code",
   "execution_count": 10,
   "metadata": {
    "collapsed": false
   },
   "outputs": [
    {
     "data": {
      "text/plain": [
       "0"
      ]
     },
     "execution_count": 10,
     "metadata": {},
     "output_type": "execute_result"
    }
   ],
   "source": [
    "\"\"\"\n",
    "# Using Michael Foley flow-corrected z_CMB + Cepheid distances + special cases\n",
    "# compiled by Andy Friedman\n",
    "\n",
    "InfoSN_zCMB_MFoley = np.genfromtxt(DirMetadata+'zCMB_FlowCorrected_MichaelFoley_original.txt',\n",
    "                            usecols=(0, 1, 2, 5), dtype=['S18', float, float, float])\n",
    "\n",
    "# Create a final dictionary: (snname: zhelio, err_zhelio, zcmb, err_zcmb, RA, DEC)\n",
    "InfoSN_dict ={}\n",
    "\n",
    "for i in range(len(InfoSN_zCMB_MFoley)):\n",
    "    snname_int3     = InfoSN_zCMB_MFoley[i][0]\n",
    "    zHelio_int3     = InfoSN_zHelio_dict[snname_int3][0]\n",
    "    err_zHelio_int3 = InfoSN_zHelio_dict[snname_int3][1]\n",
    "    RA_int  = InfoSN_zCMB_MFoley[i][1]\n",
    "    DEC_int = InfoSN_zCMB_MFoley[i][2]\n",
    "    \n",
    "    \n",
    "    #---- Define z_CMB and err_z_CMB ------\n",
    "    \n",
    "    if snname_int3 in list(InfoSN_zCMB_Special['f0']): # Special cases\n",
    "        zCMB_int3 = InfoSN_zCMB_Special_dict[snname_int3][2]\n",
    "        err_zCMB_int3 = InfoSN_zCMB_Special_dict[snname_int3][3]\n",
    "    else: # Michael Foley's zcmb values\n",
    "        zCMB_int3 = InfoSN_zCMB_MFoley[i][3]\n",
    "        err_zCMB_int3 = 150/cc\n",
    "    \n",
    "    InfoSN_dict[snname_int3] = [ zHelio_int3, err_zHelio_int3, \n",
    "                                 zCMB_int3, err_zCMB_int3, RA_int, DEC_int ]\n",
    "    \n",
    "InfoSN_dict['sn1998bu']\n",
    "# [0.0029920699339274241,\n",
    "# 1.3342563807926082e-05,\n",
    "# 0.0021141927350000001,\n",
    "# 0.0005003461427972281,\n",
    "# 161.69179,\n",
    "# 11.83531]\n",
    "\"\"\"\n",
    "0"
   ]
  },
  {
   "cell_type": "code",
   "execution_count": null,
   "metadata": {
    "collapsed": true
   },
   "outputs": [],
   "source": []
  },
  {
   "cell_type": "markdown",
   "metadata": {},
   "source": [
    "-----"
   ]
  },
  {
   "cell_type": "markdown",
   "metadata": {},
   "source": [
    "### Metadata RAISINs\n",
    "\n",
    "Don't need to run these cells if I'm updating the LOW-Z SNANA files."
   ]
  },
  {
   "cell_type": "code",
   "execution_count": 11,
   "metadata": {},
   "outputs": [
    {
     "data": {
      "text/plain": [
       "0"
      ]
     },
     "execution_count": 11,
     "metadata": {},
     "output_type": "execute_result"
    }
   ],
   "source": [
    "# Metadata file\n",
    "\n",
    "\"\"\" \n",
    "DirMetadata = '/Users/arturo/Dropbox/Research/Articulos/12_RAISINs/\\\n",
    "Metadata/useful_but_tmp/'\n",
    "\n",
    "InfoSN_z = np.genfromtxt(DirMetadata+'table_zcmb_EBVmw_.txt',\n",
    "                            dtype=['S15', float, float, float,\n",
    "                                  float, float, float])\n",
    "# Create a dictionary: \n",
    "InfoSN_z_dict ={}\n",
    "\n",
    "for i in range(len(InfoSN_z)):\n",
    "    snname_int1 = InfoSN_z[i][0]\n",
    "    zHelio_int1 = InfoSN_z[i][1]\n",
    "    e_zhelio_int1 = 0 # It is just a placeholder for now\n",
    "    zcmb_int1 = InfoSN_z[i][4]\n",
    "    e_zcmb_int1 = 0 # It is just a placeholder for now\n",
    "    ebv_int1   = InfoSN_z[i][5]\n",
    "    e_ebv_int1 = InfoSN_z[i][6]\n",
    "    \n",
    "    InfoSN_z_dict[snname_int1] = [ zHelio_int1, e_zhelio_int1,\n",
    "                                   zcmb_int1,   e_zcmb_int1,\n",
    "                                   ebv_int1,    e_ebv_int1]\n",
    "    \n",
    "InfoSN_z_dict['DES15C1nhv']\n",
    "# [0.42047000000000001,\n",
    "#  0,\n",
    "#  0.42011100000000001,\n",
    "#  0,\n",
    "#  0.0091999999999999998,\n",
    "#  0.00020000000000000001]\n",
    "\n",
    "\"\"\"\n",
    "0"
   ]
  },
  {
   "cell_type": "code",
   "execution_count": null,
   "metadata": {},
   "outputs": [],
   "source": []
  },
  {
   "cell_type": "markdown",
   "metadata": {},
   "source": [
    "-----"
   ]
  },
  {
   "cell_type": "markdown",
   "metadata": {},
   "source": [
    "# Read/replace zcmb in SNANA photometry datafile"
   ]
  },
  {
   "cell_type": "code",
   "execution_count": 12,
   "metadata": {
    "collapsed": false
   },
   "outputs": [
    {
     "name": "stdout",
     "output_type": "stream",
     "text": [
      "# len(list_SNe) = 4\n"
     ]
    }
   ],
   "source": [
    "# Read all the photometry file names in a given sample folder:\n",
    "\n",
    "import os # To use command line like instructions\n",
    "import glob # To read the files in my directory\n",
    "\n",
    "# Change the working directory where the data files are located\n",
    "os.chdir(dirSnanaFolders+FolderSample+'/')\n",
    "\n",
    "#--- Reading the data files in the folder \n",
    "list_SNe = glob.glob('*.DAT')\n",
    "if len(list_SNe) == 0: list_SNe = glob.glob('*.dat')\n",
    "    \n",
    "print '# len(list_SNe) =', len(list_SNe)"
   ]
  },
  {
   "cell_type": "markdown",
   "metadata": {},
   "source": [
    "### Main loop"
   ]
  },
  {
   "cell_type": "code",
   "execution_count": 13,
   "metadata": {
    "collapsed": true
   },
   "outputs": [
    {
     "name": "stdout",
     "output_type": "stream",
     "text": [
      "   CFA3_4SHOOTER2_2002dj.DAT\n",
      "old: REDSHIFT_CMB:  0.0104627799086 +- 0.000500000  (CMB)\n",
      "new: REDSHIFT_CMB: 0.00826905391996 +- 0.00152438791506 (CMB)\n",
      "   CFA3_4SHOOTER2_2002fk.DAT\n",
      "old: REDSHIFT_CMB:  0.00849474319367 +- 0.000500000  (CMB)\n",
      "new: REDSHIFT_CMB: 0.00780873546859 +- 0.000270186917111 (CMB)\n",
      "   CFA3_4SHOOTER2_2003cg.DAT\n",
      "old: REDSHIFT_CMB:  0.00531542734873 +- 0.000500000  (CMB)\n",
      "new: REDSHIFT_CMB: 0.00569393910503 +- 0.000473661015181 (CMB)\n",
      "   CFA3_4SHOOTER2_2003du.DAT\n",
      "old: REDSHIFT_CMB:  0.00486688417715 +- 0.000500000  (CMB)\n",
      "new: REDSHIFT_CMB: 0.00936981543412 +- 0.000350242299958 (CMB)\n",
      "\n",
      "4 SNe were updated their zcmb values peacefully :) \n",
      "0 SNe are not in the metadata file. \n",
      "\n"
     ]
    }
   ],
   "source": [
    "# Read the time and date right now\n",
    "now = datetime.datetime.now()\n",
    "\n",
    "# Create a log file:\n",
    "log_file = open(DirSaveOutput+'Log_Updated_zcmb_files.log','w')\n",
    "\n",
    "log_file.write(\"# SNANA file with updated zCMB (written in REDSHIFT_FINAL) based \\n\\\n",
    "# on Michael Foley + Cepheid distances + special cases compiled by Andy Friedman. \\n\")\n",
    "\n",
    "text_line = '#'+'-'*60+'\\n'\n",
    "\n",
    "log_file.write(text_line)\n",
    "log_file.write('# Data table created by: Arturo Avelino \\n')\n",
    "text_01 = now.strftime(\"%Y-%m-%d (yyyy-mm-dd); %H:%M hrs.\")\n",
    "log_file.write('# On date: %s \\n'%text_01)\n",
    "log_file.write('# Script used: %s \\n'%NotebookName)\n",
    "log_file.write(text_line)\n",
    "            \n",
    "#-----------------------------------\n",
    "\n",
    "countSN = 0 # Count number of SNe with updated values\n",
    "countNoAndy = 0 # SNe that are NOT in Andy's sample\n",
    "\n",
    "for file in list_SNe: # Loop 0: over all the SNANA files.\n",
    "    \n",
    "    snanafile = file\n",
    "    \n",
    "    #-----------------------------------\n",
    "    # Loop 1: Find the name of the SN.\n",
    "    \n",
    "    # resetting this variable first.\n",
    "    snname = ''\n",
    "    snname_int1 = ''\n",
    "    snname_int2 = ''\n",
    "    \n",
    "    # Loop over each line of a given SNANA file \n",
    "    for line_1 in open(dirSnanaFolders+FolderSample+'/'+snanafile):\n",
    "\n",
    "        # Find the line_1 with the SN name and define a temporal variable \n",
    "        if line_1[:5] == 'SNID:': \n",
    "            snname_int1 = line_1[6:]\n",
    "\n",
    "            # Remove the blank spaces before and after the temporal SN name:\n",
    "            for ss in snname_int1:  \n",
    "                if ss != ' ': snname_int2 = snname_int2 + ss\n",
    "\n",
    "            if   sampletype == 'lowz' : snname = 'sn'+snname_int2[:-1]\n",
    "            elif sampletype == 'ps1' or sampletype == 'des': \n",
    "                snname = snname_int2[:-1]\n",
    "                \n",
    "            # print snname\n",
    "               \n",
    "    #-----------------------------------\n",
    "    \n",
    "    if sampletype == 'lowz':\n",
    "        \n",
    "        # Loop 2: # Write down the SNANA file but with the \n",
    "        # updated (z_CMB, zhelio)\n",
    "\n",
    "        # Check if this SN is in the metadata file where I have \n",
    "        # updated (z_CMB, zhelio) values for certain SNe.\n",
    "        # old. if snname in InfoSN_zCMB_MFoley['f0']:\n",
    "        if snname in infoSNe_data['f0']:\n",
    "\n",
    "            log_file.write('   %s \\n'%snanafile)\n",
    "            print '   %s'%snanafile\n",
    "\n",
    "            # Open the new text file:\n",
    "            newSNANAtext = open(DirSaveOutput+snanafile, 'w')\n",
    "\n",
    "            newSNANAtext.write(\"# SNANA file with updated zCMB (written in REDSHIFT_FINAL and \\\n",
    "# REDSHIFT_CMB) based on \\n# Carrick flow model compiled by Andy Friedman. \\n\")\n",
    "            newSNANAtext.write(text_line)\n",
    "            newSNANAtext.write('# Data table created by: Arturo Avelino \\n')\n",
    "            text_01 = now.strftime(\"%Y-%m-%d (yyyy-mm-dd); %H:%M hrs.\")\n",
    "            newSNANAtext.write('# On date: %s \\n'%text_01)\n",
    "            newSNANAtext.write('# Script used: %s \\n'%NotebookName)\n",
    "            text_line = '#'+'-'*60+'\\n'\n",
    "            newSNANAtext.write(text_line)\n",
    "\n",
    "            # Loop over each line of a given SNANA file \n",
    "            for line_2 in open(dirSnanaFolders+FolderSample+'/'+snanafile):\n",
    "\n",
    "                # Find the line_2 with 'REDSHIFT_FINAL' and replace the value of zcmb.\n",
    "                if line_2[:14] == 'REDSHIFT_FINAL':\n",
    "                    zcmb_new     = infoSNe_dict[snname][4] \n",
    "                    err_zcmb_new = infoSNe_dict[snname][5] \n",
    "\n",
    "                    # Write the updated zcmb line_2 to the text file\n",
    "                    text_int1 = 'REDSHIFT_FINAL: %s +- %s (CMB)'%(zcmb_new, err_zcmb_new)\n",
    "                    newSNANAtext.write(text_int1+'\\n')\n",
    "\n",
    "                    log_file.write('old: '+ line_2)\n",
    "                    log_file.write('new: '+ text_int1 + '\\n')\n",
    "                    log_file.write(' \\n')\n",
    "                    # print 'old:', line_2, 'new:', text_int1\n",
    "                    \n",
    "                elif line_2[:12] == 'REDSHIFT_CMB':\n",
    "                    zcmb_new     = infoSNe_dict[snname][4] \n",
    "                    err_zcmb_new = infoSNe_dict[snname][5] \n",
    "\n",
    "                    # Write the updated zcmb line_2 to the text file\n",
    "                    text_int1 = 'REDSHIFT_CMB: %s +- %s (CMB)'%(zcmb_new, err_zcmb_new)\n",
    "                    newSNANAtext.write(text_int1+'\\n')\n",
    "\n",
    "                    log_file.write('old: '+ line_2)\n",
    "                    log_file.write('new: '+ text_int1 + '\\n')\n",
    "                    log_file.write(' \\n')\n",
    "                    print 'old:', line_2, 'new:', text_int1\n",
    "\n",
    "                # Write all the other \"line_2\" to the text file\n",
    "                else: newSNANAtext.write(line_2)\n",
    "\n",
    "            newSNANAtext.close()\n",
    "            countSN = countSN + 1\n",
    "\n",
    "        else:  \n",
    "            text_log_02 = '   %s: No in Andy s sample. \\n'%snanafile\n",
    "            log_file.write(text_log_02)\n",
    "            log_file.write(' \\n')\n",
    "            print text_log_02\n",
    "            countNoAndy = countNoAndy + 1\n",
    "            \n",
    "    #-----------------------------------\n",
    "    \n",
    "    elif sampletype == 'ps1' or sampletype == 'des': \n",
    "        \n",
    "        # Loop 2: # Write down the SNANA file but with the \n",
    "        # updated (z_CMB, zhelio)\n",
    "\n",
    "        # Check if this SN is in the metadata file where I have \n",
    "        # updated (z_CMB, zhelio) values for certain SNe.\n",
    "        if snname in InfoSN_z['f0']:\n",
    "\n",
    "            log_file.write('   %s \\n'%snanafile)\n",
    "            print '   %s'%snanafile\n",
    "\n",
    "            # Open the new text file:\n",
    "            newSNANAtext = open(DirSaveOutput+snanafile, 'w')\n",
    "\n",
    "            newSNANAtext.write(\"# SNANA file with updated zhelio and/or zCMB \\\n",
    "(written in REDSHIFT_FINAL). \\n\")\n",
    "            newSNANAtext.write('# Data table created by: Arturo Avelino \\n')\n",
    "            text_01 = now.strftime(\"%Y-%m-%d (yyyy-mm-dd); %H:%M hrs.\")\n",
    "            newSNANAtext.write('# On date: %s \\n'%text_01)\n",
    "            newSNANAtext.write('# Script used: %s \\n'%NotebookName)\n",
    "            text_line = '#'+'-'*60+'\\n'\n",
    "            newSNANAtext.write(text_line)\n",
    "            \n",
    "            zhel_new     = InfoSN_z_dict[snname][0] \n",
    "            err_zhel_new = InfoSN_z_dict[snname][1]\n",
    "            zcmb_new     = InfoSN_z_dict[snname][2] \n",
    "            err_zcmb_new = InfoSN_z_dict[snname][3] \n",
    "\n",
    "            # Loop over each line of a given SNANA file   \n",
    "            for line_2 in open(dirSnanaFolders+FolderSample+'/'+snanafile):\n",
    "\n",
    "                # Find the line_2 with 'REDSHIFT_xxx' and replace the value of zxxx.\n",
    "                # if  zcmb_update == True:\n",
    "                if line_2[:15] == 'REDSHIFT_FINAL:':\n",
    "                    text_int0 = line_2[25:]\n",
    "                    text_int1 = 'REDSHIFT_FINAL:  %.4f  %s'%(zcmb_new, text_int0)\n",
    "                    text_log1 = 'old: '+ line_2\n",
    "                    text_log2 = 'new: '+ text_int1\n",
    "                    log_file.write(text_log1); log_file.write(text_log2); \n",
    "                    print text_log1, text_log2\n",
    "                    \n",
    "                elif line_2[:15] == 'REDSHIFT_HELIO:':\n",
    "                    text_int0 = line_2[25:]\n",
    "                    text_int1 = 'REDSHIFT_HELIO:  %.4f  %s'%(zhel_new, text_int0)\n",
    "                    text_log1 = 'old: '+ line_2\n",
    "                    text_log2 = 'new: '+ text_int1\n",
    "                    log_file.write(text_log1); log_file.write(text_log2);\n",
    "                    print text_log1, text_log2\n",
    "\n",
    "                # Write all the other \"line_2's\" lines to the text file\n",
    "                else: text_int1 = line_2\n",
    "                \n",
    "                # Write the updated zcmb line_2 to the text file\n",
    "                newSNANAtext.write(text_int1)\n",
    "\n",
    "            newSNANAtext.close()\n",
    "            countSN = countSN + 1\n",
    "\n",
    "        else:  \n",
    "            text_log_02 = '   %s: No in Andy s sample. \\n'%snanafile\n",
    "            log_file.write(text_log_02)\n",
    "            log_file.write(' \\n')\n",
    "            print text_log_02\n",
    "            countNoAndy = countNoAndy + 1\n",
    "            \n",
    "    #-----------------------------------\n",
    "        \n",
    "text_10 = '%s SNe were updated their zcmb values peacefully :) \\n'%countSN\n",
    "text_11 = \"%s SNe are not in the metadata file. \\n\"%countNoAndy\n",
    "\n",
    "log_file.write(text_line); log_file.write(text_10); log_file.write(text_11)\n",
    "print\n",
    "print text_10, text_11\n",
    "\n",
    "log_file.close()"
   ]
  },
  {
   "cell_type": "code",
   "execution_count": null,
   "metadata": {
    "collapsed": true
   },
   "outputs": [],
   "source": []
  },
  {
   "cell_type": "code",
   "execution_count": null,
   "metadata": {
    "collapsed": true
   },
   "outputs": [],
   "source": []
  },
  {
   "cell_type": "markdown",
   "metadata": {},
   "source": [
    "-------"
   ]
  },
  {
   "cell_type": "markdown",
   "metadata": {},
   "source": [
    "# Scratch"
   ]
  },
  {
   "cell_type": "code",
   "execution_count": null,
   "metadata": {
    "collapsed": true
   },
   "outputs": [],
   "source": []
  }
 ],
 "metadata": {
  "kernelspec": {
   "display_name": "Python [default]",
   "language": "python",
   "name": "python2"
  },
  "language_info": {
   "codemirror_mode": {
    "name": "ipython",
    "version": 2
   },
   "file_extension": ".py",
   "mimetype": "text/x-python",
   "name": "python",
   "nbconvert_exporter": "python",
   "pygments_lexer": "ipython2",
   "version": "2.7.13"
  }
 },
 "nbformat": 4,
 "nbformat_minor": 2
}
