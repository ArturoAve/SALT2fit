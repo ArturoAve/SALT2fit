{
 "cells": [
  {
   "cell_type": "markdown",
   "metadata": {},
   "source": [
    "# SNANA file names comparisons\n",
    "\n",
    "- Compare 2 columns of names looking for differences.\n",
    "- Create a text file with the repeated files."
   ]
  },
  {
   "cell_type": "markdown",
   "metadata": {},
   "source": [
    "---------"
   ]
  },
  {
   "cell_type": "markdown",
   "metadata": {},
   "source": [
    "# Find and match the names between SNANA database and the SNeIa in my Hubble diagrams\n",
    "\n",
    "\n",
    "I'm given with two table files containing each one a column of SNe names. This script read that column and create a list of those names that are and are not in both lists.\n",
    "\n",
    "The names in the list may have (or not) prefixes or suffixes; this script is able to read and compare that kind of lists, for instance, in one list the name to compare is \"sn2006bh__u_CSP_21_CSP_J\" while in the other list is written as \"JLA2014_CSP_2006bh.dat\": this script is able to output: \"Yes, 2006bh is in both lists\".\n"
   ]
  },
  {
   "cell_type": "markdown",
   "metadata": {},
   "source": [
    "### USER"
   ]
  },
  {
   "cell_type": "code",
   "execution_count": 1,
   "metadata": {
    "collapsed": true
   },
   "outputs": [
    {
     "name": "stdout",
     "output_type": "stream",
     "text": [
      "# 56 SNe in this list.\n"
     ]
    }
   ],
   "source": [
    "import numpy as np\n",
    "import matplotlib as plt\n",
    "\n",
    "#---------------------------------------------------\n",
    "\n",
    "#     Table 1\n",
    "\n",
    "DirTables_1 = '/Users/arturo/Dropbox/Research/Articulos/10_AndyKaisey/\\\n",
    "10Compute/TheTemplates/AllBands/Plots/HubbleDiagram/GaussianProcess/'\n",
    " \n",
    "DataFile_1 = 'Table_TotalMu_AllBands_Notes_.txt'\n",
    "table_1 = np.genfromtxt(DirTables_1+DataFile_1, usecols=(0), dtype=['S28'])\n",
    "\n",
    "print \"# %s SNe in this list.\"%len(table_1)\n",
    "\n",
    "# Ignore the first characters in the name (e.g., the \"sn\" in \"sn2006bo\")\n",
    "AppendNameCharacters_1 = 2   #  2\n",
    "\n",
    "#---------------------------------------------------\n",
    "\n",
    "# Copy the SNANA LC files?\n",
    "copyLCfiles = True\n",
    "\n",
    "DirSaveOutput = '/Users/arturo/Dropbox/Research/SoftwareResearch/\\\n",
    "SNANA/Odyssey/home_snana/lowz/'\n",
    "\n",
    "#---------------------------------------------------\n",
    "\n",
    "NotebookName = \"01_FindSNeNamesInSNANAbasedOnAndySample.ipynb\""
   ]
  },
  {
   "cell_type": "code",
   "execution_count": null,
   "metadata": {},
   "outputs": [],
   "source": []
  },
  {
   "cell_type": "code",
   "execution_count": 2,
   "metadata": {
    "collapsed": true
   },
   "outputs": [],
   "source": [
    "# Samples in SNANA database\n",
    "# /n/panlfs3/aavelino/SNDATA_ROOT/lcmerge/2017_05_12/\n",
    "\n",
    "#     Table 2\n",
    "\n",
    "# Location of the \".LIST\" files.\n",
    "DirTables_2 = '/Users/arturo/Dropbox/Research/SoftwareResearch/SNANA/\\\n",
    "Odyssey/home_snana/lowz/0_lcmerge_LISTS_SNDATA_ROOT_2018_01_02/LIST_files_Originals/'\n",
    "\n",
    "# Names of the \".LIST\" files in SNANA database.\n",
    "# 1st argument: The name of the \".LIST\" file, that it is equal to\n",
    "# the folder's name in SNANA's \"lcmerge\" LC folder.\n",
    "# 2nd argument: The number correponds to the number of characters to ignore before\n",
    "# the actual SN name in the LC-file name.\n",
    "# 3rd argument: The subsample associated to that folder, i.e., CfA, CSP, Others.\n",
    "\n",
    "SamplesSNANA = [\n",
    "('CFA3_4SHOOTER2', 15, 'CfA'),\n",
    "('CFA3_KEPLERCAM', 15, 'CfA'),\n",
    "('CFA4', 5, 'CfA'),\n",
    "('CSPDR2', 7, 'CSP'),\n",
    "('ESSENCE_WV07', 13, 'Oth'),\n",
    "('HST_Riess06_GOLD', 12, 'Oth'),\n",
    "('HST_Riess06', 12, 'Oth'),\n",
    "('JLA2014_CfAIII_4SHOOTER2', 25, 'CfA'),\n",
    "('JLA2014_CfAIII_KEPLERCAM', 25, 'CfA'),\n",
    "('JLA2014_CSP', 12, 'CSP'),\n",
    "('JLA2014_HST', 12, 'Oth'),\n",
    "('JLA2014_LOWZ_LANDOLT_a', 20, 'Oth'),\n",
    "('JLA2014_LOWZ_LANDOLT_a', 20, 'CSP'),\n",
    "('JLA2014_LOWZ_LANDOLT_b', 13, 'CfA'),\n",
    "('JLA2014_LOWZ_LANDOLT_c', 14, 'CfA'),\n",
    "('JLA2014_LOWZ_LANDOLT_d', 18, 'Oth'),\n",
    "('JLA2014_SNLS', 13, 'Oth'),\n",
    "('LOWZ_CFA3', 10, 'CfA'),\n",
    "('LOWZ_JRK07', 11, 'CfA'),\n",
    "('LOWZ_JRK07', 11, 'Oth'),\n",
    "('PS1s_CFA1_JRK07_RS14', 11, 'CfA'),\n",
    "('PS1s_CFA2_JRK07_RS14', 11, 'CfA'),\n",
    "('PS1s_CFA3_4SHOOTER2_RS14', 15, 'CfA'),\n",
    "('PS1s_CFA3_KEPLERCAM_RS14', 15, 'CfA'),\n",
    "('PS1s_CFA4_p1_RS14', 8, 'CfA'),\n",
    "('PS1s_CFA4_p2_RS14', 8, 'CfA'),\n",
    "('PS1s_CSPDR2_V_RS14', 7, 'CSP'),\n",
    "('PS1s_PS1_RS14', 0, 'Oth'),\n",
    "# ('SDSS_allCandidates+BOSS', 0, 'CfA'),\n",
    "('SDSS_HOLTZ08', 13, 'Oth'),\n",
    "('SNLS_Ast06', 11, 'Oth'),\n",
    "('SNLS3year_CFA3_4SHOOTER2', 25, 'CfA'),\n",
    "('SNLS3year_CFA3_KEPLERCAM', 25, 'CfA'),\n",
    "    \n",
    "# Version SNDATA_ROOT_2018_01_02 don't have any LC file.\n",
    "# ('SNLS3year_CSP', 7, 'CSP'),\n",
    "\n",
    "('SNLS3year_JRK07', 16, 'CfA'),\n",
    "('SNLS3year_JRK07', 16, 'Oth'),\n",
    "('SNLS3year_MEGACAM', 18, 'Oth'),\n",
    "('SNLS3year+METADATA', 19, 'Oth')\n",
    "]\n",
    "\n",
    "# If \"copyLCfiles = True\" then look for the SNANA LC files here:\n",
    "if copyLCfiles:\n",
    "    DirSNANAlcmerge = '/Users/arturo/Documents/Research/SNANA/\\\n",
    "SNDATA_ROOT_PUBLIC_2018_01_02/lcmerge/'"
   ]
  },
  {
   "cell_type": "code",
   "execution_count": null,
   "metadata": {
    "collapsed": true
   },
   "outputs": [],
   "source": []
  },
  {
   "cell_type": "code",
   "execution_count": 3,
   "metadata": {
    "collapsed": false
   },
   "outputs": [
    {
     "data": {
      "text/plain": [
       "0"
      ]
     },
     "execution_count": 3,
     "metadata": {},
     "output_type": "execute_result"
    }
   ],
   "source": [
    "# OK\n",
    "\"\"\" \n",
    "# Samples in SNANA database\n",
    "# /n/panlfs3/aavelino/SNDATA_ROOT/lcmerge/\n",
    "# SNANA v10_35g \n",
    "\n",
    "#     Table 2\n",
    "\n",
    "DirTables_2 = '/Users/arturo/Dropbox/Research/SoftwareResearch/SNANA/Odyssey/panlfs3_aavelino/\\\n",
    "lcmerge/lcmerge_v10_35g_listsOfSNe/LIST_files/'\n",
    "\n",
    "SamplesSNANA = [\n",
    "('CFA3_4SHOOTER2', 15, 'CfA'),\n",
    "('CFA3_KEPLERCAM', 15, 'CfA'),\n",
    "('CFA4', 5, 'CfA'),\n",
    "('CSPDR2', 7, 'CSP'),\n",
    "('JLA2014_CfAIII_4SHOOTER2', 25, 'CfA'),\n",
    "('JLA2014_CfAIII_KEPLERCAM', 25, 'CfA'),\n",
    "('JLA2014_CSP', 12, 'CSP'),\n",
    "('JLA2014_LOWZ_LANDOLT_a', 20, 'Oth'),\n",
    "('JLA2014_LOWZ_LANDOLT_b', 13, 'CfA'),\n",
    "('JLA2014_LOWZ_LANDOLT_c', 14, 'CfA'),\n",
    "('JLA2014_LOWZ_LANDOLT_d', 18, 'Oth'),\n",
    "('LOWZ_CFA3', 10, 'CfA'),\n",
    "('LOWZ_JRK07', 11, 'Oth'),\n",
    "('SNLS3year_CFA3_4SHOOTER2', 25, 'CfA'),\n",
    "('SNLS3year_CFA3_KEPLERCAM', 25, 'CfA'),\n",
    "('SNLS3year_CSP', 7, 'CSP'),\n",
    "('SNLS3year_JRK07', 16, 'Oth')\n",
    "]\n",
    "\"\"\"\n",
    "0"
   ]
  },
  {
   "cell_type": "code",
   "execution_count": null,
   "metadata": {},
   "outputs": [],
   "source": []
  },
  {
   "cell_type": "markdown",
   "metadata": {},
   "source": [
    "------------"
   ]
  },
  {
   "cell_type": "markdown",
   "metadata": {},
   "source": [
    "## Automatic"
   ]
  },
  {
   "cell_type": "code",
   "execution_count": 4,
   "metadata": {},
   "outputs": [
    {
     "name": "stdout",
     "output_type": "stream",
     "text": [
      "True False\n"
     ]
    }
   ],
   "source": [
    "# Function to identify if a string is an integer number or a letter.\n",
    "# This will be used in the dictionary construction to properly read some SN names.\n",
    "\n",
    "def is_number(s):\n",
    "    try:\n",
    "        int(s)\n",
    "        return True\n",
    "    except ValueError:\n",
    "        return False\n",
    "\n",
    "# Tests\n",
    "print is_number('5'), is_number('e')\n",
    "# True False"
   ]
  },
  {
   "cell_type": "markdown",
   "metadata": {},
   "source": [
    "#### Get the name of this ipython notebook\n",
    "To print it in the output text files as reference"
   ]
  },
  {
   "cell_type": "code",
   "execution_count": 5,
   "metadata": {},
   "outputs": [
    {
     "data": {
      "application/javascript": [
       "var kernel = IPython.notebook.kernel;\n",
       "var thename = window.document.getElementById(\"notebook_name\").innerHTML;\n",
       "var command = \"NotebookName = \" + \"'\"+thename+\".ipynb\"+\"'\";\n",
       "kernel.execute(command);"
      ],
      "text/plain": [
       "<IPython.core.display.Javascript object>"
      ]
     },
     "metadata": {},
     "output_type": "display_data"
    }
   ],
   "source": [
    "%%javascript\n",
    "var kernel = IPython.notebook.kernel;\n",
    "var thename = window.document.getElementById(\"notebook_name\").innerHTML;\n",
    "var command = \"NotebookName = \" + \"'\"+thename+\".ipynb\"+\"'\";\n",
    "kernel.execute(command);"
   ]
  },
  {
   "cell_type": "code",
   "execution_count": 6,
   "metadata": {},
   "outputs": [
    {
     "name": "stdout",
     "output_type": "stream",
     "text": [
      "# 01_FindSNeNamesInSNANAbasedOnAndySample.ipynb\n"
     ]
    }
   ],
   "source": [
    "print '#', (NotebookName)\n",
    "# Update_zcmb_in_SNANA_datafiles_v1_0.ipynb"
   ]
  },
  {
   "cell_type": "code",
   "execution_count": 7,
   "metadata": {},
   "outputs": [],
   "source": [
    "# Get the current date and time\n",
    "import datetime \n",
    "\n",
    "# Read the time and date now\n",
    "now = datetime.datetime.now()"
   ]
  },
  {
   "cell_type": "markdown",
   "metadata": {},
   "source": [
    "#### Find the elements of table 1 that ARE in table 2"
   ]
  },
  {
   "cell_type": "code",
   "execution_count": 8,
   "metadata": {
    "collapsed": true
   },
   "outputs": [
    {
     "name": "stdout",
     "output_type": "stream",
     "text": [
      "#--------------------------------------------------\n",
      "# The following names are common in both tables.\n",
      "# table 1: Table_TotalMu_AllBands_Notes_.txt \n",
      "# table 2: CFA3_4SHOOTER2.LIST \n",
      "# Sample type of table 2:CfA\n",
      "# 0 names are equal in both tables.\n",
      "#\n",
      "#--------------------------------------------------\n",
      "# The following names are common in both tables.\n",
      "# table 1: Table_TotalMu_AllBands_Notes_.txt \n",
      "# table 2: CFA3_KEPLERCAM.LIST \n",
      "# Sample type of table 2:CfA\n",
      "sn2005cf__U_36_B_1_CfA | CFA3_KEPLERCAM_2005cf.DAT\n"
     ]
    },
    {
     "ename": "IOError",
     "evalue": "[Errno 2] No such file or directory: '/Users/arturo/Documents/Research/SNANA/SNDATA_ROOT_PUBLIC_2018_01_02/lcmerge/CFA3_KEPLERCAM/CFA3_KEPLERCAM_2005cf.DAT'",
     "output_type": "error",
     "traceback": [
      "\u001b[0;31m\u001b[0m",
      "\u001b[0;31mIOError\u001b[0mTraceback (most recent call last)",
      "\u001b[0;32m<ipython-input-8-bd1d298b9c47>\u001b[0m in \u001b[0;36m<module>\u001b[0;34m()\u001b[0m\n\u001b[1;32m     96\u001b[0m                     \u001b[0;31m# Copy file from Dir to DirDestination directory.\u001b[0m\u001b[0;34m\u001b[0m\u001b[0;34m\u001b[0m\u001b[0m\n\u001b[1;32m     97\u001b[0m                     copyfile(DirSNANAlcmerge+FolderSample+'/'+name_2_int, \n\u001b[0;32m---> 98\u001b[0;31m                              DirSaveOutput+FolderSample+'/data/'+name_2_int)\n\u001b[0m\u001b[1;32m     99\u001b[0m \u001b[0;34m\u001b[0m\u001b[0m\n\u001b[1;32m    100\u001b[0m                 \u001b[0mcount\u001b[0m \u001b[0;34m=\u001b[0m \u001b[0mcount\u001b[0m \u001b[0;34m+\u001b[0m \u001b[0;36m1\u001b[0m\u001b[0;34m\u001b[0m\u001b[0m\n",
      "\u001b[0;32m/Users/arturo/anaconda2/lib/python2.7/shutil.pyc\u001b[0m in \u001b[0;36mcopyfile\u001b[0;34m(src, dst)\u001b[0m\n\u001b[1;32m     80\u001b[0m                 \u001b[0;32mraise\u001b[0m \u001b[0mSpecialFileError\u001b[0m\u001b[0;34m(\u001b[0m\u001b[0;34m\"`%s` is a named pipe\"\u001b[0m \u001b[0;34m%\u001b[0m \u001b[0mfn\u001b[0m\u001b[0;34m)\u001b[0m\u001b[0;34m\u001b[0m\u001b[0m\n\u001b[1;32m     81\u001b[0m \u001b[0;34m\u001b[0m\u001b[0m\n\u001b[0;32m---> 82\u001b[0;31m     \u001b[0;32mwith\u001b[0m \u001b[0mopen\u001b[0m\u001b[0;34m(\u001b[0m\u001b[0msrc\u001b[0m\u001b[0;34m,\u001b[0m \u001b[0;34m'rb'\u001b[0m\u001b[0;34m)\u001b[0m \u001b[0;32mas\u001b[0m \u001b[0mfsrc\u001b[0m\u001b[0;34m:\u001b[0m\u001b[0;34m\u001b[0m\u001b[0m\n\u001b[0m\u001b[1;32m     83\u001b[0m         \u001b[0;32mwith\u001b[0m \u001b[0mopen\u001b[0m\u001b[0;34m(\u001b[0m\u001b[0mdst\u001b[0m\u001b[0;34m,\u001b[0m \u001b[0;34m'wb'\u001b[0m\u001b[0;34m)\u001b[0m \u001b[0;32mas\u001b[0m \u001b[0mfdst\u001b[0m\u001b[0;34m:\u001b[0m\u001b[0;34m\u001b[0m\u001b[0m\n\u001b[1;32m     84\u001b[0m             \u001b[0mcopyfileobj\u001b[0m\u001b[0;34m(\u001b[0m\u001b[0mfsrc\u001b[0m\u001b[0;34m,\u001b[0m \u001b[0mfdst\u001b[0m\u001b[0;34m)\u001b[0m\u001b[0;34m\u001b[0m\u001b[0m\n",
      "\u001b[0;31mIOError\u001b[0m: [Errno 2] No such file or directory: '/Users/arturo/Documents/Research/SNANA/SNDATA_ROOT_PUBLIC_2018_01_02/lcmerge/CFA3_KEPLERCAM/CFA3_KEPLERCAM_2005cf.DAT'"
     ]
    }
   ],
   "source": [
    "# Find the elements of table 1 that ARE in table 2\n",
    "\n",
    "from shutil import copyfile # To copy/paste data files.\n",
    "\n",
    "File_snana = open(DirSaveOutput+'SNe_inGPHD_AndySample_snanaNamesOnly.txt','w')\n",
    "File_MyFormat = open(DirSaveOutput+'SNe_inGPHD_AndySample.txt','w')\n",
    "\n",
    "now = datetime.datetime.now() # Read the time and date right now\n",
    "text_timenow = now.strftime(\"%Y-%m-%d (yyyy-mm-dd); %H:%M hrs.\")\n",
    "text_line = '#'+'-'*50 + '\\n'\n",
    "\n",
    "File_MyFormat.write('# Data table created by: Arturo Avelino \\n')\n",
    "File_MyFormat.write('# On date: %s \\n'%text_timenow)\n",
    "File_MyFormat.write('# Script used: %s \\n'%NotebookName)\n",
    "File_MyFormat.write(text_line)\n",
    "\n",
    "for k in range(len(SamplesSNANA)):\n",
    "    \n",
    "    FolderSample = SamplesSNANA[k][0]\n",
    "    DataFile_2 = FolderSample+'.LIST'\n",
    "    # print DataFile_2\n",
    "    table_2 = np.genfromtxt(DirTables_2+DataFile_2, usecols=(0), dtype=['S50'])\n",
    "\n",
    "    # Ignore the first characters in the name (e.g., the \"sn\" in \"sn2006bo\")\n",
    "    AppendNameCharacters_2 = SamplesSNANA[k][1]\n",
    "    SuffixNameCharacters_2 = -4\n",
    "\n",
    "    # Identify the sample of table 2 according to the labels used in table 1.\n",
    "    # With this I can select those SN names that are in both tables AND that correspond\n",
    "    # to the same subsample.\n",
    "    sampleTable_2 = SamplesSNANA[k][2]  # (CfA, CSP, Oth). \"Oth\" stands for \"Others\" \n",
    "    # print sampleTable_2\n",
    "    \n",
    "    #------------------------\n",
    "    \n",
    "    text_01 = '#'+'-'*50\n",
    "    text_02 = '# The following names are common in both tables.'\n",
    "    text_03 = '# table 1: %s '%DataFile_1\n",
    "    text_04 = '# table 2: %s '%DataFile_2\n",
    "    text_05 = '# Sample type of table 2:'+sampleTable_2\n",
    "\n",
    "    print text_01\n",
    "    print text_02\n",
    "    print text_03\n",
    "    print text_04\n",
    "    print text_05\n",
    "\n",
    "    File_snana.write(text_01+'\\n'); File_snana.write(text_05+'\\n'); \n",
    "    File_snana.write(text_02+'\\n'); File_snana.write(text_03+'\\n');\n",
    "    File_snana.write(text_04+'\\n');\n",
    "    File_MyFormat.write(text_01+'\\n'); File_MyFormat.write(text_05+'\\n');\n",
    "    File_MyFormat.write(text_02+'\\n'); File_MyFormat.write(text_03+'\\n');\n",
    "    File_MyFormat.write(text_04+'\\n'); \n",
    "    \n",
    "    #------------------------\n",
    "    \n",
    "    count = 0 # Reset counter\n",
    "\n",
    "    for i in range(len(table_1)):\n",
    "        name_1_int = table_1['f0'][i]\n",
    "        if   name_1_int[7] == '_': name_1 = name_1_int[AppendNameCharacters_1:7] # To read correctly, \"sn2011B\"\n",
    "        elif name_1_int[7] != '_':\n",
    "            if is_number(name_1_int[7]): name_1 = name_1_int[AppendNameCharacters_1:15] # To read correctly, \"snf20080514-002\"\n",
    "            else: name_1 = name_1_int[AppendNameCharacters_1:8]  # To read correctly, \"sn1998bu\"   \n",
    "\n",
    "        sampleFlat_1 = name_1_int[19:22]\n",
    "\n",
    "        for j in range(len(table_2)):  \n",
    "\n",
    "            name_2_int = table_2['f0'][j]  \n",
    "            name_2 = name_2_int[AppendNameCharacters_2:SuffixNameCharacters_2]   # Remove the appendix and suffix in the name\n",
    "            # print name_2\n",
    "\n",
    "            # Write down the SN's names\n",
    "            if name_1 == name_2 and sampleFlat_1 == sampleTable_2:\n",
    "                File_MyFormat.write('%s    %s   %s \\n'%(name_1_int, name_2_int, FolderSample))\n",
    "                File_snana.write('%s \\n'%name_2_int)\n",
    "                print name_1_int, '|', name_2_int\n",
    "                # print name_2_int\n",
    "                \n",
    "                if copyLCfiles:\n",
    "                    \n",
    "                    # First give the actual name for'JLA2014_LOWZ_LANDOLT' folder.\n",
    "                    if (FolderSample=='JLA2014_LOWZ_LANDOLT_a' or \n",
    "                        FolderSample=='JLA2014_LOWZ_LANDOLT_b' or \n",
    "                        FolderSample=='JLA2014_LOWZ_LANDOLT_c' or \n",
    "                        FolderSample=='JLA2014_LOWZ_LANDOLT_d'):\n",
    "                        FolderSample = 'JLA2014_LOWZ_LANDOLT' \n",
    "                    \n",
    "                    #- Force the creation of the directory to save the outputs.\n",
    "                    #- \"If the subdirectory does not exist then create it\"\n",
    "                    import os # To use command line like instructions\n",
    "                    if not os.path.exists(DirSaveOutput+FolderSample+'/data/'): \n",
    "                        os.makedirs(DirSaveOutput+FolderSample+'/data/')\n",
    "    \n",
    "                    # Copy file from Dir to DirDestination directory.\n",
    "                    copyfile(DirSNANAlcmerge+FolderSample+'/'+name_2_int, \n",
    "                             DirSaveOutput+FolderSample+'/data/'+name_2_int)\n",
    "                    \n",
    "                count = count + 1 \n",
    "                \n",
    "    text_10 = '# %s names are equal in both tables.'%count\n",
    "    text_empty = '#'\n",
    "    print text_10\n",
    "    print text_empty\n",
    "    File_snana.write(text_10+'\\n'); File_MyFormat.write(text_10+'\\n')\n",
    "    File_snana.write(text_empty+'\\n'); File_MyFormat.write(text_empty+'\\n')\n",
    "\n",
    "File_snana.close()\n",
    "File_MyFormat.close()\n",
    "\n",
    "# print ''\n",
    "print '# All done.'"
   ]
  },
  {
   "cell_type": "code",
   "execution_count": null,
   "metadata": {},
   "outputs": [],
   "source": []
  },
  {
   "cell_type": "code",
   "execution_count": null,
   "metadata": {
    "collapsed": true
   },
   "outputs": [],
   "source": [
    "\n",
    "#--------------------------------------------------\n",
    "# The following names are common in both tables.\n",
    "# table 1: Table_TotalMu_AllBands_Notes_.txt \n",
    "# table 2: JLA2014_LOWZ_LANDOLT_d.LIST \n",
    "# Sample type of table 2:Oth\n",
    "sn2001bt__B_22_V_2_Others | JLA2014_lowzOther_2001bt.dat\n",
    "\n",
    "IOErrorTraceback (most recent call last)\n",
    "<ipython-input-11-a7dacd21743d> in <module>()\n",
    "     88                     # Copy file from Dir to DirDestination directory.\n",
    "     89                     copyfile(DirSNANAlcmerge+FolderSample+'/'+name_2_int, \n",
    "---> 90                              DirSaveOutput+FolderSample+'/'+name_2_int)\n",
    "     91 \n",
    "     92                 count = count + 1\n",
    "\n",
    "/Users/arturo/anaconda/lib/python2.7/shutil.pyc in copyfile(src, dst)\n",
    "     80                 raise SpecialFileError(\"`%s` is a named pipe\" % fn)\n",
    "     81 \n",
    "---> 82     with open(src, 'rb') as fsrc:\n",
    "     83         with open(dst, 'wb') as fdst:\n",
    "     84             copyfileobj(fsrc, fdst)\n",
    "\n",
    "IOError: [Errno 2] No such file or directory: '/Users/arturo/Documents/Research/SNANA/SNDATA_ROOT_PUBLIC_2018_01_02/lcmerge/JLA2014_LOWZ_LANDOLT_d/JLA2014_lowzOther_2001bt.dat'\n"
   ]
  },
  {
   "cell_type": "code",
   "execution_count": null,
   "metadata": {},
   "outputs": [],
   "source": []
  },
  {
   "cell_type": "markdown",
   "metadata": {},
   "source": [
    "-----"
   ]
  },
  {
   "cell_type": "markdown",
   "metadata": {},
   "source": [
    "# Find repeated names in a list\n",
    "\n",
    "Find the repeated names in a given list"
   ]
  },
  {
   "cell_type": "code",
   "execution_count": null,
   "metadata": {
    "collapsed": true
   },
   "outputs": [],
   "source": [
    "# USER \n",
    "\n",
    "# DirList = '/Users/arturo/Dropbox/Research/SoftwareResearch/\\\n",
    "# SNANA/Odyssey/panlfs3_aavelino/lcmerge/0_lcmerge_LISTS_2018_05_04/'\n",
    "\n",
    "DirList = DirSaveOutput\n",
    "\n",
    "# DirSaveOutput = DirList\n",
    "\n",
    "FileName = 'SNe_inGPHD_AndySample.txt'\n",
    "\n",
    "#----------------------------\n",
    "\n",
    "# Preferred sample folder to consider to use that photometric data.\n",
    "# This is ordered based on the number of SNe I selected manually from each folder:\n",
    "# the first folder's name corresponds to the one with more SNe, and so on.\n",
    "PreferredFolders = ['PS1s_CSPDR2_V_RS14', 'LOWZ_JRK07', 'PS1s_CFA3_KEPLERCAM_RS14', \n",
    "                    'JLA2014_LOWZ_LANDOLT', 'PS1s_CFA4_p1_RS14','PS1s_CFA4_p2_RS14' ]"
   ]
  },
  {
   "cell_type": "markdown",
   "metadata": {},
   "source": [
    "#### Automatic"
   ]
  },
  {
   "cell_type": "code",
   "execution_count": null,
   "metadata": {
    "collapsed": false
   },
   "outputs": [],
   "source": [
    "import numpy as np\n",
    "import matplotlib as plt\n",
    "#----------------------------\n",
    "\n",
    "FileData = np.genfromtxt(DirList+FileName, usecols=(0, 1, 2), dtype=['S32', 'S45', 'S45'])\n",
    "print '# FileData lenght = %s rows'%len(FileData)\n",
    "# FileData lenght = 99 rows"
   ]
  },
  {
   "cell_type": "code",
   "execution_count": null,
   "metadata": {
    "collapsed": false
   },
   "outputs": [],
   "source": [
    "# Find repeated names in a given list\n",
    "\n",
    "file_1 = open(DirSaveOutput+FileName[:-4]+'_Repeated_.txt', 'w')\n",
    "file_1.write('#    Repeated \\n')\n",
    "file_1.write('# SN names that are repeated AT LEAST one time. \\n')\n",
    "file_1.write('# NOTE: I have to SELECT MANUALLY the SNe photometric data files I want to \\\n",
    "finally use, and their corresponding sample folder. \\n')\n",
    "\n",
    "now = datetime.datetime.now() # Read the time and date right now\n",
    "text_timenow = now.strftime(\"%Y-%m-%d (yyyy-mm-dd); %H:%M hrs.\")\n",
    "text_line = '#'+'-'*50 + '\\n'\n",
    "\n",
    "file_1.write(text_line)\n",
    "file_1.write('# Data table created by: Arturo Avelino \\n')\n",
    "file_1.write('# On date: %s \\n'%text_timenow)\n",
    "file_1.write('# Script used: %s \\n'%NotebookName)\n",
    "file_1.write(text_line)\n",
    "\n",
    "\n",
    "file_1.write('# SN names                      SNANA names                                \\\n",
    "Folder sample               Notes  \\n')\n",
    "# file_1.write('# \\n')\n",
    "\n",
    "ii = 0; count1 = 0; count2 = 0;\n",
    "listRepeatedNames = []\n",
    "listRepeatedNames_int = []\n",
    "\n",
    "# print '# Repeated names:'\n",
    "\n",
    "for i in range(len(FileData)):\n",
    "    name_a = FileData['f0'][i]\n",
    "    # print name\n",
    "    \n",
    "    ii = i + 1\n",
    "    \n",
    "    for j in range(len(FileData)-ii):\n",
    "        name_b     = FileData['f0'][j+ii]\n",
    "        nameSnana  = FileData['f1'][j+ii]\n",
    "        folder_int = FileData['f2'][j+ii]\n",
    "        \n",
    "        # Find repeated SNe. It could detect several times the same SNe.\n",
    "        if name_b == name_a:\n",
    "            count1 = count1 + 1\n",
    "            listRepeatedNames += [(name_b, nameSnana, folder_int)]\n",
    "            # print name_b\n",
    "    \n",
    "            # Write down just one time the name of the repeated SNe:\n",
    "            if name_b not in listRepeatedNames_int:\n",
    "                listRepeatedNames_int += [name_b]\n",
    "                file_1.write('%-29s  %-42s  %-35s # \\n'%(name_b, nameSnana, folder_int))\n",
    "                # print name_b\n",
    "                count2 = count2 + 1\n",
    "\n",
    "\n",
    "text_10 = '# Number of names repeated at least one time = %s names. \\n'%count2\n",
    "text_11 = '# Approximated number of extra times some names are repeated =< %s times. \\n'%count1\n",
    "\n",
    "file_1.write(text_10); file_1.write(text_11); file_1.write('#%s \\n'%text_line);\n",
    "\n",
    "print text_10\n",
    "print text_11\n",
    "\n",
    "#---------------------------------\n",
    "\n",
    "# Write a scratch list with all the repeated events.\n",
    "# Print and write to a text file the names that are repeated at least 1 time.\n",
    "\n",
    "file_1.write('# \\n');\n",
    "file_1.write('#        Scratch \\n');\n",
    "text_14 = '# %s times I found repeated SNe names. They are: \\n'%len(listRepeatedNames)\n",
    "file_1.write(text_14);\n",
    "# print text_14\n",
    "\n",
    "# Sort the list based on the sample-folder name (i.e., the third column in the list).\n",
    "sortedList = sorted(listRepeatedNames, key=lambda folderName: folderName[2])\n",
    "\n",
    "for i in range(len(sortedList)):\n",
    "    file_1.write('# %-29s  %-42s  %-35s  # \\n'%(sortedList[i][0], \n",
    "                                                sortedList[i][1],\n",
    "                                                sortedList[i][2]))\n",
    "    # print listRepeatedNames[i]\n",
    "\n",
    "file_1.close()"
   ]
  },
  {
   "cell_type": "code",
   "execution_count": null,
   "metadata": {
    "collapsed": true
   },
   "outputs": [],
   "source": []
  },
  {
   "cell_type": "markdown",
   "metadata": {},
   "source": [
    "-------"
   ]
  },
  {
   "cell_type": "markdown",
   "metadata": {},
   "source": [
    "# Find SNe in my list that are NOT in SNANA database"
   ]
  },
  {
   "cell_type": "code",
   "execution_count": null,
   "metadata": {
    "collapsed": false
   },
   "outputs": [],
   "source": [
    "# User\n",
    "\n",
    "import numpy as np\n",
    "import matplotlib as plt\n",
    "\n",
    "#---------------------------------------------------\n",
    "\n",
    "# DirTables_1 = \"/Users/arturo/Dropbox/Research/Articulos/10_AndyKaisey/\\\n",
    "# 10Compute/TheTemplates/AllBands/Plots/HubbleDiagram/GaussianProcess/\"\n",
    "    \n",
    "# DataFile_1 = 'Table_TotalMu_AllBands_Notes_.txt'\n",
    "# table_1 = np.genfromtxt(DirTables_1+DataFile_1, usecols=(0), dtype=['S28'])\n",
    "\n",
    "# Ignore the first characters in the name (e.g., the \"sn\" in \"sn2006bo\")\n",
    "# AppendNameCharacters_1 = 0   \n",
    "\n",
    "#----------------------------------------------------------------\n",
    "\n",
    "\n",
    "# DirTables_2 = '/Users/arturo/Dropbox/Research/SoftwareResearch/SNANA/\\\n",
    "# Odyssey/panlfs3_aavelino/lcmerge/0_lcmerge_LISTS_2018_05_04/'\n",
    "\n",
    "DirTables_2 = DirSaveOutput\n",
    "\n",
    "#DataFile_2 = 'SNe_inGPHD_AndySample.txt'\n",
    "DataFile_2 = FileName\n",
    "\n",
    "table_2 = np.genfromtxt(DirTables_2+DataFile_2, usecols=(0), dtype=['S30'])\n",
    "\n",
    "# Ignore the first characters in the name (e.g., the \"sn\" in \"sn2006bo\")\n",
    "AppendNameCharacters_2 = 0\n",
    "\n",
    "#---------------------------------------------------\n",
    "\n",
    "print '# Size of table_1:', len(table_1), len(table_1.T)\n",
    "print '# Size of table_2:', len(table_2), len(table_2.T)\n",
    "# Size of table_1: 59 59\n",
    "# Size of table_2: 120 120\n",
    "\n",
    "print ''\n",
    "print '# Checking that I m correctly reading table 2:'\n",
    "print '#', table_2['f0'][0][AppendNameCharacters_2:]\n",
    "print '#', table_2['f0'][1][AppendNameCharacters_2:]\n",
    "print '#', table_2['f0'][2][AppendNameCharacters_2:]\n",
    "\n",
    "# sn2005cf__U_36_B_1_CfA_J\n",
    "# sn2005el__U_55_B_3_CfA_J\n",
    "# sn2005eq__U_22_B_2_CfA_J"
   ]
  },
  {
   "cell_type": "code",
   "execution_count": null,
   "metadata": {},
   "outputs": [],
   "source": []
  },
  {
   "cell_type": "markdown",
   "metadata": {},
   "source": [
    "### Automatic"
   ]
  },
  {
   "cell_type": "code",
   "execution_count": null,
   "metadata": {
    "collapsed": false
   },
   "outputs": [],
   "source": [
    "# Find the elements of table 1 that are NOT in table 2\n",
    "\n",
    "count = 0\n",
    "\n",
    "print '#', '#'*50\n",
    "print '# '\n",
    "print '#      Missing SNe in SNANA database'\n",
    "print '# '\n",
    "print '# The following names in table 1 are NOT in table 2:'\n",
    "print '# table 1: %s '%DataFile_1\n",
    "print '# table 2: %s '%DataFile_2\n",
    "print '# Dir table 1: %s'%DirTables_1\n",
    "print '# Dir table 2: %s'%DirTables_2\n",
    "\n",
    "now = datetime.datetime.now() # Read the time and date right now\n",
    "text_timenow = now.strftime(\"%Y-%m-%d (yyyy-mm-dd); %H:%M hrs.\")\n",
    "text_line = '#'+'-'*50\n",
    "\n",
    "print text_line\n",
    "print '# Data table created by: Arturo Avelino'\n",
    "print '# On date: %s '%text_timenow\n",
    "print '# Script used: %s '%NotebookName\n",
    "print text_line\n",
    "\n",
    "for i in range(len(table_1)):\n",
    "    for j in range(len(table_2)):\n",
    "        if table_1['f0'][i] == table_2['f0'][j]:\n",
    "            # print '-'\n",
    "            break\n",
    "    else:\n",
    "        if j==(len(table_2)-1):\n",
    "            print \"# %s\"%table_1['f0'][i]\n",
    "            count = count + 1\n",
    "                    \n",
    "# print ''\n",
    "print '#', count, 'names in table 1 are NOT in table 2.'\n",
    "print '#', '#'*50"
   ]
  },
  {
   "cell_type": "code",
   "execution_count": null,
   "metadata": {
    "collapsed": true
   },
   "outputs": [],
   "source": [
    " \n",
    "\n"
   ]
  },
  {
   "cell_type": "markdown",
   "metadata": {},
   "source": [
    "--------"
   ]
  },
  {
   "cell_type": "code",
   "execution_count": null,
   "metadata": {
    "collapsed": true
   },
   "outputs": [],
   "source": []
  },
  {
   "cell_type": "code",
   "execution_count": null,
   "metadata": {
    "collapsed": true
   },
   "outputs": [],
   "source": []
  },
  {
   "cell_type": "code",
   "execution_count": null,
   "metadata": {
    "collapsed": true
   },
   "outputs": [],
   "source": []
  }
 ],
 "metadata": {
  "kernelspec": {
   "display_name": "Python 2",
   "language": "python",
   "name": "python2"
  },
  "language_info": {
   "codemirror_mode": {
    "name": "ipython",
    "version": 2
   },
   "file_extension": ".py",
   "mimetype": "text/x-python",
   "name": "python",
   "nbconvert_exporter": "python",
   "pygments_lexer": "ipython2",
   "version": "2.7.13"
  }
 },
 "nbformat": 4,
 "nbformat_minor": 2
}
