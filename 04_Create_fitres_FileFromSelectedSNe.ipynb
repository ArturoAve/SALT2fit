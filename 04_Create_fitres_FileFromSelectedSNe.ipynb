{
 "cells": [
  {
   "cell_type": "markdown",
   "metadata": {},
   "source": [
    "# Create a SNANA \".fitres\" file from selected SNe\n",
    "\n",
    "The list then will be used as input in \"SNANA_SALT2_DistanceMu_v0_1.ipynb\" to compute the \n",
    "distance moduli, but over all, the RESIDUAL distance moduli from this particular subsample."
   ]
  },
  {
   "cell_type": "markdown",
   "metadata": {},
   "source": [
    "## User"
   ]
  },
  {
   "cell_type": "code",
   "execution_count": 1,
   "metadata": {},
   "outputs": [
    {
     "name": "stdout",
     "output_type": "stream",
     "text": [
      "56 SNe in the list (regardless the cutoffs).\n"
     ]
    }
   ],
   "source": [
    "import numpy as np\n",
    "\n",
    "# SNANA version used to compute?\n",
    "# This is useful because the output \".fitres\" file is different \n",
    "# between different SNANA versions.\n",
    "snana_version = 'v10_58g'     # ('v10_58g', 'v10_35g')\n",
    "\n",
    "# Directory where are located the list \"SNe_inGPHD_AndySample_Repeated_Notes_.txt\" \n",
    "# with the names of the SNe that I want to create the \".fitres\" file from.\n",
    "DirLists = '/Users/arturo/Dropbox/Research/SoftwareResearch/SNANA/Odyssey/\\\n",
    "home_snana/lowz/'\n",
    "\n",
    "ListSNeToBeUsed = 'SNe_inGPHD_AndySample_Repeated_Notes_.txt'\n",
    "ListSNe = np.genfromtxt(DirLists+ListSNeToBeUsed, dtype=['S30', 'S43', 'S40'])\n",
    "\n",
    "DirSNANAFittedFolders = DirLists+'2_AndySampleOnly/'\n",
    "\n",
    "#######################################################\n",
    "\n",
    "#    CUTOFFS\n",
    "\n",
    "# Apply additional cutoffs to the sample?:\n",
    "ApplyCutoffs = False\n",
    "\n",
    "if ApplyCutoffs == False:\n",
    "    c_limits = -0.3, 0.3   # color\n",
    "    x1_limits = -3, 3   # light-curve parameter\n",
    "    x1ERR_limits = 1    # error in the light-curve parameter\n",
    "    PKMJDERR_limits = 2  # error in the determination of MJD at T_Bmax\n",
    "    FITPROB_limits = 0.001   # probability of the fit\n",
    "\n",
    "#######################################################\n",
    "\n",
    "NotebookName= '04_Create_fitres_FileFromSelectedSNe.ipynb'\n",
    "\n",
    "#------------------------------------------------------\n",
    "\n",
    "print '%s SNe in the list (regardless the cutoffs).'%len(ListSNe)\n",
    "# 50 SNe in the list."
   ]
  },
  {
   "cell_type": "code",
   "execution_count": 2,
   "metadata": {},
   "outputs": [
    {
     "data": {
      "text/plain": [
       "9"
      ]
     },
     "execution_count": 2,
     "metadata": {},
     "output_type": "execute_result"
    }
   ],
   "source": [
    "5+4"
   ]
  },
  {
   "cell_type": "markdown",
   "metadata": {},
   "source": [
    "-----"
   ]
  },
  {
   "cell_type": "markdown",
   "metadata": {},
   "source": [
    "## Useful functions"
   ]
  },
  {
   "cell_type": "markdown",
   "metadata": {},
   "source": [
    "#### Function to identify string or number"
   ]
  },
  {
   "cell_type": "code",
   "execution_count": 3,
   "metadata": {},
   "outputs": [
    {
     "name": "stdout",
     "output_type": "stream",
     "text": [
      "True False\n"
     ]
    }
   ],
   "source": [
    "# Function to identify if a string is an integer number or a letter.\n",
    "# This will be used in the dictionary construction to properly read some SN names.\n",
    "\n",
    "def is_number(s):\n",
    "    try:\n",
    "        int(s)\n",
    "        return True\n",
    "    except ValueError:\n",
    "        return False\n",
    "\n",
    "# Tests\n",
    "print is_number('5'), is_number('e')\n",
    "# True False"
   ]
  },
  {
   "cell_type": "markdown",
   "metadata": {},
   "source": [
    "#### Get the name of this ipython notebook\n",
    "To print it in the output text files as reference"
   ]
  },
  {
   "cell_type": "code",
   "execution_count": 4,
   "metadata": {},
   "outputs": [
    {
     "data": {
      "application/javascript": [
       "var kernel = IPython.notebook.kernel;\n",
       "var thename = window.document.getElementById(\"notebook_name\").innerHTML;\n",
       "var command = \"NotebookName = \" + \"'\"+thename+\".ipynb\"+\"'\";\n",
       "kernel.execute(command);"
      ],
      "text/plain": [
       "<IPython.core.display.Javascript object>"
      ]
     },
     "metadata": {},
     "output_type": "display_data"
    }
   ],
   "source": [
    "%%javascript\n",
    "var kernel = IPython.notebook.kernel;\n",
    "var thename = window.document.getElementById(\"notebook_name\").innerHTML;\n",
    "var command = \"NotebookName = \" + \"'\"+thename+\".ipynb\"+\"'\";\n",
    "kernel.execute(command);"
   ]
  },
  {
   "cell_type": "code",
   "execution_count": 5,
   "metadata": {},
   "outputs": [
    {
     "name": "stdout",
     "output_type": "stream",
     "text": [
      "# 04_Create_fitres_FileFromSelectedSNe.ipynb\n"
     ]
    }
   ],
   "source": [
    "print '#', (NotebookName)\n",
    "# Update_zcmb_in_SNANA_datafiles_v1_0.ipynb"
   ]
  },
  {
   "cell_type": "code",
   "execution_count": 6,
   "metadata": {
    "collapsed": true
   },
   "outputs": [],
   "source": [
    "# Get the current date and time\n",
    "import datetime \n",
    "\n",
    "# Read the time and date now\n",
    "now = datetime.datetime.now()"
   ]
  },
  {
   "cell_type": "markdown",
   "metadata": {},
   "source": [
    "---------"
   ]
  },
  {
   "cell_type": "markdown",
   "metadata": {},
   "source": [
    "## Automatic"
   ]
  },
  {
   "cell_type": "code",
   "execution_count": 7,
   "metadata": {
    "collapsed": true
   },
   "outputs": [],
   "source": [
    "if ApplyCutoffs == True:\n",
    "    DirSaveOutput = DirLists+'3_GaussianProcessSubsample/cutoffs_yes/'\n",
    "elif ApplyCutoffs == False:\n",
    "    DirSaveOutput = DirLists+'3_GaussianProcessSubsample/cutoffs_no/'\n",
    "    \n",
    "#- Force the creation of the directory to save the outputs.\n",
    "#- \"If the subdirectory does not exist then create it\"\n",
    "import os # To use command line like instructions\n",
    "if not os.path.exists(DirSaveOutput): os.makedirs(DirSaveOutput)"
   ]
  },
  {
   "cell_type": "code",
   "execution_count": null,
   "metadata": {
    "collapsed": true
   },
   "outputs": [],
   "source": []
  },
  {
   "cell_type": "markdown",
   "metadata": {},
   "source": [
    "#### Main loop"
   ]
  },
  {
   "cell_type": "code",
   "execution_count": 14,
   "metadata": {},
   "outputs": [
    {
     "name": "stdout",
     "output_type": "stream",
     "text": [
      "sn1999ee__U_45_B_1_CSP | LOWZ_JRK07 \n",
      "sn2000ca__U_6_B_18_CSP | JLA2014_LOWZ_LANDOLT \n",
      "sn2008ar_dummytext_CSP | PS1s_CSPDR2_V_RS14 \n",
      "sn2008bf_dummytext_CSP | PS1s_CSPDR2_V_RS14 \n",
      "sn2008hj_dummytext_CSP | PS1s_CSPDR2_V_RS14 \n",
      "sn2009aa_dummytext_CSP | PS1s_CSPDR2_V_RS14 \n",
      "sn2009ad_dummytext_CSP | PS1s_CSPDR2_V_RS14 \n",
      "sn2009ag_dummytext_CSP | PS1s_CSPDR2_V_RS14 \n",
      "sn2009cz_dummytext_CSP | PS1s_CSPDR2_V_RS14 \n",
      "sn2009D_dummytext__CSP | PS1s_CSPDR2_V_RS14 \n",
      "sn2009Y_dummytext__CSP | PS1s_CSPDR2_V_RS14 \n",
      "sn2010kg__B_23_V_2_CfA | LOWZ_FromAndyFriedman \n",
      "sn2011ao__B_16_V_3_CfA | LOWZ_FromAndyFriedman \n",
      "sn2011B__B_30_V_31_CfA | LOWZ_FromAndyFriedman \n",
      "sn2011by__B_38_V_2_CfA | LOWZ_FromAndyFriedman \n",
      "sn2011df__B_15_V_1_CfA | LOWZ_FromAndyFriedman \n",
      "snf20080514-002__J_CfA | LOWZ_JRK07 \n",
      "sn2001ba__B_30_V_3_CSP | JLA2014_LOWZ_LANDOLT \n",
      "sn2005cf__U_36_B_1_CfA | PS1s_CFA3_KEPLERCAM_RS14 \n",
      "sn2006D__U_24_B_22_CfA | PS1s_CFA3_KEPLERCAM_RS14 \n",
      "sn2006lf__U_3_B_24_CfA | PS1s_CFA3_KEPLERCAM_RS14 \n",
      "sn2008hs__U_2_B_15_CfA | PS1s_CFA4_p1_RS14 \n",
      "sn2009al__u_prime__CfA | PS1s_CFA4_p1_RS14 \n",
      "sn2009an__u_prime__CfA | PS1s_CFA4_p1_RS14 \n",
      "sn2010ai__B_16_V_2_CfA | PS1s_CFA4_p2_RS14 \n",
      "CFA4_p2_2010ai.dat | PS1s_CFA4_p2_RS14. The info in the fitres file for this SN has to be copied/pasted by hand :(\n",
      "sn2008gb__U_5_B_14_CfA | PS1s_CFA4_p1_RS14 \n",
      "sn2009bv__B_18_V_1_CfA | PS1s_CFA4_p1_RS14 \n",
      "sn2004eo_dummytext_CSP | PS1s_CSPDR2_V_RS14 \n",
      "sn2004ey_dummytext_CSP | PS1s_CSPDR2_V_RS14 \n",
      "sn2005el_dummytext_CSP | PS1s_CSPDR2_V_RS14 \n",
      "sn2005iq_dummytext_CSP | PS1s_CSPDR2_V_RS14 \n",
      "sn2005kc_dummytext_CSP | PS1s_CSPDR2_V_RS14 \n",
      "sn2005ki_dummytext_CSP | PS1s_CSPDR2_V_RS14 \n",
      "sn2006ax_dummytext_CSP | PS1s_CSPDR2_V_RS14 \n",
      "sn2006bh_dummytext_CSP | PS1s_CSPDR2_V_RS14 \n",
      "sn2006bt_dummytext_CSP | PS1s_CSPDR2_V_RS14 \n",
      "sn2006kf_dummytext_CSP | PS1s_CSPDR2_V_RS14 \n",
      "sn2007A_dummytext__CSP | PS1s_CSPDR2_V_RS14 \n",
      "sn2007af_dummytext_CSP | PS1s_CSPDR2_V_RS14 \n",
      "sn2007bc_dummytext_CSP | PS1s_CSPDR2_V_RS14 \n",
      "sn2007bd_dummytext_CSP | PS1s_CSPDR2_V_RS14 \n",
      "sn2007ca_dummytext_CSP | PS1s_CSPDR2_V_RS14 \n",
      "sn2007jg_dummytext_CSP | PS1s_CSPDR2_V_RS14 \n",
      "sn2007le_dummytext_CSP | PS1s_CSPDR2_V_RS14 \n",
      "sn2008bc_dummytext_CSP | PS1s_CSPDR2_V_RS14 \n",
      "sn2008gp_dummytext_CSP | PS1s_CSPDR2_V_RS14 \n",
      "sn2008hv_dummytext_CSP | PS1s_CSPDR2_V_RS14 \n",
      "sn2007ai_dummytext_CSP | PS1s_CSPDR2_V_RS14 \n",
      "sn2007as_dummytext_CSP | PS1s_CSPDR2_V_RS14 \n",
      "sn2001bt__B_22_V_2_Others | LOWZ_JRK07 \n",
      "sn2001cz__B_14_V_1_Others | LOWZ_JRK07 \n",
      "sn1998bu__U_69_B_9_CfA | LOWZ_JRK07 \n",
      "sn1999ek__U_2_B_38_Others | LOWZ_JRK07 \n",
      "sn2000E__U_5_B_27__Others | LOWZ_JRK07 \n",
      "sn2001el__U_20_B_4_Others | LOWZ_JRK07 \n",
      "sn2002dj__U_13_B_1_Others | SNLS3year_JRK07 \n",
      "#--------------------------------------------------\n",
      "# 55 SNe Ia passed the cutoffs (if applied). \n",
      "# 0 SNe Ia didn't pass the cutoffs (##). \n",
      "# 1 SNe Ia I need to copy/paste their info from the fitres files by hand. \n",
      "\n"
     ]
    }
   ],
   "source": [
    "file_1 = open(DirSaveOutput+'GP_subsample_.fitres','w')\n",
    "\n",
    "# Write down the SNANA headers:\n",
    "\n",
    "now = datetime.datetime.now() # Read the time and date right now\n",
    "text_timenow = now.strftime(\"%Y-%m-%d (yyyy-mm-dd); %H:%M hrs.\")\n",
    "text_line = '#'+'-'*50 + '\\n'\n",
    "\n",
    "# These two lines MUST be at the first ones on the text file in order to be \n",
    "# easily readed by \"SNANA_SALT2_DistanceMu_v1_1.ipynb\"\n",
    "if snana_version == 'v10_35g':\n",
    "    file_1.write('NVAR:  25 \\n')\n",
    "    file_1.write('VARNAMES: CID       z        zERR     x0           x0ERR        c      \\\n",
    "cERR     x1      x1ERR   PKMJD   PKMJDERR mB      mBERR    COVx0x1     COVx0c      \\\n",
    "COVx1c     CHI2   NDOF  FITPROB      SNRMAX1    SNRMAX2    SNRMAX3 IDSURVEY TYPE    \\\n",
    "Subsample \\n')\n",
    "    \n",
    "elif snana_version == 'v10_58g':\n",
    "    file_1.write('NVAR:  35 \\n')\n",
    "    file_1.write('VARNAMES: CID IDSURVEY TYPE FIELD CUTFLAG_SNANA   zHEL   zHELERR     \\\n",
    "zCMB     zCMBERR       zHD     zHDERR   VPEC VPECERR HOST_LOGMASS HOST_LOGMASS_ERR   \\\n",
    "SNRMAX1     SNRMAX2      SNRMAX3    PKMJD    PKMJDERR     x1            \\\n",
    "x1ERR              c         cERR         mB      mBERR           x0           \\\n",
    "x0ERR       COV_x1_c      COV_x1_x0    COV_c_x0     NDOF    FITCHI2      FITPROB   \\\n",
    "Subsample \\n')\n",
    "    \n",
    "file_1.write(text_line)\n",
    "\n",
    "file_1.write('# SNANA-like \"fitres\" file created from selected SNe from the list: \\n')\n",
    "file_1.write('# %s \\n'%ListSNeToBeUsed)\n",
    "file_1.write('# %s = SNANA version used to for the computations. \\n'%snana_version)\n",
    "\n",
    "file_1.write('# Data table created by: Arturo Avelino \\n')\n",
    "file_1.write('# On date: %s \\n'%text_timenow)\n",
    "file_1.write('# Script used: %s \\n'%NotebookName)\n",
    "file_1.write(text_line)\n",
    "\n",
    "if ApplyCutoffs == True:\n",
    "    file_1.write(\"# Cutoff applied: %s < c < %s | %s < x1 < %s | x1ERR < %s,  \\n\"%\n",
    "                 (c_limits[0], c_limits[1], x1_limits[0], x1_limits[1], x1ERR_limits) )\n",
    "    file_1.write(\"# PKMJDERR < %s | FITPROB > %s. \\n\"%(PKMJDERR_limits, FITPROB_limits))\n",
    "    file_1.write(text_line)\n",
    "\n",
    "\n",
    "#---------------------------------------------------------\n",
    "\n",
    "# Reset \n",
    "countSN = 0; countSNeNoPassCuts=0; count_byhand = 0\n",
    "flag_ok = 0\n",
    "\n",
    "for i in range(len(ListSNe)):\n",
    "    name          = ListSNe['f0'][i]\n",
    "    namefile        = ListSNe['f1'][i]\n",
    "    snSnanaFolder = ListSNe['f2'][i]\n",
    "    \n",
    "    # Determine the subsample (CfA, CSP, Others) and create a \n",
    "    # flag accordingly.\n",
    "    subsample_append = name[-3:]\n",
    "    flag_subsample = 0 # Reset\n",
    "    if   subsample_append == 'CfA': flag_subsample = 1\n",
    "    elif subsample_append == 'CSP': flag_subsample = 2\n",
    "    elif subsample_append == 'ers': flag_subsample = 3\n",
    "    \n",
    "    print \"%s | %s \"%(name, snSnanaFolder)\n",
    "    \n",
    "    # Read correctly the name of the SNe.\n",
    "    if   name[7] == '_': snName = name[2:7] # To read correctly, e.g., \"sn2011B\"\n",
    "    elif name[7] != '_':\n",
    "        # To read correctly, e.g., \"snf20080514-002\"\n",
    "        if is_number(name[7]): snName = name[2:15] \n",
    "        else: snName = name[2:8]  # To read correctly, e.g., \"sn1998bu\" \n",
    "    \n",
    "    Dir_int1 = DirSNANAFittedFolders+snSnanaFolder+'/salt2_fit/'\n",
    "    \n",
    "    if snana_version == 'v10_35g':\n",
    "        fitresFile = np.genfromtxt(Dir_int1+snSnanaFolder+'.fitres', skip_header=2,\n",
    "                                dtype=['S3', 'S15',\n",
    "                                      float, float, float, float, float, float, float,\n",
    "                                      float, float, float, float, float, float, float, float,\n",
    "                                      float, float, float, float, float, float, float, float ] )\n",
    "    elif snana_version == 'v10_58g':\n",
    "        fitresFile = np.genfromtxt(Dir_int1+snSnanaFolder+'.FITRES.TEXT', skip_header=8,\n",
    "                            dtype=['S3', 'S15', float, float, 'S4',\n",
    "                                  float, float, float, float, float,\n",
    "                                  float, float, float, float, float,\n",
    "                                  float, float, float, float, float,\n",
    "                                  float, float, float, float, float,\n",
    "                                  float, float, float, float, float,\n",
    "                                  float, float, float, float, float]) \n",
    "\n",
    "    # Find the index where the SN is located in the fitres file.\n",
    "    index_int = np.where(fitresFile['f1'] == snName)[0][0]\n",
    "    \n",
    "    # When there is only one SNe in the fitres files then index_int = 0. However,\n",
    "    # this produces an error in the following part of the code because for an array\n",
    "    # of dimension 1 it is not needed to indicate the row in the array! To prevent\n",
    "    # the error, I do not include the fitres files with only 1 SN, then I have to\n",
    "    # copy/paste its information by hand.\n",
    "    try: \n",
    "        len(fitresFile['f1'])\n",
    "        # flag \"Ok\" if I don't get any error when \"len(fitresFile['f1'])\". This\n",
    "        # means that the fitres files has at least 2 rows or more.\n",
    "        flag_ok = 1 \n",
    "    except:\n",
    "        print \"%s | %s. The info in the fitres file for this SN has to be \\\n",
    "copied/pasted by hand :(\"%(namefile, snSnanaFolder)\n",
    "        flag_ok = 0\n",
    "        count_byhand += 1\n",
    "            \n",
    "    #-----------\n",
    "    \n",
    "    if snana_version == 'v10_35g' and flag_ok:\n",
    "        c_par  = fitresFile['f6'][index_int]\n",
    "        x1_par = fitresFile['f8'][index_int]\n",
    "        x1ERR_par = fitresFile['f9'][index_int]\n",
    "        PKMJDERR_par = fitresFile['f11'][index_int]\n",
    "        FITPROB_par  = fitresFile['f19'][index_int]\n",
    "        \n",
    "    elif snana_version == 'v10_58g' and flag_ok:\n",
    "        c_par  = fitresFile['f23'][index_int]\n",
    "        x1_par = fitresFile['f21'][index_int]\n",
    "        x1ERR_par = fitresFile['f22'][index_int]\n",
    "        PKMJDERR_par = fitresFile['f20'][index_int]\n",
    "        FITPROB_par  = fitresFile['f34'][index_int]\n",
    "        \n",
    "\n",
    "    if ApplyCutoffs == True  and flag_ok: # SNe that pass the cutoffs:\n",
    "        if (c_par > c_limits[0] and c_par < c_limits[1] and\n",
    "            x1_par > x1_limits[0] and x1_par < x1_limits[1] and\n",
    "            x1ERR_par < x1ERR_limits and PKMJDERR_par < PKMJDERR_limits and\n",
    "            FITPROB_par > FITPROB_limits):\n",
    "            \n",
    "            snName_print = 'SN: %-13s'%fitresFile['f1'][index_int]\n",
    "            countSN = countSN + 1\n",
    "\n",
    "        else: \n",
    "            snName_print = '## SN: %-13s'%fitresFile['f1'][index_int]\n",
    "            countSNeNoPassCuts += 1\n",
    "        \n",
    "    elif flag_ok: \n",
    "        snName_print = 'SN: %-13s'%fitresFile['f1'][index_int]\n",
    "        countSN = countSN + 1\n",
    "\n",
    "    if snana_version == 'v10_35g' and flag_ok:\n",
    "    # Write down a line in the text list with all the fitres information for a given SN. \n",
    "        file_1.write('%s  %.5f  %.5f  %.5e  %.3e  %7.4f  %.4f  %7.4f  %.4f  %.3f  %.2f \\\n",
    "%.4f  %.4f  %10.3e  %10.3e  %10.3e  %5.1f  %4.0f  %.3e  %9.3f  %9.3f  %9.3f  %2.0f     %2.0f \\\n",
    "%.0f \\n'%(  \n",
    "        snName_print, fitresFile['f2'][index_int], fitresFile['f3'][index_int],\n",
    "        fitresFile['f4'][index_int], fitresFile['f5'][index_int], fitresFile['f6'][index_int],\n",
    "        fitresFile['f7'][index_int], fitresFile['f8'][index_int], fitresFile['f9'][index_int],\n",
    "        fitresFile['f10'][index_int], fitresFile['f11'][index_int],\n",
    "        fitresFile['f12'][index_int], fitresFile['f13'][index_int],\n",
    "        fitresFile['f14'][index_int], fitresFile['f15'][index_int], fitresFile['f16'][index_int],\n",
    "        fitresFile['f17'][index_int], fitresFile['f18'][index_int], fitresFile['f19'][index_int],\n",
    "        fitresFile['f20'][index_int], fitresFile['f21'][index_int], fitresFile['f22'][index_int],\n",
    "        fitresFile['f23'][index_int], fitresFile['f24'][index_int], flag_subsample  ))\n",
    "    \n",
    "    if snana_version == 'v10_58g' and flag_ok:\n",
    "    # Write down a line in the text list with all the fitres information for a given SN. \n",
    "        file_1.write('%s  %3.0f  %3.0f  %s     %3.0f     %9.5f  %.6f  %9.5f  %.6f  %9.5f  %.6f   \\\n",
    "%3.0f    %3.0f    %10.5f    %10.5f    %10.4f  %10.4f  %10.4f  %10.3f  %6.3f  %12.4e   %12.4e  %12.4e  %12.4e \\\n",
    "%9.4f  %10.4e  %12.4e  %12.4e  %12.4e  %12.4e  %12.4e  %4.0f  %10.4f  %12.4e   %.0f \\n'%(  \n",
    "        snName_print, fitresFile['f2'][index_int], fitresFile['f3'][index_int],\n",
    "        fitresFile['f4'][index_int], fitresFile['f5'][index_int], fitresFile['f6'][index_int],\n",
    "        fitresFile['f7'][index_int], fitresFile['f8'][index_int], fitresFile['f9'][index_int],\n",
    "        fitresFile['f10'][index_int], fitresFile['f11'][index_int], fitresFile['f12'][index_int], \n",
    "        fitresFile['f13'][index_int], fitresFile['f14'][index_int], fitresFile['f15'][index_int], \n",
    "        fitresFile['f16'][index_int], fitresFile['f17'][index_int], fitresFile['f18'][index_int], \n",
    "        fitresFile['f19'][index_int], fitresFile['f20'][index_int], fitresFile['f21'][index_int], \n",
    "        fitresFile['f22'][index_int], fitresFile['f23'][index_int], fitresFile['f24'][index_int],\n",
    "        fitresFile['f25'][index_int], fitresFile['f26'][index_int], fitresFile['f27'][index_int],\n",
    "        fitresFile['f28'][index_int], fitresFile['f29'][index_int], fitresFile['f30'][index_int],\n",
    "        fitresFile['f31'][index_int], fitresFile['f32'][index_int], fitresFile['f33'][index_int],\n",
    "        fitresFile['f34'][index_int], flag_subsample))\n",
    "\n",
    "    # print \"%s | %s \"%(snName_print, snSnanaFolder)\n",
    "\n",
    "file_1.write(text_line)\n",
    "text_10 = '# %s SNe Ia passed the cutoffs (if applied). \\n'%countSN\n",
    "text_11 = \"# %s SNe Ia didn't pass the cutoffs (##). \\n\"%countSNeNoPassCuts\n",
    "text_12 = \"# %s SNe Ia I need to copy/paste their info from the fitres files by hand. \\n\"%count_byhand\n",
    "file_1.write(text_10); file_1.write(text_11); file_1.write(text_12)\n",
    "file_1.close()\n",
    "\n",
    "print text_line, text_10, text_11, text_12"
   ]
  },
  {
   "cell_type": "code",
   "execution_count": 15,
   "metadata": {
    "collapsed": true
   },
   "outputs": [],
   "source": [
    "file_1.close();file_1.close();file_1.close();file_1.close();file_1.close();file_1.close();file_1.close()"
   ]
  },
  {
   "cell_type": "code",
   "execution_count": null,
   "metadata": {},
   "outputs": [],
   "source": []
  }
 ],
 "metadata": {
  "kernelspec": {
   "display_name": "Python [default]",
   "language": "python",
   "name": "python2"
  },
  "language_info": {
   "codemirror_mode": {
    "name": "ipython",
    "version": 2
   },
   "file_extension": ".py",
   "mimetype": "text/x-python",
   "name": "python",
   "nbconvert_exporter": "python",
   "pygments_lexer": "ipython2",
   "version": "2.7.13"
  }
 },
 "nbformat": 4,
 "nbformat_minor": 2
}
