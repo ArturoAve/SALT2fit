{
 "cells": [
  {
   "cell_type": "markdown",
   "metadata": {},
   "source": [
    "# Create a SNANA \".fitres\" file from selected SNe\n",
    "\n",
    "The list then will be used as input in \"SNANA_SALT2_DistanceMu_v0_1.ipynb\" to compute the \n",
    "distance moduli, but over all, the RESIDUAL distance moduli from this particular subsample."
   ]
  },
  {
   "cell_type": "markdown",
   "metadata": {},
   "source": [
    "## User"
   ]
  },
  {
   "cell_type": "code",
   "execution_count": 18,
   "metadata": {},
   "outputs": [
    {
     "name": "stdout",
     "output_type": "stream",
     "text": [
      "56 SNe in the list (regardless the cutoffs).\n"
     ]
    }
   ],
   "source": [
    "import numpy as np\n",
    "\n",
    "# SNANA version used to compute?\n",
    "# This is useful because the output \".fitres\" file is different \n",
    "# between different SNANA versions.\n",
    "snana_version = 'v10_58g'     # ('v10_58g', 'v10_35g')\n",
    "\n",
    "# Directory where are located the list \"SNe_inGPHD_AndySample_Repeated_Notes_.txt\" \n",
    "# with the names of the SNe that I want to create the \".fitres\" file from.\n",
    "DirLists = '/Users/arturo/Dropbox/Research/SoftwareResearch/SNANA/Odyssey/\\\n",
    "home_snana/lowz/'\n",
    "\n",
    "ListSNeToBeUsed = 'SNe_inGPHD_AndySample_Repeated_Notes_.txt'\n",
    "ListSNe = np.genfromtxt(DirLists+ListSNeToBeUsed, dtype=['S30', 'S43', 'S40'])\n",
    "\n",
    "DirSNANAFittedFolders = DirLists\n",
    "\n",
    "#######################################################\n",
    "\n",
    "#    CUTOFFS\n",
    "\n",
    "# Apply additional cutoffs to the sample?:\n",
    "ApplyCutoffs = False\n",
    "\n",
    "if ApplyCutoffs == False:\n",
    "    c_limits = -0.3, 0.3   # color\n",
    "    x1_limits = -3, 3   # light-curve parameter\n",
    "    x1ERR_limits = 1    # error in the light-curve parameter\n",
    "    PKMJDERR_limits = 2  # error in the determination of MJD at T_Bmax\n",
    "    FITPROB_limits = 0.001   # probability of the fit\n",
    "\n",
    "#######################################################\n",
    "\n",
    "NotebookName= '04_Create_fitres_FileFromSelectedSNe.ipynb'\n",
    "\n",
    "#------------------------------------------------------\n",
    "\n",
    "print '%s SNe in the list (regardless the cutoffs).'%len(ListSNe)\n",
    "# 50 SNe in the list."
   ]
  },
  {
   "cell_type": "code",
   "execution_count": 19,
   "metadata": {},
   "outputs": [
    {
     "data": {
      "text/plain": [
       "9"
      ]
     },
     "execution_count": 19,
     "metadata": {},
     "output_type": "execute_result"
    }
   ],
   "source": [
    "5+4"
   ]
  },
  {
   "cell_type": "markdown",
   "metadata": {},
   "source": [
    "-----"
   ]
  },
  {
   "cell_type": "markdown",
   "metadata": {},
   "source": [
    "## Useful functions"
   ]
  },
  {
   "cell_type": "markdown",
   "metadata": {},
   "source": [
    "#### Function to identify string or number"
   ]
  },
  {
   "cell_type": "code",
   "execution_count": 20,
   "metadata": {},
   "outputs": [
    {
     "name": "stdout",
     "output_type": "stream",
     "text": [
      "True False\n"
     ]
    }
   ],
   "source": [
    "# Function to identify if a string is an integer number or a letter.\n",
    "# This will be used in the dictionary construction to properly read some SN names.\n",
    "\n",
    "def is_number(s):\n",
    "    try:\n",
    "        int(s)\n",
    "        return True\n",
    "    except ValueError:\n",
    "        return False\n",
    "\n",
    "# Tests\n",
    "print is_number('5'), is_number('e')\n",
    "# True False"
   ]
  },
  {
   "cell_type": "markdown",
   "metadata": {},
   "source": [
    "#### Get the name of this ipython notebook\n",
    "To print it in the output text files as reference"
   ]
  },
  {
   "cell_type": "code",
   "execution_count": 21,
   "metadata": {},
   "outputs": [
    {
     "data": {
      "application/javascript": [
       "var kernel = IPython.notebook.kernel;\n",
       "var thename = window.document.getElementById(\"notebook_name\").innerHTML;\n",
       "var command = \"NotebookName = \" + \"'\"+thename+\".ipynb\"+\"'\";\n",
       "kernel.execute(command);"
      ],
      "text/plain": [
       "<IPython.core.display.Javascript object>"
      ]
     },
     "metadata": {},
     "output_type": "display_data"
    }
   ],
   "source": [
    "%%javascript\n",
    "var kernel = IPython.notebook.kernel;\n",
    "var thename = window.document.getElementById(\"notebook_name\").innerHTML;\n",
    "var command = \"NotebookName = \" + \"'\"+thename+\".ipynb\"+\"'\";\n",
    "kernel.execute(command);"
   ]
  },
  {
   "cell_type": "code",
   "execution_count": 22,
   "metadata": {},
   "outputs": [
    {
     "name": "stdout",
     "output_type": "stream",
     "text": [
      "# 04_Create_fitres_FileFromSelectedSNe.ipynb\n"
     ]
    }
   ],
   "source": [
    "print '#', (NotebookName)\n",
    "# Update_zcmb_in_SNANA_datafiles_v1_0.ipynb"
   ]
  },
  {
   "cell_type": "code",
   "execution_count": 23,
   "metadata": {
    "collapsed": true
   },
   "outputs": [],
   "source": [
    "# Get the current date and time\n",
    "import datetime \n",
    "\n",
    "# Read the time and date now\n",
    "now = datetime.datetime.now()"
   ]
  },
  {
   "cell_type": "markdown",
   "metadata": {},
   "source": [
    "---------"
   ]
  },
  {
   "cell_type": "markdown",
   "metadata": {},
   "source": [
    "## Automatic"
   ]
  },
  {
   "cell_type": "code",
   "execution_count": 24,
   "metadata": {
    "collapsed": true
   },
   "outputs": [],
   "source": [
    "if ApplyCutoffs == True:\n",
    "    DirSaveOutput = DirLists+'3_GaussianProcessSubsample/cutoffs_yes/'\n",
    "elif ApplyCutoffs == False:\n",
    "    DirSaveOutput = DirLists+'3_GaussianProcessSubsample/cutoffs_no/'\n",
    "    \n",
    "#- Force the creation of the directory to save the outputs.\n",
    "#- \"If the subdirectory does not exist then create it\"\n",
    "import os # To use command line like instructions\n",
    "if not os.path.exists(DirSaveOutput): os.makedirs(DirSaveOutput)"
   ]
  },
  {
   "cell_type": "code",
   "execution_count": null,
   "metadata": {
    "collapsed": true
   },
   "outputs": [],
   "source": []
  },
  {
   "cell_type": "markdown",
   "metadata": {},
   "source": [
    "#### Main loop"
   ]
  },
  {
   "cell_type": "code",
   "execution_count": 25,
   "metadata": {},
   "outputs": [
    {
     "ename": "IOError",
     "evalue": "/Users/arturo/Dropbox/Research/SoftwareResearch/SNANA/Odyssey/home_snana/lowz/LOWZ_JRK07/salt2_fit/LOWZ_JRK07.FITRES.TEXT not found.",
     "output_type": "error",
     "traceback": [
      "\u001b[0;31m\u001b[0m",
      "\u001b[0;31mIOError\u001b[0mTraceback (most recent call last)",
      "\u001b[0;32m<ipython-input-25-cf0933f0762f>\u001b[0m in \u001b[0;36m<module>\u001b[0;34m()\u001b[0m\n\u001b[1;32m     66\u001b[0m                                   \u001b[0mfloat\u001b[0m\u001b[0;34m,\u001b[0m \u001b[0mfloat\u001b[0m\u001b[0;34m,\u001b[0m \u001b[0mfloat\u001b[0m\u001b[0;34m,\u001b[0m \u001b[0mfloat\u001b[0m\u001b[0;34m,\u001b[0m \u001b[0mfloat\u001b[0m\u001b[0;34m,\u001b[0m\u001b[0;34m\u001b[0m\u001b[0m\n\u001b[1;32m     67\u001b[0m                                   \u001b[0mfloat\u001b[0m\u001b[0;34m,\u001b[0m \u001b[0mfloat\u001b[0m\u001b[0;34m,\u001b[0m \u001b[0mfloat\u001b[0m\u001b[0;34m,\u001b[0m \u001b[0mfloat\u001b[0m\u001b[0;34m,\u001b[0m \u001b[0mfloat\u001b[0m\u001b[0;34m,\u001b[0m\u001b[0;34m\u001b[0m\u001b[0m\n\u001b[0;32m---> 68\u001b[0;31m                                   float, float, float, float, float]) \n\u001b[0m\u001b[1;32m     69\u001b[0m \u001b[0;34m\u001b[0m\u001b[0m\n\u001b[1;32m     70\u001b[0m     \u001b[0;31m# Find the index where the SN is located in the fitres file.\u001b[0m\u001b[0;34m\u001b[0m\u001b[0;34m\u001b[0m\u001b[0m\n",
      "\u001b[0;32m/Users/arturo/anaconda/lib/python2.7/site-packages/numpy/lib/npyio.pyc\u001b[0m in \u001b[0;36mgenfromtxt\u001b[0;34m(fname, dtype, comments, delimiter, skip_header, skip_footer, converters, missing_values, filling_values, usecols, names, excludelist, deletechars, replace_space, autostrip, case_sensitive, defaultfmt, unpack, usemask, loose, invalid_raise, max_rows)\u001b[0m\n\u001b[1;32m   1508\u001b[0m         \u001b[0;32mif\u001b[0m \u001b[0misinstance\u001b[0m\u001b[0;34m(\u001b[0m\u001b[0mfname\u001b[0m\u001b[0;34m,\u001b[0m \u001b[0mbasestring\u001b[0m\u001b[0;34m)\u001b[0m\u001b[0;34m:\u001b[0m\u001b[0;34m\u001b[0m\u001b[0m\n\u001b[1;32m   1509\u001b[0m             \u001b[0;32mif\u001b[0m \u001b[0msys\u001b[0m\u001b[0;34m.\u001b[0m\u001b[0mversion_info\u001b[0m\u001b[0;34m[\u001b[0m\u001b[0;36m0\u001b[0m\u001b[0;34m]\u001b[0m \u001b[0;34m==\u001b[0m \u001b[0;36m2\u001b[0m\u001b[0;34m:\u001b[0m\u001b[0;34m\u001b[0m\u001b[0m\n\u001b[0;32m-> 1510\u001b[0;31m                 \u001b[0mfhd\u001b[0m \u001b[0;34m=\u001b[0m \u001b[0miter\u001b[0m\u001b[0;34m(\u001b[0m\u001b[0mnp\u001b[0m\u001b[0;34m.\u001b[0m\u001b[0mlib\u001b[0m\u001b[0;34m.\u001b[0m\u001b[0m_datasource\u001b[0m\u001b[0;34m.\u001b[0m\u001b[0mopen\u001b[0m\u001b[0;34m(\u001b[0m\u001b[0mfname\u001b[0m\u001b[0;34m,\u001b[0m \u001b[0;34m'rbU'\u001b[0m\u001b[0;34m)\u001b[0m\u001b[0;34m)\u001b[0m\u001b[0;34m\u001b[0m\u001b[0m\n\u001b[0m\u001b[1;32m   1511\u001b[0m             \u001b[0;32melse\u001b[0m\u001b[0;34m:\u001b[0m\u001b[0;34m\u001b[0m\u001b[0m\n\u001b[1;32m   1512\u001b[0m                 \u001b[0mfhd\u001b[0m \u001b[0;34m=\u001b[0m \u001b[0miter\u001b[0m\u001b[0;34m(\u001b[0m\u001b[0mnp\u001b[0m\u001b[0;34m.\u001b[0m\u001b[0mlib\u001b[0m\u001b[0;34m.\u001b[0m\u001b[0m_datasource\u001b[0m\u001b[0;34m.\u001b[0m\u001b[0mopen\u001b[0m\u001b[0;34m(\u001b[0m\u001b[0mfname\u001b[0m\u001b[0;34m,\u001b[0m \u001b[0;34m'rb'\u001b[0m\u001b[0;34m)\u001b[0m\u001b[0;34m)\u001b[0m\u001b[0;34m\u001b[0m\u001b[0m\n",
      "\u001b[0;32m/Users/arturo/anaconda/lib/python2.7/site-packages/numpy/lib/_datasource.pyc\u001b[0m in \u001b[0;36mopen\u001b[0;34m(path, mode, destpath)\u001b[0m\n\u001b[1;32m    149\u001b[0m \u001b[0;34m\u001b[0m\u001b[0m\n\u001b[1;32m    150\u001b[0m     \u001b[0mds\u001b[0m \u001b[0;34m=\u001b[0m \u001b[0mDataSource\u001b[0m\u001b[0;34m(\u001b[0m\u001b[0mdestpath\u001b[0m\u001b[0;34m)\u001b[0m\u001b[0;34m\u001b[0m\u001b[0m\n\u001b[0;32m--> 151\u001b[0;31m     \u001b[0;32mreturn\u001b[0m \u001b[0mds\u001b[0m\u001b[0;34m.\u001b[0m\u001b[0mopen\u001b[0m\u001b[0;34m(\u001b[0m\u001b[0mpath\u001b[0m\u001b[0;34m,\u001b[0m \u001b[0mmode\u001b[0m\u001b[0;34m)\u001b[0m\u001b[0;34m\u001b[0m\u001b[0m\n\u001b[0m\u001b[1;32m    152\u001b[0m \u001b[0;34m\u001b[0m\u001b[0m\n\u001b[1;32m    153\u001b[0m \u001b[0;34m\u001b[0m\u001b[0m\n",
      "\u001b[0;32m/Users/arturo/anaconda/lib/python2.7/site-packages/numpy/lib/_datasource.pyc\u001b[0m in \u001b[0;36mopen\u001b[0;34m(self, path, mode)\u001b[0m\n\u001b[1;32m    499\u001b[0m             \u001b[0;32mreturn\u001b[0m \u001b[0m_file_openers\u001b[0m\u001b[0;34m[\u001b[0m\u001b[0mext\u001b[0m\u001b[0;34m]\u001b[0m\u001b[0;34m(\u001b[0m\u001b[0mfound\u001b[0m\u001b[0;34m,\u001b[0m \u001b[0mmode\u001b[0m\u001b[0;34m=\u001b[0m\u001b[0mmode\u001b[0m\u001b[0;34m)\u001b[0m\u001b[0;34m\u001b[0m\u001b[0m\n\u001b[1;32m    500\u001b[0m         \u001b[0;32melse\u001b[0m\u001b[0;34m:\u001b[0m\u001b[0;34m\u001b[0m\u001b[0m\n\u001b[0;32m--> 501\u001b[0;31m             \u001b[0;32mraise\u001b[0m \u001b[0mIOError\u001b[0m\u001b[0;34m(\u001b[0m\u001b[0;34m\"%s not found.\"\u001b[0m \u001b[0;34m%\u001b[0m \u001b[0mpath\u001b[0m\u001b[0;34m)\u001b[0m\u001b[0;34m\u001b[0m\u001b[0m\n\u001b[0m\u001b[1;32m    502\u001b[0m \u001b[0;34m\u001b[0m\u001b[0m\n\u001b[1;32m    503\u001b[0m \u001b[0;34m\u001b[0m\u001b[0m\n",
      "\u001b[0;31mIOError\u001b[0m: /Users/arturo/Dropbox/Research/SoftwareResearch/SNANA/Odyssey/home_snana/lowz/LOWZ_JRK07/salt2_fit/LOWZ_JRK07.FITRES.TEXT not found."
     ]
    }
   ],
   "source": [
    "file_1 = open(DirSaveOutput+'GP_subsample_.fitres','w')\n",
    "\n",
    "# Write down the SNANA headers:\n",
    "\n",
    "now = datetime.datetime.now() # Read the time and date right now\n",
    "text_timenow = now.strftime(\"%Y-%m-%d (yyyy-mm-dd); %H:%M hrs.\")\n",
    "text_line = '#'+'-'*50 + '\\n'\n",
    "\n",
    "# These two lines MUST be at the first ones on the text file in order to be \n",
    "# easily readed by \"SNANA_SALT2_DistanceMu_v1_1.ipynb\"\n",
    "if snana_version == 'v10_35g':\n",
    "    file_1.write('NVAR:  24 \\n')\n",
    "    file_1.write('VARNAMES: CID       z        zERR     x0           x0ERR        c      \\\n",
    "    cERR     x1      x1ERR   PKMJD   PKMJDERR mB      mBERR    COVx0x1     COVx0c      \\\n",
    "    COVx1c     CHI2   NDOF  FITPROB      SNRMAX1    SNRMAX2    SNRMAX3 IDSURVEY TYPE    \\n')\n",
    "    \n",
    "elif snana_version == 'v10_58g':\n",
    "    file_1.write('NVAR:  34 \\n')\n",
    "    file_1.write('VARNAMES: CID       z        zERR     x0           x0ERR        c      \\\n",
    "    cERR     x1      x1ERR   PKMJD   PKMJDERR mB      mBERR    COVx0x1     COVx0c      \\\n",
    "    COVx1c     CHI2   NDOF  FITPROB      SNRMAX1    SNRMAX2    SNRMAX3 IDSURVEY TYPE    \\n')\n",
    "    \n",
    "file_1.write(text_line)\n",
    "\n",
    "file_1.write('# SNANA-like \"fitres\" file created from selected SNe from the list: \\n')\n",
    "file_1.write('# %s \\n'%ListSNeToBeUsed)\n",
    "file_1.write('# %s = SNANA version used to for the computations. \\n'%snana_version)\n",
    "\n",
    "file_1.write('# Data table created by: Arturo Avelino \\n')\n",
    "file_1.write('# On date: %s \\n'%text_timenow)\n",
    "file_1.write('# Script used: %s \\n'%NotebookName)\n",
    "file_1.write(text_line)\n",
    "\n",
    "if ApplyCutoffs == True:\n",
    "    file_1.write(\"# Cutoff applied: %s < c < %s | %s < x1 < %s | x1ERR < %s,  \\n\"%\n",
    "                 (c_limits[0], c_limits[1], x1_limits[0], x1_limits[1], x1ERR_limits) )\n",
    "    file_1.write(\"# PKMJDERR < %s | FITPROB > %s. \\n\"%(PKMJDERR_limits, FITPROB_limits))\n",
    "    file_1.write(text_line)\n",
    "\n",
    "\n",
    "#---------------------------------------------------------\n",
    "\n",
    "countSN = 0; countSNeNoPassCuts=0;\n",
    "\n",
    "for i in range(len(ListSNe)):\n",
    "    name          = ListSNe['f0'][i]\n",
    "    snSnanaFolder = ListSNe['f2'][i]\n",
    "\n",
    "    # Read correctly the name of the SNe.\n",
    "    if   name[7] == '_': snName = name[2:7] # To read correctly, e.g., \"sn2011B\"\n",
    "    elif name[7] != '_':\n",
    "        # To read correctly, e.g., \"snf20080514-002\"\n",
    "        if is_number(name[7]): snName = name[2:15] \n",
    "        else: snName = name[2:8]  # To read correctly, e.g., \"sn1998bu\" \n",
    "    \n",
    "    Dir_int1 = DirSNANAFittedFolders+snSnanaFolder+'/salt2_fit/'\n",
    "    \n",
    "    if snana_version == 'v10_35g':\n",
    "        fitresFile = np.genfromtxt(Dir_int1+snSnanaFolder+'.fitres', skip_header=2,\n",
    "                                dtype=['S3', 'S15',\n",
    "                                      float, float, float, float, float, float, float,\n",
    "                                      float, float, float, float, float, float, float, float,\n",
    "                                      float, float, float, float, float, float, float, float ] )\n",
    "    elif snana_version == 'v10_58g':\n",
    "        fitresFile = np.genfromtxt(Dir_int1+snSnanaFolder+'.FITRES.TEXT', skip_header=8,\n",
    "                            dtype=['S3', 'S15', float, float, 'S4',\n",
    "                                  float, float, float, float, float,\n",
    "                                  float, float, float, float, float,\n",
    "                                  float, float, float, float, float,\n",
    "                                  float, float, float, float, float,\n",
    "                                  float, float, float, float, float,\n",
    "                                  float, float, float, float, float]) \n",
    "\n",
    "    # Find the index where the SN is located in the fitres file.\n",
    "    index_int = np.where(fitresFile['f1'] == snName)[0][0]\n",
    "            \n",
    "    if snana_version == 'v10_35g':\n",
    "        c_par  = fitresFile['f6'][index_int]\n",
    "        x1_par = fitresFile['f8'][index_int]\n",
    "        x1ERR_par = fitresFile['f9'][index_int]\n",
    "        PKMJDERR_par = fitresFile['f11'][index_int]\n",
    "        FITPROB_par  = fitresFile['f19'][index_int]\n",
    "        \n",
    "    elif snana_version == 'v10_58g':\n",
    "        c_par  = fitresFile['f23'][index_int]\n",
    "        x1_par = fitresFile['f21'][index_int]\n",
    "        x1ERR_par = fitresFile['f22'][index_int]\n",
    "        PKMJDERR_par = fitresFile['f20'][index_int]\n",
    "        FITPROB_par  = fitresFile['f34'][index_int]\n",
    "        \n",
    "\n",
    "    if ApplyCutoffs == True: # SNe that pass the cutoffs:\n",
    "        if (c_par > c_limits[0] and c_par < c_limits[1] and\n",
    "            x1_par > x1_limits[0] and x1_par < x1_limits[1] and\n",
    "            x1ERR_par < x1ERR_limits and PKMJDERR_par < PKMJDERR_limits and\n",
    "            FITPROB_par > FITPROB_limits):\n",
    "            \n",
    "            snName_print = 'SN: %-13s'%fitresFile['f1'][index_int]\n",
    "            countSN = countSN + 1\n",
    "\n",
    "        else: \n",
    "            snName_print = '## SN: %-13s'%fitresFile['f1'][index_int]\n",
    "            countSNeNoPassCuts += 1\n",
    "        \n",
    "    else: \n",
    "        snName_print = 'SN: %-13s'%fitresFile['f1'][index_int]\n",
    "        countSN = countSN + 1\n",
    "\n",
    "    if snana_version == 'v10_35g':\n",
    "    # Write down a line in the text list with all the fitres information for a given SN. \n",
    "        file_1.write('%s  %.5f  %.5f  %.5e  %.3e  %7.4f  %.4f  %7.4f  %.4f  %.3f  %.2f \\\n",
    "%.4f  %.4f  %10.3e  %10.3e  %10.3e  %5.1f  %4.0f  %.3e  %9.3f  %9.3f  %9.3f  %2.0f     %2.0f\\n'%(  \n",
    "        snName_print, fitresFile['f2'][index_int], fitresFile['f3'][index_int],\n",
    "        fitresFile['f4'][index_int], fitresFile['f5'][index_int], fitresFile['f6'][index_int],\n",
    "        fitresFile['f7'][index_int], fitresFile['f8'][index_int], fitresFile['f9'][index_int],\n",
    "        fitresFile['f10'][index_int], fitresFile['f11'][index_int],\n",
    "        fitresFile['f12'][index_int], fitresFile['f13'][index_int],\n",
    "        fitresFile['f14'][index_int], fitresFile['f15'][index_int], fitresFile['f16'][index_int],\n",
    "        fitresFile['f17'][index_int], fitresFile['f18'][index_int], fitresFile['f19'][index_int],\n",
    "        fitresFile['f20'][index_int], fitresFile['f21'][index_int], fitresFile['f22'][index_int],\n",
    "        fitresFile['f23'][index_int], fitresFile['f24'][index_int]  ))\n",
    "    \n",
    "    if snana_version == 'v10_58g':\n",
    "    # Write down a line in the text list with all the fitres information for a given SN. \n",
    "        file_1.write('%s  %.0f  %.0f  %s  %.0f  %0.5f  %.6f  %.5f  %.6f  %.5f  %.6f \\\n",
    "%.0f  %.0f  %10.5f  %10.5f  %10.4f  %10.4f  %10.4f  %10.3f  %6.3f  %12.4e   %12.4e  %12.4e  %12.4e \\\n",
    "%9.4f  %10.4e  %12.4e  %12.4e  %12.4e  %12.4e  %12.4e  %.0f  %10.4f  %12.4e \\n'%(  \n",
    "        snName_print, fitresFile['f2'][index_int], fitresFile['f3'][index_int],\n",
    "        fitresFile['f4'][index_int], fitresFile['f5'][index_int], fitresFile['f6'][index_int],\n",
    "        fitresFile['f7'][index_int], fitresFile['f8'][index_int], fitresFile['f9'][index_int],\n",
    "        fitresFile['f10'][index_int], fitresFile['f11'][index_int], fitresFile['f12'][index_int], \n",
    "        fitresFile['f13'][index_int], fitresFile['f14'][index_int], fitresFile['f15'][index_int], \n",
    "        fitresFile['f16'][index_int], fitresFile['f17'][index_int], fitresFile['f18'][index_int], \n",
    "        fitresFile['f19'][index_int], fitresFile['f20'][index_int], fitresFile['f21'][index_int], \n",
    "        fitresFile['f22'][index_int], fitresFile['f23'][index_int], fitresFile['f24'][index_int],\n",
    "        fitresFile['f25'][index_int], fitresFile['f26'][index_int], fitresFile['f27'][index_int],\n",
    "        fitresFile['f28'][index_int], fitresFile['f29'][index_int], fitresFile['f30'][index_int],\n",
    "        fitresFile['f31'][index_int], fitresFile['f32'][index_int], fitresFile['f33'][index_int],\n",
    "        fitresFile['f34'][index_int]))\n",
    "\n",
    "    print snName_print\n",
    "\n",
    "file_1.write(text_line)\n",
    "text_10 = '# %s SNe Ia passed the cutoffs (if applied). \\n'%countSN\n",
    "text_11 = \"# %s SNe Ia didn't pass the cutoffs (##).\"\n",
    "file_1.write(text_10); file_1.write(text_11)\n",
    "file_1.close()\n",
    "\n",
    "print text_10\n",
    "print text_11"
   ]
  },
  {
   "cell_type": "code",
   "execution_count": null,
   "metadata": {
    "collapsed": true
   },
   "outputs": [],
   "source": []
  },
  {
   "cell_type": "code",
   "execution_count": null,
   "metadata": {
    "collapsed": true
   },
   "outputs": [],
   "source": []
  },
  {
   "cell_type": "code",
   "execution_count": null,
   "metadata": {
    "collapsed": true
   },
   "outputs": [],
   "source": []
  },
  {
   "cell_type": "code",
   "execution_count": null,
   "metadata": {
    "collapsed": true
   },
   "outputs": [],
   "source": []
  }
 ],
 "metadata": {
  "kernelspec": {
   "display_name": "Python [default]",
   "language": "python",
   "name": "python2"
  },
  "language_info": {
   "codemirror_mode": {
    "name": "ipython",
    "version": 2
   },
   "file_extension": ".py",
   "mimetype": "text/x-python",
   "name": "python",
   "nbconvert_exporter": "python",
   "pygments_lexer": "ipython2",
   "version": "2.7.13"
  }
 },
 "nbformat": 4,
 "nbformat_minor": 2
}
