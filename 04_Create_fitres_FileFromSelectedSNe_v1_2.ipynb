{
 "cells": [
  {
   "cell_type": "markdown",
   "metadata": {},
   "source": [
    "# Create a SNANA \".fitres\" file from selected SNe\n",
    "\n",
    "The list then will be used as input in \"SNANA_SALT2_DistanceMu_v0_1.ipynb\" to compute the \n",
    "distance moduli, but over all, the RESIDUAL distance moduli from this particular subsample."
   ]
  },
  {
   "cell_type": "markdown",
   "metadata": {},
   "source": [
    "## User"
   ]
  },
  {
   "cell_type": "code",
   "execution_count": null,
   "metadata": {},
   "outputs": [],
   "source": [
    "import numpy as np\n",
    "\n",
    "# Directory where are located the list \"SNe_inGPHD_AndySample_Repeated_Notes_.txt\" \n",
    "# with the names of the SNe that I want to create the \".fitres\" file from.\n",
    "DirLists = '/Users/arturo/Dropbox/Research/SoftwareResearch/Snana/Odyssey/home_snana/lowz/'\n",
    "\n",
    "ListSNeToBeUsed = 'SNe_inGPHD_AndySample_Repeated_Notes_v3.txt'\n",
    "ListSNe = np.genfromtxt(DirLists+ListSNeToBeUsed, dtype=['S30', 'S43', 'S40'])\n",
    "\n",
    "DirSNANAFittedFolders = DirLists\n",
    "\n",
    "#######################################################\n",
    "\n",
    "#    CUTOFFS\n",
    "\n",
    "# Apply additional cutoffs to the sample?:\n",
    "ApplyCutoffs = True\n",
    "\n",
    "if ApplyCutoffs == True:\n",
    "    c_limits = -0.3, 0.3   # color\n",
    "    x1_limits = -3, 3   # light-curve parameter\n",
    "    x1ERR_limits = 1    # error in the light-curve parameter\n",
    "    PKMJDERR_limits = 2  # error in the determination of MJD at T_Bmax\n",
    "    FITPROB_limits = 0.001   # probability of the fit\n",
    "\n",
    "#######################################################\n",
    "    \n",
    "print '%s SNe in the list (regardless the cutoffs).'%len(ListSNe)\n",
    "# 50 SNe in the list."
   ]
  },
  {
   "cell_type": "code",
   "execution_count": null,
   "metadata": {},
   "outputs": [],
   "source": [
    "5+4"
   ]
  },
  {
   "cell_type": "markdown",
   "metadata": {},
   "source": [
    "-----"
   ]
  },
  {
   "cell_type": "markdown",
   "metadata": {
    "collapsed": true
   },
   "source": [
    "## Useful functions"
   ]
  },
  {
   "cell_type": "markdown",
   "metadata": {
    "collapsed": true
   },
   "source": [
    "#### Function to identify string or number"
   ]
  },
  {
   "cell_type": "code",
   "execution_count": null,
   "metadata": {},
   "outputs": [],
   "source": [
    "# Function to identify if a string is an integer number or a letter.\n",
    "# This will be used in the dictionary construction to properly read some SN names.\n",
    "\n",
    "def is_number(s):\n",
    "    try:\n",
    "        int(s)\n",
    "        return True\n",
    "    except ValueError:\n",
    "        return False\n",
    "\n",
    "# Tests\n",
    "print is_number('5'), is_number('e')\n",
    "# True False"
   ]
  },
  {
   "cell_type": "markdown",
   "metadata": {},
   "source": [
    "#### Get the name of this ipython notebook\n",
    "To print it in the output text files as reference"
   ]
  },
  {
   "cell_type": "code",
   "execution_count": null,
   "metadata": {},
   "outputs": [],
   "source": [
    "%%javascript\n",
    "var kernel = IPython.notebook.kernel;\n",
    "var thename = window.document.getElementById(\"notebook_name\").innerHTML;\n",
    "var command = \"NotebookName = \" + \"'\"+thename+\".ipynb\"+\"'\";\n",
    "kernel.execute(command);"
   ]
  },
  {
   "cell_type": "code",
   "execution_count": null,
   "metadata": {},
   "outputs": [],
   "source": [
    "print '#', (NotebookName)\n",
    "# Update_zcmb_in_SNANA_datafiles_v1_0.ipynb"
   ]
  },
  {
   "cell_type": "code",
   "execution_count": null,
   "metadata": {
    "collapsed": true
   },
   "outputs": [],
   "source": [
    "# Get the current date and time\n",
    "import datetime \n",
    "\n",
    "# Read the time and date now\n",
    "now = datetime.datetime.now()"
   ]
  },
  {
   "cell_type": "markdown",
   "metadata": {},
   "source": [
    "---------"
   ]
  },
  {
   "cell_type": "markdown",
   "metadata": {},
   "source": [
    "## Automatic"
   ]
  },
  {
   "cell_type": "code",
   "execution_count": null,
   "metadata": {
    "collapsed": true
   },
   "outputs": [],
   "source": [
    "if ApplyCutoffs == True:\n",
    "    DirSaveOutput = DirLists+'GaussianProcessSubsample/cutoffs_yes/'\n",
    "elif ApplyCutoffs == False:\n",
    "    DirSaveOutput = DirLists+'GaussianProcessSubsample/cutoffs_no/'\n",
    "    \n",
    "#- Force the creation of the directory to save the outputs.\n",
    "#- \"If the subdirectory does not exist then create it\"\n",
    "import os # To use command line like instructions\n",
    "if not os.path.exists(DirSaveOutput): os.makedirs(DirSaveOutput)"
   ]
  },
  {
   "cell_type": "code",
   "execution_count": null,
   "metadata": {
    "collapsed": true
   },
   "outputs": [],
   "source": []
  },
  {
   "cell_type": "markdown",
   "metadata": {},
   "source": [
    "#### Main loop"
   ]
  },
  {
   "cell_type": "code",
   "execution_count": null,
   "metadata": {},
   "outputs": [],
   "source": [
    "file_1 = open(DirSaveOutput+'GP_subsample_.fitres','w')\n",
    "\n",
    "# Write down the SNANA headers:\n",
    "\n",
    "now = datetime.datetime.now() # Read the time and date right now\n",
    "text_timenow = now.strftime(\"%Y-%m-%d (yyyy/mm/dd); %H:%M hrs.\")\n",
    "text_line = '#'+'-'*50 + '\\n'\n",
    "\n",
    "\n",
    "# These two lines MUST be at the first ones on the text file in order to be \n",
    "# easily readed by \"SNANA_SALT2_DistanceMu_v1_1.ipynb\"\n",
    "file_1.write('NVAR:  24 \\n')\n",
    "file_1.write('VARNAMES: CID       z        zERR     x0           x0ERR        c      \\\n",
    "cERR     x1      x1ERR   PKMJD   PKMJDERR mB      mBERR    COVx0x1     COVx0c      \\\n",
    "COVx1c     CHI2   NDOF  FITPROB      SNRMAX1    SNRMAX2    SNRMAX3 IDSURVEY TYPE    \\n')\n",
    "file_1.write(text_line)\n",
    "\n",
    "\n",
    "file_1.write('# SNANA-like \"fitres\" file created from selected SNe from the list: \\n')\n",
    "file_1.write('# %s \\n'%ListSNeToBeUsed)\n",
    "\n",
    "file_1.write('# Data table created by: Arturo Avelino \\n')\n",
    "file_1.write('# On date: %s \\n'%text_timenow)\n",
    "file_1.write('# Script used: %s \\n'%NotebookName)\n",
    "file_1.write(text_line)\n",
    "\n",
    "if ApplyCutoffs == True:\n",
    "    file_1.write(\"# Cutoff applied: %s < c < %s | %s < x1 < %s | x1ERR < %s,  \\n\"%\n",
    "                 (c_limits[0], c_limits[1], x1_limits[0], x1_limits[1], x1ERR_limits) )\n",
    "    file_1.write(\"# PKMJDERR < %s | FITPROB > %s. \\n\"%(PKMJDERR_limits, FITPROB_limits))\n",
    "    file_1.write(text_line)\n",
    "\n",
    "\n",
    "#---------------------------------------------------------\n",
    "\n",
    "countSN = 0\n",
    "for i in range(len(ListSNe)):\n",
    "    name          = ListSNe['f0'][i]\n",
    "    snSnanaFolder = ListSNe['f2'][i]\n",
    "\n",
    "    # Read correctly the name of the SNe.\n",
    "    if   name[7] == '_': snName = name[2:7] # To read correctly, e.g., \"sn2011B\"\n",
    "    elif name[7] != '_':\n",
    "        if is_number(name[7]): snName = name[2:15] # To read correctly, e.g., \"snf20080514-002\"\n",
    "        else: snName = name[2:8]  # To read correctly, e.g., \"sn1998bu\" \n",
    "    \n",
    "    Dir_int1 = DirSNANAFittedFolders+snSnanaFolder+'/'\n",
    "    \n",
    "    fitresFile = np.genfromtxt(Dir_int1+snSnanaFolder+'.fitres', skip_header=2,\n",
    "                                dtype=['S3', 'S15',\n",
    "                                      float, float, float, float, float, float, float,\n",
    "                                      float, float, float, float, float, float, float, float,\n",
    "                                      float, float, float, float, float, float, float, float]) \n",
    "\n",
    "    # Find the index where the SN is located in the fitres file.\n",
    "    index_int = np.where(fitresFile['f1'] == snName)[0][0]\n",
    "            \n",
    "    c_par  = fitresFile['f6'][index_int]\n",
    "    x1_par = fitresFile['f8'][index_int]\n",
    "    x1ERR_par = fitresFile['f9'][index_int]\n",
    "    PKMJDERR_par = fitresFile['f11'][index_int]\n",
    "    FITPROB_par  = fitresFile['f19'][index_int]\n",
    "\n",
    "    if ApplyCutoffs == True:\n",
    "        # SNe that pass the cutoffs:\n",
    "        if (c_par > c_limits[0] and c_par < c_limits[1] and\n",
    "            x1_par > x1_limits[0] and x1_par < x1_limits[1] and\n",
    "            x1ERR_par < x1ERR_limits and PKMJDERR_par < PKMJDERR_limits and\n",
    "            FITPROB_par > FITPROB_limits):\n",
    "            \n",
    "            snName_print = 'SN: %-13s'%fitresFile['f1'][index_int]\n",
    "            countSN = countSN + 1\n",
    "\n",
    "        else: \n",
    "            snName_print = '## SN: %-13s'%fitresFile['f1'][index_int]\n",
    "        \n",
    "    else: \n",
    "        snName_print = 'SN: %-13s'%fitresFile['f1'][index_int]\n",
    "        countSN = countSN + 1\n",
    "\n",
    "    # Write down a line in the text list with all the fitres information for a given SN. \n",
    "    file_1.write('%s  %.5f  %.5f  %.5e  %.3e  %7.4f  %.4f  %7.4f  %.4f  %.3f  %.2f \\\n",
    "%.4f  %.4f  %10.3e  %10.3e  %10.3e  %5.1f  %4.0f  %.3e  %9.3f  %9.3f  %9.3f  %2.0f     %2.0f\\n'%(  \n",
    "        snName_print, fitresFile['f2'][index_int], fitresFile['f3'][index_int],\n",
    "        fitresFile['f4'][index_int], fitresFile['f5'][index_int], fitresFile['f6'][index_int],\n",
    "        fitresFile['f7'][index_int], fitresFile['f8'][index_int], fitresFile['f9'][index_int],\n",
    "        fitresFile['f10'][index_int], fitresFile['f11'][index_int],\n",
    "        fitresFile['f12'][index_int], fitresFile['f13'][index_int],\n",
    "        fitresFile['f14'][index_int], fitresFile['f15'][index_int], fitresFile['f16'][index_int],\n",
    "        fitresFile['f17'][index_int], fitresFile['f18'][index_int], fitresFile['f19'][index_int],\n",
    "        fitresFile['f20'][index_int], fitresFile['f21'][index_int], fitresFile['f22'][index_int],\n",
    "        fitresFile['f23'][index_int], fitresFile['f24'][index_int]  ))\n",
    "\n",
    "    print snName_print\n",
    "    \n",
    "\n",
    "text_10 = '# %s SNe Ia passed the cutoffs (if applied). \\n'%countSN\n",
    "text_11 = \"# The commented SNe (##) didn't pass the cutoffs.\"\n",
    "file_1.write(text_10); file_1.write(text_11)\n",
    "file_1.close()\n",
    "\n",
    "print text_10\n",
    "print text_11"
   ]
  },
  {
   "cell_type": "code",
   "execution_count": null,
   "metadata": {
    "collapsed": true
   },
   "outputs": [],
   "source": []
  },
  {
   "cell_type": "code",
   "execution_count": null,
   "metadata": {
    "collapsed": true
   },
   "outputs": [],
   "source": []
  },
  {
   "cell_type": "code",
   "execution_count": null,
   "metadata": {
    "collapsed": true
   },
   "outputs": [],
   "source": []
  },
  {
   "cell_type": "code",
   "execution_count": null,
   "metadata": {
    "collapsed": true
   },
   "outputs": [],
   "source": []
  }
 ],
 "metadata": {
  "kernelspec": {
   "display_name": "Python 2",
   "language": "python",
   "name": "python2"
  },
  "language_info": {
   "codemirror_mode": {
    "name": "ipython",
    "version": 2
   },
   "file_extension": ".py",
   "mimetype": "text/x-python",
   "name": "python",
   "nbconvert_exporter": "python",
   "pygments_lexer": "ipython2",
   "version": "2.7.13"
  }
 },
 "nbformat": 4,
 "nbformat_minor": 1
}
